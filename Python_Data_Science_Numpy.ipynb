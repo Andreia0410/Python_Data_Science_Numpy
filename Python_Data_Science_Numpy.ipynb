{
 "cells": [
  {
   "cell_type": "markdown",
   "metadata": {
    "colab_type": "text",
    "id": "do3kUOLbltjE"
   },
   "source": [
    "# <font color=green> PYTHON PARA DATA SCIENCE - NUMPY\n",
    "---"
   ]
  },
  {
   "cell_type": "markdown",
   "metadata": {
    "colab_type": "text",
    "id": "umSz9TLxltjG"
   },
   "source": [
    "# <font color=green> 1. INTRODUÇÃO AO PYTHON\n",
    "---"
   ]
  },
  {
   "cell_type": "markdown",
   "metadata": {
    "colab_type": "text",
    "id": "gSnX12-sltjH"
   },
   "source": [
    "# 1.1 Introdução"
   ]
  },
  {
   "cell_type": "markdown",
   "metadata": {
    "colab_type": "text",
    "id": "SRG_k55kltjI"
   },
   "source": [
    "> Python é uma linguagem de programação de alto nível com suporte a múltiplos paradigmas de programação. É um projeto *open source* e desde seu surgimento, em 1991, vem se tornando uma das linguagens de programação interpretadas mais populares. \n",
    ">\n",
    "> Nos últimos anos Python desenvolveu uma comunidade ativa de processamento científico e análise de dados e vem se destacando como uma das linguagens mais relevantes quando o assunto é ciência de dados e machine learning, tanto no ambiente acadêmico como também no mercado."
   ]
  },
  {
   "cell_type": "markdown",
   "metadata": {
    "colab_type": "text",
    "id": "2oZuKvWkltjJ"
   },
   "source": [
    "# 1.2 Instalação e ambiente de desenvolvimento"
   ]
  },
  {
   "cell_type": "markdown",
   "metadata": {
    "colab_type": "text",
    "id": "v4P8bMEIltjK"
   },
   "source": [
    "### Instalação Local\n",
    "\n",
    "### https://www.python.org/downloads/\n",
    "### ou\n",
    "### https://www.anaconda.com/distribution/"
   ]
  },
  {
   "cell_type": "markdown",
   "metadata": {
    "colab_type": "text",
    "id": "FZtu5tjrltjL"
   },
   "source": [
    "### Google Colaboratory\n",
    "\n",
    "### https://colab.research.google.com"
   ]
  },
  {
   "cell_type": "markdown",
   "metadata": {
    "colab_type": "text",
    "id": "C6vbfq8DltjM"
   },
   "source": [
    "### Verificando versão"
   ]
  },
  {
   "cell_type": "code",
   "execution_count": 1,
   "metadata": {
    "colab": {
     "base_uri": "https://localhost:8080/",
     "height": 34
    },
    "colab_type": "code",
    "id": "jeuAt-4NltjM",
    "outputId": "10db37fd-b395-4601-8b7e-a71de7f9c040"
   },
   "outputs": [
    {
     "name": "stdout",
     "output_type": "stream",
     "text": [
      "Python 3.7.6\n"
     ]
    }
   ],
   "source": [
    "!python -V"
   ]
  },
  {
   "cell_type": "markdown",
   "metadata": {
    "colab_type": "text",
    "id": "v86aEyR2ltjR"
   },
   "source": [
    "# 1.3 Trabalhando com arrays Numpy"
   ]
  },
  {
   "cell_type": "code",
   "execution_count": 2,
   "metadata": {
    "colab": {},
    "colab_type": "code",
    "id": "OFaxgUptltjW",
    "scrolled": true
   },
   "outputs": [],
   "source": [
    "import numpy as np"
   ]
  },
  {
   "cell_type": "code",
   "execution_count": 3,
   "metadata": {
    "colab": {},
    "colab_type": "code",
    "id": "FXjYowRDltjZ"
   },
   "outputs": [],
   "source": [
    "km = np.loadtxt('carros-km.txt')"
   ]
  },
  {
   "cell_type": "code",
   "execution_count": 4,
   "metadata": {
    "colab": {
     "base_uri": "https://localhost:8080/",
     "height": 901
    },
    "colab_type": "code",
    "id": "f_d2Ya-vltjb",
    "outputId": "654adef7-b5b8-403a-916a-2fe0f797f5b3"
   },
   "outputs": [
    {
     "data": {
      "text/plain": [
       "array([4.44100e+04, 5.71200e+03, 3.71230e+04, 0.00000e+00, 2.57570e+04,\n",
       "       1.07280e+04, 0.00000e+00, 7.75990e+04, 9.91970e+04, 3.79780e+04,\n",
       "       1.28590e+04, 8.05200e+03, 8.97730e+04, 0.00000e+00, 4.14570e+04,\n",
       "       1.15607e+05, 4.64490e+04, 0.00000e+00, 3.70860e+04, 1.51730e+04,\n",
       "       1.01193e+05, 0.00000e+00, 9.80790e+04, 1.02959e+05, 0.00000e+00,\n",
       "       0.00000e+00, 5.79500e+03, 0.00000e+00, 5.88480e+04, 9.43810e+04,\n",
       "       3.01630e+04, 5.33320e+04, 1.77200e+04, 3.38080e+04, 9.06840e+04,\n",
       "       4.39750e+04, 0.00000e+00, 0.00000e+00, 5.52600e+03, 0.00000e+00,\n",
       "       9.34150e+04, 4.07620e+04, 0.00000e+00, 8.63020e+04, 0.00000e+00,\n",
       "       9.75500e+03, 6.99450e+04, 2.39500e+03, 0.00000e+00, 8.03490e+04,\n",
       "       8.55540e+04, 5.04960e+04, 6.77160e+04, 9.39470e+04, 3.53450e+04,\n",
       "       8.10070e+04, 1.19513e+05, 0.00000e+00, 0.00000e+00, 0.00000e+00,\n",
       "       0.00000e+00, 0.00000e+00, 1.18895e+05, 4.85090e+04, 1.00912e+05,\n",
       "       9.56490e+04, 0.00000e+00, 9.04950e+04, 0.00000e+00, 2.91320e+04,\n",
       "       2.38020e+04, 8.49920e+04, 5.43950e+04, 2.67310e+04, 4.43290e+04,\n",
       "       1.18236e+05, 1.13808e+05, 6.10000e+02, 0.00000e+00, 0.00000e+00,\n",
       "       1.28870e+04, 7.96070e+04, 9.09240e+04, 4.27330e+04, 0.00000e+00,\n",
       "       0.00000e+00, 1.17714e+05, 1.13885e+05, 0.00000e+00, 3.05110e+04,\n",
       "       7.48670e+04, 1.19760e+05, 8.35600e+03, 6.42470e+04, 8.86610e+04,\n",
       "       4.53900e+03, 1.10116e+05, 3.32150e+04, 9.20010e+04, 0.00000e+00,\n",
       "       8.17080e+04, 7.06410e+04, 0.00000e+00, 9.12770e+04, 2.65440e+04,\n",
       "       5.25960e+04, 4.75030e+04, 8.90560e+04, 2.88340e+04, 1.10564e+05,\n",
       "       5.66380e+04, 1.73570e+04, 7.40150e+04, 1.51960e+04, 0.00000e+00,\n",
       "       1.08210e+04, 0.00000e+00, 0.00000e+00, 9.59500e+03, 9.90520e+04,\n",
       "       5.23890e+04, 1.19945e+05, 9.60050e+04, 3.16390e+04, 0.00000e+00,\n",
       "       8.01870e+04, 0.00000e+00, 5.82120e+04, 6.16720e+04, 3.20170e+04,\n",
       "       0.00000e+00, 5.69440e+04, 0.00000e+00, 8.65190e+04, 4.82100e+03,\n",
       "       1.01025e+05, 3.07050e+04, 0.00000e+00, 3.25550e+04, 1.03389e+05,\n",
       "       0.00000e+00, 5.52890e+04, 0.00000e+00, 0.00000e+00, 1.15930e+05,\n",
       "       6.64370e+04, 9.68000e+04, 1.42370e+04, 1.98960e+04, 1.13045e+05,\n",
       "       1.14942e+05, 3.17300e+03, 8.36110e+04, 2.53560e+04, 8.86340e+04,\n",
       "       2.31400e+03, 2.62700e+03, 5.20340e+04, 0.00000e+00, 0.00000e+00,\n",
       "       7.95770e+04, 1.08201e+05, 7.64530e+04, 5.76830e+04, 9.66100e+04,\n",
       "       1.09001e+05, 2.62120e+04, 4.59710e+04, 4.91820e+04, 4.99070e+04,\n",
       "       3.86200e+04, 6.09960e+04, 7.39140e+04, 1.07392e+05, 9.14600e+03,\n",
       "       0.00000e+00, 1.79240e+04, 0.00000e+00, 1.16949e+05, 2.04760e+04,\n",
       "       5.28040e+04, 8.84900e+03, 9.17240e+04, 3.20560e+04, 7.48860e+04,\n",
       "       0.00000e+00, 0.00000e+00, 5.21890e+04, 8.35590e+04, 0.00000e+00,\n",
       "       2.03280e+04, 0.00000e+00, 7.55770e+04, 3.36590e+04, 1.04341e+05,\n",
       "       2.55100e+04, 1.89650e+04, 8.71610e+04, 6.65200e+03, 5.57380e+04,\n",
       "       0.00000e+00, 0.00000e+00, 0.00000e+00, 6.43200e+04, 0.00000e+00,\n",
       "       6.86780e+04, 7.16970e+04, 0.00000e+00, 3.47830e+04, 3.37720e+04,\n",
       "       8.51270e+04, 1.36060e+04, 3.56470e+04, 9.51280e+04, 1.40460e+04,\n",
       "       4.11940e+04, 0.00000e+00, 9.61000e+04, 1.03900e+05, 4.38140e+04,\n",
       "       2.46380e+04, 0.00000e+00, 1.10966e+05, 1.59870e+04, 5.33690e+04,\n",
       "       1.00770e+04, 7.15440e+04, 1.07000e+02, 8.39400e+03, 4.14980e+04,\n",
       "       1.16002e+05, 1.00858e+05, 6.74750e+04, 8.49700e+03, 4.42000e+03,\n",
       "       0.00000e+00, 5.85370e+04, 0.00000e+00, 0.00000e+00, 1.12016e+05,\n",
       "       9.18400e+04, 1.12787e+05, 0.00000e+00, 0.00000e+00, 9.29300e+03,\n",
       "       0.00000e+00, 5.50830e+04, 4.87960e+04, 0.00000e+00, 8.96850e+04,\n",
       "       8.53840e+04, 9.81080e+04, 7.12800e+04, 2.75050e+04, 2.99810e+04,\n",
       "       5.26370e+04, 7.68500e+03, 5.01880e+04])"
      ]
     },
     "execution_count": 4,
     "metadata": {},
     "output_type": "execute_result"
    }
   ],
   "source": [
    "km"
   ]
  },
  {
   "cell_type": "code",
   "execution_count": 5,
   "metadata": {
    "colab": {},
    "colab_type": "code",
    "id": "hxLZatdeltje"
   },
   "outputs": [],
   "source": [
    "anos = np.loadtxt('carros-anos.txt', dtype = int)"
   ]
  },
  {
   "cell_type": "code",
   "execution_count": 6,
   "metadata": {
    "colab": {
     "base_uri": "https://localhost:8080/",
     "height": 425
    },
    "colab_type": "code",
    "id": "GLsHBNakltjg",
    "outputId": "1949314f-2aa7-41a1-ae39-88acf7a352a5"
   },
   "outputs": [
    {
     "data": {
      "text/plain": [
       "array([2003, 1991, 1990, 2019, 2006, 2012, 2019, 2009, 2010, 2011, 2002,\n",
       "       2007, 2001, 2019, 2009, 2016, 2012, 2019, 2016, 2017, 2002, 2019,\n",
       "       1994, 1991, 2019, 2019, 2016, 2019, 2002, 1991, 1997, 1995, 2018,\n",
       "       1991, 2014, 1995, 2019, 2019, 2009, 2019, 2013, 2003, 2019, 2002,\n",
       "       2019, 2002, 2004, 2001, 2019, 2003, 2009, 2006, 2000, 2006, 2010,\n",
       "       1994, 2007, 2019, 2019, 2019, 2019, 2019, 2017, 2011, 2001, 1996,\n",
       "       2019, 1994, 2019, 2007, 1994, 2007, 1997, 2006, 2013, 1994, 2008,\n",
       "       2008, 2019, 2019, 1999, 2007, 1993, 1995, 2019, 2019, 2016, 2011,\n",
       "       2019, 2002, 2013, 2017, 2016, 2008, 2018, 2003, 2003, 2004, 2010,\n",
       "       2019, 2006, 2001, 2019, 2015, 2018, 2017, 1992, 2001, 1993, 1995,\n",
       "       2003, 2014, 2008, 2013, 2019, 2017, 2019, 2019, 2006, 2015, 2007,\n",
       "       2005, 2017, 1998, 2019, 1999, 2019, 2009, 2003, 1994, 2019, 1994,\n",
       "       2019, 2015, 1996, 1997, 1993, 2019, 1992, 1995, 2019, 1990, 2019,\n",
       "       2019, 1991, 1990, 2012, 2007, 2013, 2000, 2002, 1996, 1996, 2015,\n",
       "       1993, 2013, 2013, 2009, 2019, 2019, 2002, 1997, 1998, 2004, 1996,\n",
       "       2015, 2016, 2005, 1999, 1995, 1993, 2004, 2013, 1998, 2018, 2019,\n",
       "       2018, 2019, 1990, 2009, 1990, 2006, 2002, 1991, 1992, 2019, 2019,\n",
       "       2005, 2010, 2019, 2016, 2019, 2010, 1994, 2001, 2014, 1996, 1993,\n",
       "       1993, 2001, 2019, 2019, 2019, 2007, 2019, 2016, 2014, 2019, 2015,\n",
       "       2015, 1996, 2002, 2005, 1995, 1999, 2005, 2019, 1997, 1990, 2001,\n",
       "       2013, 2019, 2017, 2011, 2005, 2007, 1993, 1991, 1991, 1997, 2000,\n",
       "       2007, 2006, 2015, 2008, 2019, 1996, 2019, 2019, 2014, 2004, 2008,\n",
       "       2019, 2019, 2012, 2019, 1996, 2011, 2019, 2010, 2007, 1994, 2007,\n",
       "       2014, 1991, 2002, 1996, 1992])"
      ]
     },
     "execution_count": 6,
     "metadata": {},
     "output_type": "execute_result"
    }
   ],
   "source": [
    "anos"
   ]
  },
  {
   "cell_type": "markdown",
   "metadata": {
    "colab_type": "text",
    "id": "wMdUsAq4ltjs"
   },
   "source": [
    "### Obtendo a quilometragem média por ano"
   ]
  },
  {
   "cell_type": "code",
   "execution_count": 7,
   "metadata": {
    "colab": {
     "base_uri": "https://localhost:8080/",
     "height": 51
    },
    "colab_type": "code",
    "id": "cD2M3s3Fltjt",
    "outputId": "9a754639-9669-4a28-a73c-853c05a5a99b"
   },
   "outputs": [],
   "source": [
    "km_media = km / anos-2019"
   ]
  },
  {
   "cell_type": "code",
   "execution_count": 8,
   "metadata": {
    "colab": {
     "base_uri": "https://localhost:8080/",
     "height": 1000
    },
    "colab_type": "code",
    "id": "65IyPzKKltjv",
    "outputId": "5ef0bef8-189e-45b9-acc1-59a0178ed3a8"
   },
   "outputs": [
    {
     "data": {
      "text/plain": [
       "array([-1996.82825761, -2016.1310899 , -2000.34522613, -2019.        ,\n",
       "       -2006.16001994, -2013.66799205, -2019.        , -1980.37431558,\n",
       "       -1969.64825871, -2000.11486822, -2012.57692308, -2014.98804185,\n",
       "       -1974.13593203, -2019.        , -1998.36436038, -1961.65525794,\n",
       "       -1995.9140159 , -2019.        , -2000.60416667, -2011.47744175,\n",
       "       -1968.45404595, -2019.        , -1969.81293882, -1967.28779508,\n",
       "       -2019.        , -2019.        , -2016.12549603, -2019.        ,\n",
       "       -1989.60539461, -1971.59618282, -2003.89584377, -1992.26716792,\n",
       "       -2010.21902874, -2002.01958815, -1973.97318769, -1996.95739348,\n",
       "       -2019.        , -2019.        , -2016.2493778 , -2019.        ,\n",
       "       -1972.5941381 , -1998.64952571, -2019.        , -1975.89210789,\n",
       "       -2019.        , -2014.12737263, -1984.09730539, -2017.80309845,\n",
       "       -2019.        , -1978.88567149, -1976.41463415, -1993.82751745,\n",
       "       -1985.142     , -1972.166999  , -2001.41542289, -1978.37462387,\n",
       "       -1959.45191829, -2019.        , -2019.        , -2019.        ,\n",
       "       -2019.        , -2019.        , -1960.05354487, -1994.87817006,\n",
       "       -1968.56921539, -1971.07965932, -2019.        , -1973.61634905,\n",
       "       -2019.        , -2004.48480319, -2007.06318957, -1976.65221724,\n",
       "       -1991.76164246, -2005.67447657, -1996.97863885, -1959.70411234,\n",
       "       -1962.32270916, -2018.69621514, -2019.        , -2019.        ,\n",
       "       -2012.55327664, -1979.33532636, -1973.37832413, -1997.57994987,\n",
       "       -2019.        , -2019.        , -1960.61011905, -1962.36897066,\n",
       "       -2019.        , -2003.75974026, -1981.8082464 , -1959.62469013,\n",
       "       -2014.85515873, -1987.00448207, -1975.06491576, -2016.73389915,\n",
       "       -1964.02446331, -2002.4256487 , -1973.22835821, -2019.        ,\n",
       "       -1978.26819541, -1983.69715142, -2019.        , -1973.70124069,\n",
       "       -2005.84638256, -1992.92364898, -1995.15311245, -1974.49425287,\n",
       "       -2004.53236327, -1963.57944862, -1990.72341488, -2010.38182721,\n",
       "       -1982.13994024, -2011.45106806, -2019.        , -2013.63510164,\n",
       "       -2019.        , -2019.        , -2014.21684945, -1969.8426799 ,\n",
       "       -1992.89686099, -1959.17705736, -1971.4020823 , -2003.16466466,\n",
       "       -2019.        , -1978.88644322, -2019.        , -1990.02439024,\n",
       "       -1988.21018472, -2002.94332999, -2019.        , -1990.44232698,\n",
       "       -2019.        , -1976.06253102, -2016.58466934, -1968.41161743,\n",
       "       -2003.59357752, -2019.        , -2002.65712851, -1967.17593985,\n",
       "       -2019.        , -1991.21658291, -2019.        , -2019.        ,\n",
       "       -1960.7729784 , -1985.61457286, -1970.88866799, -2011.90632785,\n",
       "       -2009.11624441, -1962.4775    , -1961.58641359, -2017.41032064,\n",
       "       -1977.11072144, -2006.41637717, -1974.52734571, -2017.85047193,\n",
       "       -2017.69498261, -1993.09955202, -2019.        , -2019.        ,\n",
       "       -1979.25124875, -1964.81822734, -1980.73523524, -1990.21606786,\n",
       "       -1970.59819639, -1964.90521092, -2005.99801587, -1996.07182045,\n",
       "       -1994.39669835, -1993.9839599 , -1999.62217762, -1988.56287425,\n",
       "       -1982.28166915, -1965.25025025, -2014.46778989, -2019.        ,\n",
       "       -2010.11793855, -2019.        , -1960.23165829, -2008.80786461,\n",
       "       -1992.46532663, -2014.5887338 , -1973.18381618, -2002.89954797,\n",
       "       -1981.40662651, -2019.        , -2019.        , -1992.97057357,\n",
       "       -1977.42835821, -2019.        , -2008.91666667, -2019.        ,\n",
       "       -1981.39950249, -2002.11985958, -1966.85557221, -2006.33366435,\n",
       "       -2009.49849699, -1975.26643251, -2015.66231811, -1991.14492754,\n",
       "       -2019.        , -2019.        , -2019.        , -1986.95216741,\n",
       "       -2019.        , -1984.93353175, -1983.40069513, -2019.        ,\n",
       "       -2001.73796526, -2002.23970223, -1976.3512024 , -2012.2037962 ,\n",
       "       -2001.22094763, -1971.31679198, -2011.97348674, -1998.45436409,\n",
       "       -2019.        , -1970.87781673, -1966.78894472, -1997.10394803,\n",
       "       -2006.76055638, -2019.        , -1963.98463064, -2011.05022377,\n",
       "       -1992.38204489, -2013.97907324, -1983.10235825, -2018.94625816,\n",
       "       -2014.78402813, -1998.21982974, -1960.999     , -1968.7468859 ,\n",
       "       -1985.36340977, -2014.78312655, -2016.79880478, -2019.        ,\n",
       "       -1989.67284569, -2019.        , -2019.        , -1963.38133069,\n",
       "       -1973.17165669, -1962.8311753 , -2019.        , -2019.        ,\n",
       "       -2014.38121272, -2019.        , -1991.40330661, -1994.735455  ,\n",
       "       -2019.        , -1974.38059701, -1976.45690085, -1969.79839519,\n",
       "       -1983.48430493, -2005.34309831, -2003.94173782, -1992.70779221,\n",
       "       -2015.1497996 , -1993.80522088])"
      ]
     },
     "execution_count": 8,
     "metadata": {},
     "output_type": "execute_result"
    }
   ],
   "source": [
    "km_media"
   ]
  },
  {
   "cell_type": "code",
   "execution_count": 9,
   "metadata": {
    "colab": {
     "base_uri": "https://localhost:8080/",
     "height": 34
    },
    "colab_type": "code",
    "id": "Z0JCmAWvltjy",
    "outputId": "cfda0665-ac65-4073-84b0-eb204f2fffd6"
   },
   "outputs": [
    {
     "data": {
      "text/plain": [
       "numpy.ndarray"
      ]
     },
     "execution_count": 9,
     "metadata": {},
     "output_type": "execute_result"
    }
   ],
   "source": [
    "type(km_media)"
   ]
  },
  {
   "cell_type": "markdown",
   "metadata": {
    "colab_type": "text",
    "id": "KdG5NmmGltj0"
   },
   "source": [
    "# <font color=green> 2. CARACTERÍSTICAS BÁSICAS DA LINGUAGEM\n",
    "---"
   ]
  },
  {
   "cell_type": "markdown",
   "metadata": {
    "colab_type": "text",
    "id": "X1K5kisFltj1"
   },
   "source": [
    "# 2.1 Operações matemáticas\n",
    "\n",
    "### Operadores aritméticos: $+$, $-$, $*$, $/$, $**$, $\\%$, $//$"
   ]
  },
  {
   "cell_type": "markdown",
   "metadata": {
    "colab_type": "text",
    "id": "8YCDVpbYltj1"
   },
   "source": [
    "### Adição ($+$)"
   ]
  },
  {
   "cell_type": "code",
   "execution_count": 10,
   "metadata": {
    "colab": {
     "base_uri": "https://localhost:8080/",
     "height": 34
    },
    "colab_type": "code",
    "id": "h6DsMqhaltj2",
    "outputId": "b0317bf0-24f0-4d9b-d829-271ba5cfce3b"
   },
   "outputs": [
    {
     "data": {
      "text/plain": [
       "4"
      ]
     },
     "execution_count": 10,
     "metadata": {},
     "output_type": "execute_result"
    }
   ],
   "source": [
    "2 + 2"
   ]
  },
  {
   "cell_type": "markdown",
   "metadata": {
    "colab_type": "text",
    "id": "WeJG-WJBltj8"
   },
   "source": [
    "### Subtração ($-$)"
   ]
  },
  {
   "cell_type": "code",
   "execution_count": 11,
   "metadata": {
    "colab": {
     "base_uri": "https://localhost:8080/",
     "height": 34
    },
    "colab_type": "code",
    "id": "zoB7_OcRltj9",
    "outputId": "4213c523-33da-43dd-afa6-3cc29801fab1"
   },
   "outputs": [
    {
     "data": {
      "text/plain": [
       "0"
      ]
     },
     "execution_count": 11,
     "metadata": {},
     "output_type": "execute_result"
    }
   ],
   "source": [
    "2 - 2"
   ]
  },
  {
   "cell_type": "markdown",
   "metadata": {
    "colab_type": "text",
    "id": "zuv8N7fjltkC"
   },
   "source": [
    "### Multiplicação ($*$)"
   ]
  },
  {
   "cell_type": "code",
   "execution_count": 12,
   "metadata": {
    "colab": {
     "base_uri": "https://localhost:8080/",
     "height": 34
    },
    "colab_type": "code",
    "id": "TAWG7xSTltkD",
    "outputId": "40174276-b103-4cd6-f917-c28b77885c7e"
   },
   "outputs": [
    {
     "data": {
      "text/plain": [
       "6"
      ]
     },
     "execution_count": 12,
     "metadata": {},
     "output_type": "execute_result"
    }
   ],
   "source": [
    "2 * 3"
   ]
  },
  {
   "cell_type": "markdown",
   "metadata": {
    "colab_type": "text",
    "id": "dMp7BsnwltkF"
   },
   "source": [
    "### Divisão ($/$) e ($//$)\n",
    "A operação divisão sempre retorna um número de ponto flutuante"
   ]
  },
  {
   "cell_type": "code",
   "execution_count": 13,
   "metadata": {
    "colab": {
     "base_uri": "https://localhost:8080/",
     "height": 34
    },
    "colab_type": "code",
    "id": "DD5kx3H3ltkF",
    "outputId": "724d22b1-1510-490e-e705-cc046d7fb2c8"
   },
   "outputs": [
    {
     "data": {
      "text/plain": [
       "3.3333333333333335"
      ]
     },
     "execution_count": 13,
     "metadata": {},
     "output_type": "execute_result"
    }
   ],
   "source": [
    "10 / 3"
   ]
  },
  {
   "cell_type": "code",
   "execution_count": 14,
   "metadata": {
    "colab": {
     "base_uri": "https://localhost:8080/",
     "height": 34
    },
    "colab_type": "code",
    "id": "ji0CYH3UltkI",
    "outputId": "b436553f-ad70-4fcd-e4da-7578a373c2be"
   },
   "outputs": [
    {
     "data": {
      "text/plain": [
       "3"
      ]
     },
     "execution_count": 14,
     "metadata": {},
     "output_type": "execute_result"
    }
   ],
   "source": [
    "10 // 3"
   ]
  },
  {
   "cell_type": "markdown",
   "metadata": {
    "colab_type": "text",
    "id": "3DSO7TcvltkL"
   },
   "source": [
    "### Exponenciação ($**$)"
   ]
  },
  {
   "cell_type": "code",
   "execution_count": 15,
   "metadata": {
    "colab": {
     "base_uri": "https://localhost:8080/",
     "height": 34
    },
    "colab_type": "code",
    "id": "tBKvl2TWltkM",
    "outputId": "2e51e963-5afe-412e-9895-5a2bc5e689e9"
   },
   "outputs": [
    {
     "data": {
      "text/plain": [
       "8"
      ]
     },
     "execution_count": 15,
     "metadata": {},
     "output_type": "execute_result"
    }
   ],
   "source": [
    "2 ** 3"
   ]
  },
  {
   "cell_type": "markdown",
   "metadata": {
    "colab_type": "text",
    "id": "MhD56p-9ltkQ"
   },
   "source": [
    "### Resto da divisão ($\\%$)"
   ]
  },
  {
   "cell_type": "code",
   "execution_count": 16,
   "metadata": {
    "colab": {
     "base_uri": "https://localhost:8080/",
     "height": 34
    },
    "colab_type": "code",
    "id": "bfa7phO6ltkR",
    "outputId": "ddbc98b0-7a39-4ad6-b503-03f26c55b5dd"
   },
   "outputs": [
    {
     "data": {
      "text/plain": [
       "1"
      ]
     },
     "execution_count": 16,
     "metadata": {},
     "output_type": "execute_result"
    }
   ],
   "source": [
    "10 % 3"
   ]
  },
  {
   "cell_type": "code",
   "execution_count": 17,
   "metadata": {
    "colab": {
     "base_uri": "https://localhost:8080/",
     "height": 34
    },
    "colab_type": "code",
    "id": "khIEx6olltkT",
    "outputId": "dceb7020-95e5-4816-9ee9-079509471cda"
   },
   "outputs": [
    {
     "data": {
      "text/plain": [
       "0"
      ]
     },
     "execution_count": 17,
     "metadata": {},
     "output_type": "execute_result"
    }
   ],
   "source": [
    "10 % 2"
   ]
  },
  {
   "cell_type": "markdown",
   "metadata": {
    "colab_type": "text",
    "id": "8pVVp5fsltkV"
   },
   "source": [
    "### Expressões matemáticas"
   ]
  },
  {
   "cell_type": "code",
   "execution_count": 18,
   "metadata": {
    "colab": {
     "base_uri": "https://localhost:8080/",
     "height": 34
    },
    "colab_type": "code",
    "id": "jlQTk4gNltkW",
    "outputId": "abd58817-1e82-4b18-9fb0-be5a499d688b"
   },
   "outputs": [
    {
     "data": {
      "text/plain": [
       "16"
      ]
     },
     "execution_count": 18,
     "metadata": {},
     "output_type": "execute_result"
    }
   ],
   "source": [
    "5 * 2 + 3 * 2"
   ]
  },
  {
   "cell_type": "code",
   "execution_count": 19,
   "metadata": {
    "colab": {
     "base_uri": "https://localhost:8080/",
     "height": 34
    },
    "colab_type": "code",
    "id": "kkCb6Crgltka",
    "outputId": "61eeae14-ff2e-4dac-b3a1-4240b255c9ca"
   },
   "outputs": [
    {
     "data": {
      "text/plain": [
       "16"
      ]
     },
     "execution_count": 19,
     "metadata": {},
     "output_type": "execute_result"
    }
   ],
   "source": [
    "(5 * 2) + (3 * 2)"
   ]
  },
  {
   "cell_type": "code",
   "execution_count": 20,
   "metadata": {
    "colab": {
     "base_uri": "https://localhost:8080/",
     "height": 34
    },
    "colab_type": "code",
    "id": "UD12tlgAltkd",
    "outputId": "c71e4ffe-b760-4655-b4a1-957c5f05cceb"
   },
   "outputs": [
    {
     "data": {
      "text/plain": [
       "50"
      ]
     },
     "execution_count": 20,
     "metadata": {},
     "output_type": "execute_result"
    }
   ],
   "source": [
    "5 * (2 + 3) * 2"
   ]
  },
  {
   "cell_type": "markdown",
   "metadata": {
    "colab_type": "text",
    "id": "a5tKQ5Beltkf"
   },
   "source": [
    "### A variável _\n",
    "\n",
    "No modo interativo, o último resultado impresso é atribuído à variável _"
   ]
  },
  {
   "cell_type": "code",
   "execution_count": 21,
   "metadata": {
    "colab": {
     "base_uri": "https://localhost:8080/",
     "height": 34
    },
    "colab_type": "code",
    "id": "VkHEx516ltkg",
    "outputId": "043d4bd8-6f3b-44de-a2fc-6ce09b42518a"
   },
   "outputs": [
    {
     "data": {
      "text/plain": [
       "10"
      ]
     },
     "execution_count": 21,
     "metadata": {},
     "output_type": "execute_result"
    }
   ],
   "source": [
    "5 * 2"
   ]
  },
  {
   "cell_type": "code",
   "execution_count": 22,
   "metadata": {
    "colab": {
     "base_uri": "https://localhost:8080/",
     "height": 34
    },
    "colab_type": "code",
    "id": "dFShsobXltki",
    "outputId": "8ca0f3da-55c5-4e06-b4aa-493b3ba6238d"
   },
   "outputs": [
    {
     "data": {
      "text/plain": [
       "16"
      ]
     },
     "execution_count": 22,
     "metadata": {},
     "output_type": "execute_result"
    }
   ],
   "source": [
    "_ + 3 * 2"
   ]
  },
  {
   "cell_type": "code",
   "execution_count": 23,
   "metadata": {
    "colab": {
     "base_uri": "https://localhost:8080/",
     "height": 34
    },
    "colab_type": "code",
    "id": "hJIpR3KUltkk",
    "outputId": "581a22a8-2997-43be-d896-2a5e5e4da109"
   },
   "outputs": [
    {
     "data": {
      "text/plain": [
       "8.0"
      ]
     },
     "execution_count": 23,
     "metadata": {},
     "output_type": "execute_result"
    }
   ],
   "source": [
    "_ / 2"
   ]
  },
  {
   "cell_type": "markdown",
   "metadata": {
    "colab_type": "text",
    "id": "MUrQAf6Mltkm"
   },
   "source": [
    "# 2.2 Variáveis "
   ]
  },
  {
   "cell_type": "markdown",
   "metadata": {
    "colab_type": "text",
    "id": "qaVLKIeultkn"
   },
   "source": [
    "### Nomes de variáveis\n",
    "\n",
    "- Nomes de variáveis pode começar com letras (a - z, A - Z) ou o caractere *underscore* (_):\n",
    "\n",
    "    > Altura\n",
    "    >\n",
    "    > _peso\n",
    "    \n",
    "- O restante do nome pode conter letras, números e o caractere \"_\":\n",
    "\n",
    "    > nome_da_variavel\n",
    "    >\n",
    "    > _valor\n",
    "    >\n",
    "    > dia_28_11_\n",
    "    \n",
    "\n",
    "- O nomes são *case sensitive*:\n",
    "\n",
    "    > Nome_Da_Variável $\\ne$ nome_da_variavel $\\ne$ NOME_DA_VARIAVEL\n",
    "    \n",
    "### <font color=red>Observações:\n",
    "- Existem algumas palavras reservadas da linguagem que não podem ser utilizadas como nomes de variável:\n",
    "\n",
    "| |Lista de palavras <br>reservadas em Python| |\n",
    "|:-------------:|:------------:|:-------------:|\n",
    "| and           | as           | not           | \n",
    "| assert        | finally      | or            | \n",
    "| break         | for          | pass          | \n",
    "| class         | from         | nonlocal      | \n",
    "| continue      | global       | raise         | \n",
    "| def           | if           | return        | \n",
    "| del           | import       | try           | \n",
    "| elif          | in           | while         | \n",
    "| else          | is           | with          | \n",
    "| except        | lambda       | yield         | \n",
    "| False         | True         | None          | "
   ]
  },
  {
   "cell_type": "markdown",
   "metadata": {
    "colab_type": "text",
    "id": "3frWjfAtltkn"
   },
   "source": [
    "### Declaração de variáveis\n",
    "\n",
    "### Operadores de atribuição: $=$, $+=$, $-=$, $*=$, $/=$, $**=$, $\\%=$, $//=$"
   ]
  },
  {
   "cell_type": "code",
   "execution_count": 24,
   "metadata": {
    "colab": {},
    "colab_type": "code",
    "id": "7VIcrXNHltko"
   },
   "outputs": [],
   "source": [
    "ano_atual = 2019\n",
    "ano_fabricacao = 2003\n",
    "km_total = 44410.0"
   ]
  },
  {
   "cell_type": "code",
   "execution_count": 25,
   "metadata": {
    "colab": {
     "base_uri": "https://localhost:8080/",
     "height": 34
    },
    "colab_type": "code",
    "id": "atVoqp6bltkq",
    "outputId": "ed2b4e61-5d17-48d9-fd11-e2d2aa2c913e"
   },
   "outputs": [
    {
     "data": {
      "text/plain": [
       "2019"
      ]
     },
     "execution_count": 25,
     "metadata": {},
     "output_type": "execute_result"
    }
   ],
   "source": [
    "ano_atual"
   ]
  },
  {
   "cell_type": "code",
   "execution_count": 26,
   "metadata": {
    "colab": {
     "base_uri": "https://localhost:8080/",
     "height": 34
    },
    "colab_type": "code",
    "id": "_t82qXrOltkt",
    "outputId": "0e21ae36-9808-4266-9630-c231c0ad0f85"
   },
   "outputs": [
    {
     "data": {
      "text/plain": [
       "2003"
      ]
     },
     "execution_count": 26,
     "metadata": {},
     "output_type": "execute_result"
    }
   ],
   "source": [
    "ano_fabricacao"
   ]
  },
  {
   "cell_type": "code",
   "execution_count": 27,
   "metadata": {
    "colab": {
     "base_uri": "https://localhost:8080/",
     "height": 34
    },
    "colab_type": "code",
    "id": "1anwuDHiltkv",
    "outputId": "e199bf88-a3c6-4ac3-b11f-14f9e10ad4ff"
   },
   "outputs": [
    {
     "data": {
      "text/plain": [
       "44410.0"
      ]
     },
     "execution_count": 27,
     "metadata": {},
     "output_type": "execute_result"
    }
   ],
   "source": [
    "km_total"
   ]
  },
  {
   "cell_type": "markdown",
   "metadata": {
    "colab_type": "text",
    "id": "gCBkfq_8ltky"
   },
   "source": [
    "# $$km_{média} = \\frac {km_{total}}{(Ano_{atual} - Ano_{fabricação})}$$"
   ]
  },
  {
   "cell_type": "markdown",
   "metadata": {
    "colab_type": "text",
    "id": "zswWS4hNltky"
   },
   "source": [
    "### Operações com variáveis"
   ]
  },
  {
   "cell_type": "code",
   "execution_count": 28,
   "metadata": {
    "colab": {
     "base_uri": "https://localhost:8080/",
     "height": 34
    },
    "colab_type": "code",
    "id": "HxxU0rnfltkz",
    "outputId": "f3a56ba9-50ae-4d03-fa16-b3e51531e263"
   },
   "outputs": [
    {
     "data": {
      "text/plain": [
       "2775.625"
      ]
     },
     "execution_count": 28,
     "metadata": {},
     "output_type": "execute_result"
    }
   ],
   "source": [
    "km_media = km_total / (ano_atual - ano_fabricacao)\n",
    "km_media"
   ]
  },
  {
   "cell_type": "code",
   "execution_count": 29,
   "metadata": {
    "colab": {
     "base_uri": "https://localhost:8080/",
     "height": 34
    },
    "colab_type": "code",
    "id": "_2Qhb32jltk1",
    "outputId": "64d6c010-9f12-4233-bb56-da89ad4fe558"
   },
   "outputs": [
    {
     "data": {
      "text/plain": [
       "2775.625"
      ]
     },
     "execution_count": 29,
     "metadata": {},
     "output_type": "execute_result"
    }
   ],
   "source": [
    "ano_atual = 2019\n",
    "ano_fabricacao = 2003\n",
    "km_total = 44410.0\n",
    "km_media = km_total / (ano_atual - ano_fabricacao)\n",
    "km_media"
   ]
  },
  {
   "cell_type": "code",
   "execution_count": 30,
   "metadata": {
    "colab": {
     "base_uri": "https://localhost:8080/",
     "height": 34
    },
    "colab_type": "code",
    "id": "nCJzA7dyltk3",
    "outputId": "855a0c22-c99a-41cc-b3ac-9370601fe2d6"
   },
   "outputs": [
    {
     "data": {
      "text/plain": [
       "47185.625"
      ]
     },
     "execution_count": 30,
     "metadata": {},
     "output_type": "execute_result"
    }
   ],
   "source": [
    "ano_atual = 2019\n",
    "ano_fabricacao = 2003\n",
    "km_total = 44410.0\n",
    "km_media = km_total / (ano_atual - ano_fabricacao)\n",
    "\n",
    "km_total = km_total + km_media\n",
    "km_total"
   ]
  },
  {
   "cell_type": "code",
   "execution_count": 31,
   "metadata": {
    "colab": {
     "base_uri": "https://localhost:8080/",
     "height": 34
    },
    "colab_type": "code",
    "id": "ifRwQ0vEltk9",
    "outputId": "649bb85f-75b4-4edd-e686-db4ee5fa34b9"
   },
   "outputs": [
    {
     "data": {
      "text/plain": [
       "47185.625"
      ]
     },
     "execution_count": 31,
     "metadata": {},
     "output_type": "execute_result"
    }
   ],
   "source": [
    "ano_atual = 2019\n",
    "ano_fabricacao = 2003\n",
    "km_total = 44410.0\n",
    "km_media = km_total / (ano_atual - ano_fabricacao)\n",
    "\n",
    "km_total += km_media\n",
    "km_total"
   ]
  },
  {
   "cell_type": "markdown",
   "metadata": {
    "colab_type": "text",
    "id": "fDBrHWSBltlB"
   },
   "source": [
    "### Conclusão:\n",
    "```\n",
    "\"valor = valor + 1\" é equivalente a \"valor += 1\"\n",
    "```"
   ]
  },
  {
   "cell_type": "markdown",
   "metadata": {
    "colab_type": "text",
    "id": "uVAyJbmAltlC"
   },
   "source": [
    "### Declaração múltipla"
   ]
  },
  {
   "cell_type": "code",
   "execution_count": 32,
   "metadata": {
    "colab": {},
    "colab_type": "code",
    "id": "oMWEzjPOltlC"
   },
   "outputs": [],
   "source": [
    "ano_atual, ano_fabricacao, km_total = 2019, 2003, 44410.0"
   ]
  },
  {
   "cell_type": "code",
   "execution_count": 33,
   "metadata": {
    "colab": {
     "base_uri": "https://localhost:8080/",
     "height": 34
    },
    "colab_type": "code",
    "id": "9ZKlHkLultlE",
    "outputId": "9677e531-b75b-418c-ac4c-a5d99a45b73c"
   },
   "outputs": [
    {
     "data": {
      "text/plain": [
       "2019"
      ]
     },
     "execution_count": 33,
     "metadata": {},
     "output_type": "execute_result"
    }
   ],
   "source": [
    "ano_atual"
   ]
  },
  {
   "cell_type": "code",
   "execution_count": 34,
   "metadata": {
    "colab": {
     "base_uri": "https://localhost:8080/",
     "height": 34
    },
    "colab_type": "code",
    "id": "-mcMuW9nltlG",
    "outputId": "3e4a92bf-b3e3-46a9-8a21-846a5c02a66c"
   },
   "outputs": [
    {
     "data": {
      "text/plain": [
       "2003"
      ]
     },
     "execution_count": 34,
     "metadata": {},
     "output_type": "execute_result"
    }
   ],
   "source": [
    "ano_fabricacao"
   ]
  },
  {
   "cell_type": "code",
   "execution_count": 35,
   "metadata": {
    "colab": {
     "base_uri": "https://localhost:8080/",
     "height": 34
    },
    "colab_type": "code",
    "id": "WFFavLIvltlL",
    "outputId": "ba455478-18c9-4ee7-cf36-a2337fd9f458"
   },
   "outputs": [
    {
     "data": {
      "text/plain": [
       "44410.0"
      ]
     },
     "execution_count": 35,
     "metadata": {},
     "output_type": "execute_result"
    }
   ],
   "source": [
    "km_total"
   ]
  },
  {
   "cell_type": "code",
   "execution_count": 36,
   "metadata": {
    "colab": {
     "base_uri": "https://localhost:8080/",
     "height": 34
    },
    "colab_type": "code",
    "id": "iFawOJe6ltlO",
    "outputId": "1bee6477-1f2c-466b-989e-59093a749b00"
   },
   "outputs": [
    {
     "data": {
      "text/plain": [
       "2775.625"
      ]
     },
     "execution_count": 36,
     "metadata": {},
     "output_type": "execute_result"
    }
   ],
   "source": [
    "ano_atual, ano_fabricacao, km_total = 2019, 2003, 44410.0\n",
    "km_media = km_total / (ano_atual - ano_fabricacao)\n",
    "km_media"
   ]
  },
  {
   "cell_type": "markdown",
   "metadata": {
    "colab_type": "text",
    "id": "uoRXMeRDltlQ"
   },
   "source": [
    "# 2.3 Tipos de dados"
   ]
  },
  {
   "cell_type": "markdown",
   "metadata": {
    "colab_type": "text",
    "id": "sW_G6EjWltlQ"
   },
   "source": [
    "Os tipos de dados especificam como números e caracteres serão armazenados e manipulados dentro de um programa. Os tipos de dados básicos do Python são:\n",
    "\n",
    "1. **Números**\n",
    "    1. ***int*** - Inteiros\n",
    "    - ***float*** - Ponto flutuante\n",
    "- **Booleanos** - Assume os valores True ou False. Essencial quando começarmos a trabalhar com declarações condicionais\n",
    "- ***Strings*** - Sequência de um ou mais caracteres que pode incluir letras, números e outros tipos de caracteres. Representa um texto.\n",
    "- **None** - Representa a ausência de valor"
   ]
  },
  {
   "cell_type": "markdown",
   "metadata": {
    "colab_type": "text",
    "id": "-HRRxQOtltlQ"
   },
   "source": [
    "### Números"
   ]
  },
  {
   "cell_type": "code",
   "execution_count": 37,
   "metadata": {
    "colab": {},
    "colab_type": "code",
    "id": "5PKIcIuUltlR"
   },
   "outputs": [],
   "source": [
    "ano_atual = 2019"
   ]
  },
  {
   "cell_type": "code",
   "execution_count": 38,
   "metadata": {
    "colab": {
     "base_uri": "https://localhost:8080/",
     "height": 34
    },
    "colab_type": "code",
    "id": "G32Yd1g0ltlT",
    "outputId": "63c67a82-9ecd-48ad-9a2f-86dfad59d92f"
   },
   "outputs": [
    {
     "data": {
      "text/plain": [
       "int"
      ]
     },
     "execution_count": 38,
     "metadata": {},
     "output_type": "execute_result"
    }
   ],
   "source": [
    "type(ano_atual)"
   ]
  },
  {
   "cell_type": "code",
   "execution_count": 39,
   "metadata": {
    "colab": {},
    "colab_type": "code",
    "id": "b9_v__dEltlV"
   },
   "outputs": [],
   "source": [
    "km_total = 44410.0"
   ]
  },
  {
   "cell_type": "code",
   "execution_count": 40,
   "metadata": {
    "colab": {
     "base_uri": "https://localhost:8080/",
     "height": 34
    },
    "colab_type": "code",
    "id": "A0nySb3LltlZ",
    "outputId": "e9e0e9a1-e4d4-4aff-9a86-5e04198ad435"
   },
   "outputs": [
    {
     "data": {
      "text/plain": [
       "float"
      ]
     },
     "execution_count": 40,
     "metadata": {},
     "output_type": "execute_result"
    }
   ],
   "source": [
    "type(km_total)"
   ]
  },
  {
   "cell_type": "markdown",
   "metadata": {
    "colab_type": "text",
    "id": "7X9iheAnltld"
   },
   "source": [
    "### Booleanos"
   ]
  },
  {
   "cell_type": "code",
   "execution_count": 41,
   "metadata": {
    "colab": {},
    "colab_type": "code",
    "id": "liUYdchPltle"
   },
   "outputs": [],
   "source": [
    "zero_km = True"
   ]
  },
  {
   "cell_type": "code",
   "execution_count": 42,
   "metadata": {
    "colab": {
     "base_uri": "https://localhost:8080/",
     "height": 34
    },
    "colab_type": "code",
    "id": "oZIQAghaltlh",
    "outputId": "e1207fde-4be1-4e38-8893-60f4831825e8"
   },
   "outputs": [
    {
     "data": {
      "text/plain": [
       "bool"
      ]
     },
     "execution_count": 42,
     "metadata": {},
     "output_type": "execute_result"
    }
   ],
   "source": [
    "type(zero_km)"
   ]
  },
  {
   "cell_type": "code",
   "execution_count": 43,
   "metadata": {
    "colab": {},
    "colab_type": "code",
    "id": "XCAYApe3ltlj"
   },
   "outputs": [],
   "source": [
    "zero_km = False"
   ]
  },
  {
   "cell_type": "code",
   "execution_count": 44,
   "metadata": {
    "colab": {
     "base_uri": "https://localhost:8080/",
     "height": 34
    },
    "colab_type": "code",
    "id": "mJ0nGEV7ltll",
    "outputId": "559fdea4-ccce-4dab-f76f-e40c14f66688"
   },
   "outputs": [
    {
     "data": {
      "text/plain": [
       "bool"
      ]
     },
     "execution_count": 44,
     "metadata": {},
     "output_type": "execute_result"
    }
   ],
   "source": [
    "type(zero_km)"
   ]
  },
  {
   "cell_type": "markdown",
   "metadata": {
    "colab_type": "text",
    "id": "Ipjq4eiSltlp"
   },
   "source": [
    "### Strings"
   ]
  },
  {
   "cell_type": "code",
   "execution_count": 45,
   "metadata": {
    "colab": {
     "base_uri": "https://localhost:8080/",
     "height": 34
    },
    "colab_type": "code",
    "id": "OeW_GQzOltlr",
    "outputId": "debd835d-abf2-49dc-b507-b0aec7eb788a"
   },
   "outputs": [
    {
     "data": {
      "text/plain": [
       "'Jetta Variant'"
      ]
     },
     "execution_count": 45,
     "metadata": {},
     "output_type": "execute_result"
    }
   ],
   "source": [
    "nome = 'Jetta Variant'\n",
    "nome"
   ]
  },
  {
   "cell_type": "code",
   "execution_count": 46,
   "metadata": {
    "colab": {
     "base_uri": "https://localhost:8080/",
     "height": 34
    },
    "colab_type": "code",
    "id": "xF1Bi-Rkltlu",
    "outputId": "98e21c44-bb61-42df-909e-772447004ca6"
   },
   "outputs": [
    {
     "data": {
      "text/plain": [
       "'Jetta Variant'"
      ]
     },
     "execution_count": 46,
     "metadata": {},
     "output_type": "execute_result"
    }
   ],
   "source": [
    "nome = \"Jetta Variant\"\n",
    "nome"
   ]
  },
  {
   "cell_type": "code",
   "execution_count": 47,
   "metadata": {
    "colab": {
     "base_uri": "https://localhost:8080/",
     "height": 34
    },
    "colab_type": "code",
    "id": "QlobSFUtltlw",
    "outputId": "02061ee6-c50e-45c5-c912-62c5dad75920"
   },
   "outputs": [
    {
     "data": {
      "text/plain": [
       "'Jetta \"Variant\"'"
      ]
     },
     "execution_count": 47,
     "metadata": {},
     "output_type": "execute_result"
    }
   ],
   "source": [
    "nome = 'Jetta \"Variant\"'\n",
    "nome"
   ]
  },
  {
   "cell_type": "code",
   "execution_count": 48,
   "metadata": {
    "colab": {
     "base_uri": "https://localhost:8080/",
     "height": 34
    },
    "colab_type": "code",
    "id": "8LBWzzfbltly",
    "outputId": "82a8efdd-825e-4511-fd9f-8d29361da3b0"
   },
   "outputs": [
    {
     "data": {
      "text/plain": [
       "\"Jetta 'Variant'\""
      ]
     },
     "execution_count": 48,
     "metadata": {},
     "output_type": "execute_result"
    }
   ],
   "source": [
    "nome = \"Jetta 'Variant'\"\n",
    "nome"
   ]
  },
  {
   "cell_type": "code",
   "execution_count": 49,
   "metadata": {
    "colab": {},
    "colab_type": "code",
    "id": "ycEhoxtUltl0"
   },
   "outputs": [],
   "source": [
    "carro = '''\n",
    "  Nome\n",
    "  Idade\n",
    "  Nota\n",
    "'''"
   ]
  },
  {
   "cell_type": "code",
   "execution_count": 50,
   "metadata": {
    "colab": {
     "base_uri": "https://localhost:8080/",
     "height": 34
    },
    "colab_type": "code",
    "id": "bjZQzpuUltl2",
    "outputId": "7bbe2675-cacf-4b59-d4e2-0d861c1ad958"
   },
   "outputs": [
    {
     "data": {
      "text/plain": [
       "str"
      ]
     },
     "execution_count": 50,
     "metadata": {},
     "output_type": "execute_result"
    }
   ],
   "source": [
    "type(carro)"
   ]
  },
  {
   "cell_type": "markdown",
   "metadata": {
    "colab_type": "text",
    "id": "w6bJU-R9ltl5"
   },
   "source": [
    "### None"
   ]
  },
  {
   "cell_type": "code",
   "execution_count": 51,
   "metadata": {
    "colab": {},
    "colab_type": "code",
    "id": "RgeVhXGxltl5"
   },
   "outputs": [],
   "source": [
    "quilometragem = None\n",
    "quilometragem"
   ]
  },
  {
   "cell_type": "code",
   "execution_count": 52,
   "metadata": {
    "colab": {
     "base_uri": "https://localhost:8080/",
     "height": 34
    },
    "colab_type": "code",
    "id": "MJI6PKS6ltl8",
    "outputId": "b7e0d847-ef10-43ba-e36c-c2e481b95898"
   },
   "outputs": [
    {
     "data": {
      "text/plain": [
       "NoneType"
      ]
     },
     "execution_count": 52,
     "metadata": {},
     "output_type": "execute_result"
    }
   ],
   "source": [
    "type(quilometragem)"
   ]
  },
  {
   "cell_type": "markdown",
   "metadata": {
    "colab_type": "text",
    "id": "_ilupwV-ltl-"
   },
   "source": [
    "# 2.4 Conversão de tipos"
   ]
  },
  {
   "cell_type": "code",
   "execution_count": 53,
   "metadata": {
    "colab": {},
    "colab_type": "code",
    "id": "D5hq5Qbvltl-"
   },
   "outputs": [],
   "source": [
    "a = 10\n",
    "b = 20\n",
    "c = 'Python é '\n",
    "d = 'legal'"
   ]
  },
  {
   "cell_type": "code",
   "execution_count": 54,
   "metadata": {
    "colab": {
     "base_uri": "https://localhost:8080/",
     "height": 34
    },
    "colab_type": "code",
    "id": "aJ0vi8_Nltl_",
    "outputId": "d473a9b7-31e3-448d-f520-3e4d583e8625"
   },
   "outputs": [
    {
     "data": {
      "text/plain": [
       "int"
      ]
     },
     "execution_count": 54,
     "metadata": {},
     "output_type": "execute_result"
    }
   ],
   "source": [
    "type(a)"
   ]
  },
  {
   "cell_type": "code",
   "execution_count": 55,
   "metadata": {
    "colab": {
     "base_uri": "https://localhost:8080/",
     "height": 34
    },
    "colab_type": "code",
    "id": "29FVH7p7ltmB",
    "outputId": "aa213039-0b1f-40e5-dbbe-94e7b7fe872d"
   },
   "outputs": [
    {
     "data": {
      "text/plain": [
       "int"
      ]
     },
     "execution_count": 55,
     "metadata": {},
     "output_type": "execute_result"
    }
   ],
   "source": [
    "type(b)"
   ]
  },
  {
   "cell_type": "code",
   "execution_count": 56,
   "metadata": {
    "colab": {
     "base_uri": "https://localhost:8080/",
     "height": 34
    },
    "colab_type": "code",
    "id": "NGseTO2SltmC",
    "outputId": "50672ce2-61db-4427-81b6-e1f3c36868da"
   },
   "outputs": [
    {
     "data": {
      "text/plain": [
       "str"
      ]
     },
     "execution_count": 56,
     "metadata": {},
     "output_type": "execute_result"
    }
   ],
   "source": [
    "type(c)"
   ]
  },
  {
   "cell_type": "code",
   "execution_count": 57,
   "metadata": {
    "colab": {
     "base_uri": "https://localhost:8080/",
     "height": 34
    },
    "colab_type": "code",
    "id": "yaSBhwNWltmE",
    "outputId": "a5e2a755-4e72-4a8a-c2e4-bb68080ba459"
   },
   "outputs": [
    {
     "data": {
      "text/plain": [
       "str"
      ]
     },
     "execution_count": 57,
     "metadata": {},
     "output_type": "execute_result"
    }
   ],
   "source": [
    "type(d)"
   ]
  },
  {
   "cell_type": "code",
   "execution_count": 58,
   "metadata": {
    "colab": {
     "base_uri": "https://localhost:8080/",
     "height": 34
    },
    "colab_type": "code",
    "id": "5zMXVwLHltmF",
    "outputId": "25b74b99-108c-4d1a-e0d4-b130f9924479"
   },
   "outputs": [
    {
     "data": {
      "text/plain": [
       "30"
      ]
     },
     "execution_count": 58,
     "metadata": {},
     "output_type": "execute_result"
    }
   ],
   "source": [
    "a + b"
   ]
  },
  {
   "cell_type": "code",
   "execution_count": 59,
   "metadata": {
    "colab": {
     "base_uri": "https://localhost:8080/",
     "height": 34
    },
    "colab_type": "code",
    "id": "JJrqKRZFltmJ",
    "outputId": "390b513d-3bb4-41f3-d8a4-2e9263fd2970"
   },
   "outputs": [
    {
     "data": {
      "text/plain": [
       "'Python é legal'"
      ]
     },
     "execution_count": 59,
     "metadata": {},
     "output_type": "execute_result"
    }
   ],
   "source": [
    "c + d"
   ]
  },
  {
   "cell_type": "code",
   "execution_count": 60,
   "metadata": {
    "colab": {},
    "colab_type": "code",
    "id": "QDZzu0A813ax"
   },
   "outputs": [],
   "source": [
    "# c + a"
   ]
  },
  {
   "cell_type": "markdown",
   "metadata": {
    "colab_type": "text",
    "id": "dByigpENltmO"
   },
   "source": [
    "### Conversões de tipo\n",
    "\n",
    "Funções int(), float(), str()"
   ]
  },
  {
   "cell_type": "code",
   "execution_count": 61,
   "metadata": {
    "colab": {
     "base_uri": "https://localhost:8080/",
     "height": 34
    },
    "colab_type": "code",
    "id": "MtecvWlsltmP",
    "outputId": "7fa1e3fd-6377-4031-cfb0-420ca3f46df6"
   },
   "outputs": [
    {
     "data": {
      "text/plain": [
       "'10'"
      ]
     },
     "execution_count": 61,
     "metadata": {},
     "output_type": "execute_result"
    }
   ],
   "source": [
    "str(a)"
   ]
  },
  {
   "cell_type": "code",
   "execution_count": 62,
   "metadata": {
    "colab": {
     "base_uri": "https://localhost:8080/",
     "height": 34
    },
    "colab_type": "code",
    "id": "S1NuIhDVltmS",
    "outputId": "f471dbc0-3c19-4ece-cf1b-b5c942458817"
   },
   "outputs": [
    {
     "data": {
      "text/plain": [
       "str"
      ]
     },
     "execution_count": 62,
     "metadata": {},
     "output_type": "execute_result"
    }
   ],
   "source": [
    "type(str(a))"
   ]
  },
  {
   "cell_type": "code",
   "execution_count": 63,
   "metadata": {
    "colab": {
     "base_uri": "https://localhost:8080/",
     "height": 34
    },
    "colab_type": "code",
    "id": "3kCUD1X-ltmT",
    "outputId": "6e909b4d-99e0-4eed-9c18-1b01a6688b0f"
   },
   "outputs": [
    {
     "data": {
      "text/plain": [
       "'Python é 10'"
      ]
     },
     "execution_count": 63,
     "metadata": {},
     "output_type": "execute_result"
    }
   ],
   "source": [
    "c + str(a)"
   ]
  },
  {
   "cell_type": "code",
   "execution_count": 64,
   "metadata": {
    "colab": {
     "base_uri": "https://localhost:8080/",
     "height": 34
    },
    "colab_type": "code",
    "id": "TTjSEVRaltmU",
    "outputId": "51f710b2-e55c-4d2a-82c4-bed7f0c593c9"
   },
   "outputs": [
    {
     "data": {
      "text/plain": [
       "10.0"
      ]
     },
     "execution_count": 64,
     "metadata": {},
     "output_type": "execute_result"
    }
   ],
   "source": [
    "float(a)"
   ]
  },
  {
   "cell_type": "code",
   "execution_count": 65,
   "metadata": {
    "colab": {},
    "colab_type": "code",
    "id": "P1P1bXaYltmV"
   },
   "outputs": [],
   "source": [
    "var = 3.141592"
   ]
  },
  {
   "cell_type": "code",
   "execution_count": 66,
   "metadata": {
    "colab": {
     "base_uri": "https://localhost:8080/",
     "height": 34
    },
    "colab_type": "code",
    "id": "F_8Cn0aAltmW",
    "outputId": "2a3e7efb-d332-4b10-ab2e-8936ad2d7496"
   },
   "outputs": [
    {
     "data": {
      "text/plain": [
       "3"
      ]
     },
     "execution_count": 66,
     "metadata": {},
     "output_type": "execute_result"
    }
   ],
   "source": [
    "int(var)"
   ]
  },
  {
   "cell_type": "code",
   "execution_count": 67,
   "metadata": {
    "colab": {},
    "colab_type": "code",
    "id": "_KA6MUgmltmY"
   },
   "outputs": [],
   "source": [
    "var = 3.99"
   ]
  },
  {
   "cell_type": "code",
   "execution_count": 68,
   "metadata": {
    "colab": {
     "base_uri": "https://localhost:8080/",
     "height": 34
    },
    "colab_type": "code",
    "id": "7uiCxqUcltma",
    "outputId": "273cd3c3-9686-49bf-92d2-7c1363a7e095"
   },
   "outputs": [
    {
     "data": {
      "text/plain": [
       "3"
      ]
     },
     "execution_count": 68,
     "metadata": {},
     "output_type": "execute_result"
    }
   ],
   "source": [
    "int(var)"
   ]
  },
  {
   "cell_type": "markdown",
   "metadata": {
    "colab_type": "text",
    "id": "gGpflJMYltmd"
   },
   "source": [
    "# 2.5 Indentação, comentários e formatação de *strings*"
   ]
  },
  {
   "cell_type": "markdown",
   "metadata": {
    "colab_type": "text",
    "id": "XbijUgqVltmw"
   },
   "source": [
    "### Indentação\n",
    "\n",
    "Na linguagem Python os programas são estruturados por meio de indentação. Em qualquer linguagem de programação a prática da indentação é bastante útil, facilitando a leitura e também a manutenção do código. Em Python a indentação não é somente uma questão de organização e estilo, mas sim um requisito da linguagem."
   ]
  },
  {
   "cell_type": "code",
   "execution_count": 69,
   "metadata": {
    "colab": {
     "base_uri": "https://localhost:8080/",
     "height": 34
    },
    "colab_type": "code",
    "id": "DqXANnyultmw",
    "outputId": "81632c2d-9919-4713-8099-411c48945e64"
   },
   "outputs": [
    {
     "name": "stdout",
     "output_type": "stream",
     "text": [
      "Verdadeiro\n"
     ]
    }
   ],
   "source": [
    "ano_atual = 2019\n",
    "ano_fabricacao = 2019\n",
    "\n",
    "if (ano_atual == ano_fabricacao):\n",
    "  print('Verdadeiro')\n",
    "else:\n",
    "  print('Falso')"
   ]
  },
  {
   "cell_type": "markdown",
   "metadata": {
    "colab_type": "text",
    "id": "dNBfv7x7ltmy"
   },
   "source": [
    "### Comentários\n",
    "\n",
    "Comentários são extremamente importantes em um programa. Consiste em um texto que descreve o que o programa ou uma parte específica do programa está fazendo. Os comentários são ignorados pelo interpretador Python. \n",
    "\n",
    "Podemos ter comentários de uma única linha ou de múltiplas linhas."
   ]
  },
  {
   "cell_type": "code",
   "execution_count": 70,
   "metadata": {
    "colab": {
     "base_uri": "https://localhost:8080/",
     "height": 34
    },
    "colab_type": "code",
    "id": "GN3DfwiRltmy",
    "outputId": "a8194e87-0ce8-4bee-a03a-7a6cd8f5a3e3"
   },
   "outputs": [
    {
     "data": {
      "text/plain": [
       "2019"
      ]
     },
     "execution_count": 70,
     "metadata": {},
     "output_type": "execute_result"
    }
   ],
   "source": [
    "# Isto é um comentário\n",
    "ano_atual = 2019\n",
    "ano_atual"
   ]
  },
  {
   "cell_type": "code",
   "execution_count": 71,
   "metadata": {
    "colab": {
     "base_uri": "https://localhost:8080/",
     "height": 34
    },
    "colab_type": "code",
    "id": "PICBiohFltm2",
    "outputId": "74fa6861-10e2-4eda-9ade-ec6bafbb537f"
   },
   "outputs": [
    {
     "data": {
      "text/plain": [
       "2019"
      ]
     },
     "execution_count": 71,
     "metadata": {},
     "output_type": "execute_result"
    }
   ],
   "source": [
    "# Isto\n",
    "# é um \n",
    "# comentário\n",
    "ano_atual = 2019\n",
    "ano_atual"
   ]
  },
  {
   "cell_type": "code",
   "execution_count": 72,
   "metadata": {
    "colab": {
     "base_uri": "https://localhost:8080/",
     "height": 34
    },
    "colab_type": "code",
    "id": "PTkJ4Vjultm4",
    "outputId": "1b125254-516d-499e-9e7f-e04988b875a2"
   },
   "outputs": [
    {
     "data": {
      "text/plain": [
       "2019"
      ]
     },
     "execution_count": 72,
     "metadata": {},
     "output_type": "execute_result"
    }
   ],
   "source": [
    "'''Isto é um\n",
    "comentário'''\n",
    "ano_atual = 2019\n",
    "ano_atual"
   ]
  },
  {
   "cell_type": "code",
   "execution_count": 73,
   "metadata": {
    "colab": {
     "base_uri": "https://localhost:8080/",
     "height": 34
    },
    "colab_type": "code",
    "id": "SYEGdALxltm5",
    "outputId": "9d205531-813f-41d4-bdf5-264759f5f2d5"
   },
   "outputs": [
    {
     "name": "stdout",
     "output_type": "stream",
     "text": [
      "Verdadeiro\n"
     ]
    }
   ],
   "source": [
    "# Definindo variáveis\n",
    "ano_atual = 2019\n",
    "ano_fabricacao = 2019\n",
    "\n",
    "'''\n",
    "Estrutura condicional que vamos \n",
    "aprender na próxima aula\n",
    "'''\n",
    "if (ano_atual == ano_fabricacao):   # Testando se condição é verdadeira\n",
    "  print('Verdadeiro')\n",
    "else:                               # Testando se condição é falsa\n",
    "  print('Falso')"
   ]
  },
  {
   "cell_type": "markdown",
   "metadata": {
    "colab_type": "text",
    "id": "8--bcJ01ltm8"
   },
   "source": [
    "### Formatação de *strings*"
   ]
  },
  {
   "cell_type": "markdown",
   "metadata": {
    "colab_type": "text",
    "id": "CMovhJZ_ltnG"
   },
   "source": [
    "## *str.format()*\n",
    "\n",
    "https://docs.python.org/3.6/library/stdtypes.html#str.format"
   ]
  },
  {
   "cell_type": "code",
   "execution_count": 74,
   "metadata": {
    "colab": {
     "base_uri": "https://localhost:8080/",
     "height": 34
    },
    "colab_type": "code",
    "id": "N12xmMehltnG",
    "outputId": "38bbc20b-52e8-4a89-b09f-570577ab012f"
   },
   "outputs": [
    {
     "name": "stdout",
     "output_type": "stream",
     "text": [
      "Olá, Rodrigo!\n"
     ]
    }
   ],
   "source": [
    "print('Olá, {}!'.format('Rodrigo'))"
   ]
  },
  {
   "cell_type": "code",
   "execution_count": 75,
   "metadata": {
    "colab": {
     "base_uri": "https://localhost:8080/",
     "height": 34
    },
    "colab_type": "code",
    "id": "mRBmU9G1ltnJ",
    "outputId": "6a615c5f-5ee5-4160-b013-91522183072b"
   },
   "outputs": [
    {
     "name": "stdout",
     "output_type": "stream",
     "text": [
      "Olá, Rodrigo! Este é seu acesso de número 32\n"
     ]
    }
   ],
   "source": [
    "print('Olá, {}! Este é seu acesso de número {}'.format('Rodrigo', 32))"
   ]
  },
  {
   "cell_type": "code",
   "execution_count": 76,
   "metadata": {
    "colab": {
     "base_uri": "https://localhost:8080/",
     "height": 34
    },
    "colab_type": "code",
    "id": "wpqEsTwnltnL",
    "outputId": "26a1dcbc-ae20-429e-ff06-c96d04c99381"
   },
   "outputs": [
    {
     "name": "stdout",
     "output_type": "stream",
     "text": [
      "Olá, Rodrigo! Este é seu acesso de número 32\n"
     ]
    }
   ],
   "source": [
    "print('Olá, {nome}! Este é seu acesso de número {acessos}'.format(nome = 'Rodrigo', acessos = 32))"
   ]
  },
  {
   "cell_type": "markdown",
   "metadata": {
    "colab_type": "text",
    "id": "V-wPNUN9ltnN"
   },
   "source": [
    "## *f-Strings*\n",
    "\n",
    "https://docs.python.org/3.6/reference/lexical_analysis.html#f-strings"
   ]
  },
  {
   "cell_type": "code",
   "execution_count": 77,
   "metadata": {
    "colab": {},
    "colab_type": "code",
    "id": "7Fq_WPv0ltnO"
   },
   "outputs": [],
   "source": [
    "nome = 'Rodrigo'\n",
    "acessos = 32"
   ]
  },
  {
   "cell_type": "code",
   "execution_count": 78,
   "metadata": {
    "colab": {
     "base_uri": "https://localhost:8080/",
     "height": 34
    },
    "colab_type": "code",
    "id": "bE3qbd6WltnR",
    "outputId": "fbf2be99-cee1-4498-e901-7ef82cfa42df"
   },
   "outputs": [
    {
     "name": "stdout",
     "output_type": "stream",
     "text": [
      "Olá, Rodrigo! Este é seu acesso de número 32\n"
     ]
    }
   ],
   "source": [
    "print(f'Olá, {nome}! Este é seu acesso de número {acessos}')"
   ]
  },
  {
   "cell_type": "markdown",
   "metadata": {
    "colab_type": "text",
    "id": "_IZuNE48ltnS"
   },
   "source": [
    "# <font color=green> 3. TRABALHANDO COM LISTAS\n",
    "---"
   ]
  },
  {
   "cell_type": "markdown",
   "metadata": {
    "colab_type": "text",
    "id": "zhS89xysltnS"
   },
   "source": [
    "# 3.1 Criando listas\n",
    "\n",
    "Listas são sequências **mutáveis** que são utilizadas para armazenar coleções de itens, geralmente homogêneos. Podem ser construídas de várias formas:\n",
    "```\n",
    "- Utilizando um par de colchetes: [ ], [ 1 ]\n",
    "- Utilizando um par de colchetes com itens separados por vírgulas: [ 1, 2, 3 ]\n",
    "```"
   ]
  },
  {
   "cell_type": "code",
   "execution_count": 79,
   "metadata": {
    "colab": {
     "base_uri": "https://localhost:8080/",
     "height": 153
    },
    "colab_type": "code",
    "id": "aE4UWF10ltnS",
    "outputId": "1c27be59-52b0-4016-c38b-c773e44c1b8d"
   },
   "outputs": [
    {
     "data": {
      "text/plain": [
       "['Rodas de liga',\n",
       " 'Travas elétricas',\n",
       " 'Piloto automático',\n",
       " 'Bancos de couro',\n",
       " 'Ar condicionado',\n",
       " 'Sensor de estacionamento',\n",
       " 'Sensor crepuscular',\n",
       " 'Sensor de chuva']"
      ]
     },
     "execution_count": 79,
     "metadata": {},
     "output_type": "execute_result"
    }
   ],
   "source": [
    "Acessorios = ['Rodas de liga', 'Travas elétricas', 'Piloto automático', 'Bancos de couro', 'Ar condicionado', 'Sensor de estacionamento', 'Sensor crepuscular', 'Sensor de chuva']\n",
    "Acessorios"
   ]
  },
  {
   "cell_type": "code",
   "execution_count": 80,
   "metadata": {
    "colab": {
     "base_uri": "https://localhost:8080/",
     "height": 34
    },
    "colab_type": "code",
    "id": "pP7P-9Nfq-Pp",
    "outputId": "de4eac13-491f-4b90-c335-74a5fd80dd00"
   },
   "outputs": [
    {
     "data": {
      "text/plain": [
       "list"
      ]
     },
     "execution_count": 80,
     "metadata": {},
     "output_type": "execute_result"
    }
   ],
   "source": [
    "type(Acessorios)"
   ]
  },
  {
   "cell_type": "markdown",
   "metadata": {
    "colab_type": "text",
    "id": "Mmlkh5TVltnT"
   },
   "source": [
    "### Lista com tipos de dados variados"
   ]
  },
  {
   "cell_type": "code",
   "execution_count": 81,
   "metadata": {
    "colab": {},
    "colab_type": "code",
    "id": "Mfpu7NoJltnT"
   },
   "outputs": [],
   "source": [
    "Carro_1 = ['Jetta Variant', 'Motor 4.0 Turbo', 2003, 44410.0, False, ['Rodas de liga', 'Travas elétricas', 'Piloto automático'], 88078.64]\n",
    "Carro_2 = ['Passat', 'Motor Diesel', 1991, 5712.0, False, ['Central multimídia', 'Teto panorâmico', 'Freios ABS'], 106161.94]"
   ]
  },
  {
   "cell_type": "code",
   "execution_count": 82,
   "metadata": {
    "colab": {
     "base_uri": "https://localhost:8080/",
     "height": 136
    },
    "colab_type": "code",
    "id": "EJSJFJjKltnV",
    "outputId": "5a7be390-e75c-4c36-934a-ce3b8d28a837"
   },
   "outputs": [
    {
     "data": {
      "text/plain": [
       "['Jetta Variant',\n",
       " 'Motor 4.0 Turbo',\n",
       " 2003,\n",
       " 44410.0,\n",
       " False,\n",
       " ['Rodas de liga', 'Travas elétricas', 'Piloto automático'],\n",
       " 88078.64]"
      ]
     },
     "execution_count": 82,
     "metadata": {},
     "output_type": "execute_result"
    }
   ],
   "source": [
    "Carro_1"
   ]
  },
  {
   "cell_type": "code",
   "execution_count": 83,
   "metadata": {
    "colab": {
     "base_uri": "https://localhost:8080/",
     "height": 136
    },
    "colab_type": "code",
    "id": "7MMG7L8VltnX",
    "outputId": "b2d5304a-6542-4fb5-f9d5-f2abbf29340f"
   },
   "outputs": [
    {
     "data": {
      "text/plain": [
       "['Passat',\n",
       " 'Motor Diesel',\n",
       " 1991,\n",
       " 5712.0,\n",
       " False,\n",
       " ['Central multimídia', 'Teto panorâmico', 'Freios ABS'],\n",
       " 106161.94]"
      ]
     },
     "execution_count": 83,
     "metadata": {},
     "output_type": "execute_result"
    }
   ],
   "source": [
    "Carro_2"
   ]
  },
  {
   "cell_type": "code",
   "execution_count": 84,
   "metadata": {
    "colab": {
     "base_uri": "https://localhost:8080/",
     "height": 255
    },
    "colab_type": "code",
    "id": "7E8erLgZltnZ",
    "outputId": "02cbc474-fce5-4cd9-cdfe-b2de135d0d6d"
   },
   "outputs": [
    {
     "data": {
      "text/plain": [
       "[['Jetta Variant',\n",
       "  'Motor 4.0 Turbo',\n",
       "  2003,\n",
       "  44410.0,\n",
       "  False,\n",
       "  ['Rodas de liga', 'Travas elétricas', 'Piloto automático'],\n",
       "  88078.64],\n",
       " ['Passat',\n",
       "  'Motor Diesel',\n",
       "  1991,\n",
       "  5712.0,\n",
       "  False,\n",
       "  ['Central multimídia', 'Teto panorâmico', 'Freios ABS'],\n",
       "  106161.94]]"
      ]
     },
     "execution_count": 84,
     "metadata": {},
     "output_type": "execute_result"
    }
   ],
   "source": [
    "Carros = [Carro_1, Carro_2]\n",
    "Carros"
   ]
  },
  {
   "cell_type": "markdown",
   "metadata": {
    "colab_type": "text",
    "id": "5yMXJ0xdltna"
   },
   "source": [
    "# 3.2 Operações com listas\n",
    "\n",
    "https://docs.python.org/3.6/library/stdtypes.html#common-sequence-operations"
   ]
  },
  {
   "cell_type": "markdown",
   "metadata": {
    "colab_type": "text",
    "id": "YSorJOGlltna"
   },
   "source": [
    "## *x in A*\n",
    "\n",
    "Retorna **True** se um elemento da lista *A* for igual a *x*."
   ]
  },
  {
   "cell_type": "code",
   "execution_count": 85,
   "metadata": {
    "colab": {
     "base_uri": "https://localhost:8080/",
     "height": 153
    },
    "colab_type": "code",
    "id": "GgSP_nlHltnb",
    "outputId": "21ad051b-0256-4cde-b3f0-8d18da4128c1"
   },
   "outputs": [
    {
     "data": {
      "text/plain": [
       "['Rodas de liga',\n",
       " 'Travas elétricas',\n",
       " 'Piloto automático',\n",
       " 'Bancos de couro',\n",
       " 'Ar condicionado',\n",
       " 'Sensor de estacionamento',\n",
       " 'Sensor crepuscular',\n",
       " 'Sensor de chuva']"
      ]
     },
     "execution_count": 85,
     "metadata": {},
     "output_type": "execute_result"
    }
   ],
   "source": [
    "Acessorios"
   ]
  },
  {
   "cell_type": "code",
   "execution_count": 86,
   "metadata": {
    "colab": {
     "base_uri": "https://localhost:8080/",
     "height": 34
    },
    "colab_type": "code",
    "id": "_JyyHPmWltnd",
    "outputId": "5b4d5691-db4c-45a4-b77e-208cdb0c92e7"
   },
   "outputs": [
    {
     "data": {
      "text/plain": [
       "True"
      ]
     },
     "execution_count": 86,
     "metadata": {},
     "output_type": "execute_result"
    }
   ],
   "source": [
    "'Rodas de liga' in Acessorios"
   ]
  },
  {
   "cell_type": "code",
   "execution_count": 87,
   "metadata": {
    "colab": {
     "base_uri": "https://localhost:8080/",
     "height": 34
    },
    "colab_type": "code",
    "id": "tebg9gAyltne",
    "outputId": "74a70937-2fa0-4360-fef8-68aa41df4b99"
   },
   "outputs": [
    {
     "data": {
      "text/plain": [
       "False"
      ]
     },
     "execution_count": 87,
     "metadata": {},
     "output_type": "execute_result"
    }
   ],
   "source": [
    "'4 X 4' in Acessorios"
   ]
  },
  {
   "cell_type": "code",
   "execution_count": 88,
   "metadata": {
    "colab": {
     "base_uri": "https://localhost:8080/",
     "height": 34
    },
    "colab_type": "code",
    "id": "W_1PKJYsltnf",
    "outputId": "a073b8b0-80a4-4061-cf91-6d4e6bedf30f"
   },
   "outputs": [
    {
     "data": {
      "text/plain": [
       "False"
      ]
     },
     "execution_count": 88,
     "metadata": {},
     "output_type": "execute_result"
    }
   ],
   "source": [
    "'Rodas de liga' not in Acessorios"
   ]
  },
  {
   "cell_type": "code",
   "execution_count": 89,
   "metadata": {
    "colab": {
     "base_uri": "https://localhost:8080/",
     "height": 34
    },
    "colab_type": "code",
    "id": "1WNsBXFyltng",
    "outputId": "33f0ee4b-b205-49f8-97ea-e8d158790394"
   },
   "outputs": [
    {
     "data": {
      "text/plain": [
       "True"
      ]
     },
     "execution_count": 89,
     "metadata": {},
     "output_type": "execute_result"
    }
   ],
   "source": [
    "'4 X 4' not in Acessorios"
   ]
  },
  {
   "cell_type": "markdown",
   "metadata": {
    "colab_type": "text",
    "id": "RF6_rf90ltnh"
   },
   "source": [
    "## *A + B*\n",
    "\n",
    "Concatena as listas *A* e *B*."
   ]
  },
  {
   "cell_type": "code",
   "execution_count": 90,
   "metadata": {
    "colab": {},
    "colab_type": "code",
    "id": "8lnzbYnRltnh"
   },
   "outputs": [],
   "source": [
    "A = ['Rodas de liga', 'Travas elétricas', 'Piloto automático', 'Bancos de couro']\n",
    "B = ['Ar condicionado', 'Sensor de estacionamento', 'Sensor crepuscular', 'Sensor de chuva']"
   ]
  },
  {
   "cell_type": "code",
   "execution_count": 91,
   "metadata": {
    "colab": {
     "base_uri": "https://localhost:8080/",
     "height": 34
    },
    "colab_type": "code",
    "id": "SzbiHHF4ltni",
    "outputId": "162c076d-a363-4824-9373-8e3cc8b87fc4"
   },
   "outputs": [
    {
     "data": {
      "text/plain": [
       "['Rodas de liga', 'Travas elétricas', 'Piloto automático', 'Bancos de couro']"
      ]
     },
     "execution_count": 91,
     "metadata": {},
     "output_type": "execute_result"
    }
   ],
   "source": [
    "A"
   ]
  },
  {
   "cell_type": "code",
   "execution_count": 92,
   "metadata": {
    "colab": {
     "base_uri": "https://localhost:8080/",
     "height": 85
    },
    "colab_type": "code",
    "id": "It5Cn5aXltni",
    "outputId": "8bb676f0-e220-44ec-f1a9-9bb6459fc119"
   },
   "outputs": [
    {
     "data": {
      "text/plain": [
       "['Ar condicionado',\n",
       " 'Sensor de estacionamento',\n",
       " 'Sensor crepuscular',\n",
       " 'Sensor de chuva']"
      ]
     },
     "execution_count": 92,
     "metadata": {},
     "output_type": "execute_result"
    }
   ],
   "source": [
    "B"
   ]
  },
  {
   "cell_type": "code",
   "execution_count": 93,
   "metadata": {
    "colab": {
     "base_uri": "https://localhost:8080/",
     "height": 153
    },
    "colab_type": "code",
    "id": "l7gF4Ph5ltnj",
    "outputId": "ccef553c-14ea-44eb-a918-1cda3871bd9f"
   },
   "outputs": [
    {
     "data": {
      "text/plain": [
       "['Rodas de liga',\n",
       " 'Travas elétricas',\n",
       " 'Piloto automático',\n",
       " 'Bancos de couro',\n",
       " 'Ar condicionado',\n",
       " 'Sensor de estacionamento',\n",
       " 'Sensor crepuscular',\n",
       " 'Sensor de chuva']"
      ]
     },
     "execution_count": 93,
     "metadata": {},
     "output_type": "execute_result"
    }
   ],
   "source": [
    "A + B"
   ]
  },
  {
   "cell_type": "markdown",
   "metadata": {
    "colab_type": "text",
    "id": "iTv5t7zAltnk"
   },
   "source": [
    "## *len(A)*\n",
    "\n",
    "Tamanho da lista A."
   ]
  },
  {
   "cell_type": "code",
   "execution_count": 94,
   "metadata": {
    "colab": {
     "base_uri": "https://localhost:8080/",
     "height": 34
    },
    "colab_type": "code",
    "id": "dtbuCDSOltnk",
    "outputId": "a7ec9c6e-ff92-47c5-92ba-339443af6695"
   },
   "outputs": [
    {
     "data": {
      "text/plain": [
       "8"
      ]
     },
     "execution_count": 94,
     "metadata": {},
     "output_type": "execute_result"
    }
   ],
   "source": [
    "len(Acessorios)"
   ]
  },
  {
   "cell_type": "markdown",
   "metadata": {
    "colab_type": "text",
    "id": "k7wWCbAmltnl"
   },
   "source": [
    "# 3.3 Seleções em listas"
   ]
  },
  {
   "cell_type": "markdown",
   "metadata": {
    "colab_type": "text",
    "id": "uF3NmgUaltnl"
   },
   "source": [
    "## *A[ i ]*\n",
    "\n",
    "Retorna o i-ésimo item da lista *A*.\n",
    "\n",
    "<font color=red>**Observação:**</font> Listas têm indexação com origem no zero."
   ]
  },
  {
   "cell_type": "code",
   "execution_count": 95,
   "metadata": {
    "colab": {
     "base_uri": "https://localhost:8080/",
     "height": 153
    },
    "colab_type": "code",
    "id": "f5ct7w1Wltnm",
    "outputId": "8864edf0-b235-4edc-e484-41cbe786e376"
   },
   "outputs": [
    {
     "data": {
      "text/plain": [
       "['Rodas de liga',\n",
       " 'Travas elétricas',\n",
       " 'Piloto automático',\n",
       " 'Bancos de couro',\n",
       " 'Ar condicionado',\n",
       " 'Sensor de estacionamento',\n",
       " 'Sensor crepuscular',\n",
       " 'Sensor de chuva']"
      ]
     },
     "execution_count": 95,
     "metadata": {},
     "output_type": "execute_result"
    }
   ],
   "source": [
    "Acessorios"
   ]
  },
  {
   "cell_type": "code",
   "execution_count": 96,
   "metadata": {
    "colab": {
     "base_uri": "https://localhost:8080/",
     "height": 34
    },
    "colab_type": "code",
    "id": "-BLG7yifltnn",
    "outputId": "64bb04b6-6e31-4bfc-e25a-1c6230df80b1"
   },
   "outputs": [
    {
     "data": {
      "text/plain": [
       "'Rodas de liga'"
      ]
     },
     "execution_count": 96,
     "metadata": {},
     "output_type": "execute_result"
    }
   ],
   "source": [
    "Acessorios[0]"
   ]
  },
  {
   "cell_type": "code",
   "execution_count": 97,
   "metadata": {
    "colab": {
     "base_uri": "https://localhost:8080/",
     "height": 34
    },
    "colab_type": "code",
    "id": "SoL6PIjJltno",
    "outputId": "93a81938-d5d2-4c7b-d824-4a17f902a5af"
   },
   "outputs": [
    {
     "data": {
      "text/plain": [
       "'Travas elétricas'"
      ]
     },
     "execution_count": 97,
     "metadata": {},
     "output_type": "execute_result"
    }
   ],
   "source": [
    "Acessorios[1]"
   ]
  },
  {
   "cell_type": "code",
   "execution_count": 98,
   "metadata": {
    "colab": {
     "base_uri": "https://localhost:8080/",
     "height": 34
    },
    "colab_type": "code",
    "id": "pGMDc5FLltnq",
    "outputId": "82b87444-5aba-4e5a-90c7-7b92f2ba8da6"
   },
   "outputs": [
    {
     "data": {
      "text/plain": [
       "'Sensor de chuva'"
      ]
     },
     "execution_count": 98,
     "metadata": {},
     "output_type": "execute_result"
    }
   ],
   "source": [
    "Acessorios[-1]"
   ]
  },
  {
   "cell_type": "code",
   "execution_count": 99,
   "metadata": {
    "colab": {
     "base_uri": "https://localhost:8080/",
     "height": 255
    },
    "colab_type": "code",
    "id": "m3AaFe73ltnr",
    "outputId": "f9ba9cc5-d61b-42f3-9cf6-1ac312d4e289"
   },
   "outputs": [
    {
     "data": {
      "text/plain": [
       "[['Jetta Variant',\n",
       "  'Motor 4.0 Turbo',\n",
       "  2003,\n",
       "  44410.0,\n",
       "  False,\n",
       "  ['Rodas de liga', 'Travas elétricas', 'Piloto automático'],\n",
       "  88078.64],\n",
       " ['Passat',\n",
       "  'Motor Diesel',\n",
       "  1991,\n",
       "  5712.0,\n",
       "  False,\n",
       "  ['Central multimídia', 'Teto panorâmico', 'Freios ABS'],\n",
       "  106161.94]]"
      ]
     },
     "execution_count": 99,
     "metadata": {},
     "output_type": "execute_result"
    }
   ],
   "source": [
    "Carros"
   ]
  },
  {
   "cell_type": "code",
   "execution_count": 100,
   "metadata": {
    "colab": {
     "base_uri": "https://localhost:8080/",
     "height": 136
    },
    "colab_type": "code",
    "id": "AeDJviqoltns",
    "outputId": "790ec9f0-163c-4a9c-c513-2528f13ba7fa"
   },
   "outputs": [
    {
     "data": {
      "text/plain": [
       "['Jetta Variant',\n",
       " 'Motor 4.0 Turbo',\n",
       " 2003,\n",
       " 44410.0,\n",
       " False,\n",
       " ['Rodas de liga', 'Travas elétricas', 'Piloto automático'],\n",
       " 88078.64]"
      ]
     },
     "execution_count": 100,
     "metadata": {},
     "output_type": "execute_result"
    }
   ],
   "source": [
    "Carros[0]"
   ]
  },
  {
   "cell_type": "code",
   "execution_count": 101,
   "metadata": {
    "colab": {
     "base_uri": "https://localhost:8080/",
     "height": 34
    },
    "colab_type": "code",
    "id": "KdenG1BZltnt",
    "outputId": "4dbc4088-d019-435a-9535-f4e75ebf70ff"
   },
   "outputs": [
    {
     "data": {
      "text/plain": [
       "'Jetta Variant'"
      ]
     },
     "execution_count": 101,
     "metadata": {},
     "output_type": "execute_result"
    }
   ],
   "source": [
    "Carros[0][0]"
   ]
  },
  {
   "cell_type": "code",
   "execution_count": 102,
   "metadata": {
    "colab": {
     "base_uri": "https://localhost:8080/",
     "height": 34
    },
    "colab_type": "code",
    "id": "iOjsfrlFltnu",
    "outputId": "767453aa-804f-46a0-b79f-758c68793f4c"
   },
   "outputs": [
    {
     "data": {
      "text/plain": [
       "['Rodas de liga', 'Travas elétricas', 'Piloto automático']"
      ]
     },
     "execution_count": 102,
     "metadata": {},
     "output_type": "execute_result"
    }
   ],
   "source": [
    "Carros[0][-2]"
   ]
  },
  {
   "cell_type": "code",
   "execution_count": 103,
   "metadata": {
    "colab": {
     "base_uri": "https://localhost:8080/",
     "height": 34
    },
    "colab_type": "code",
    "id": "6BrON70Zltnu",
    "outputId": "0a0bd591-f421-4ee7-8312-86ae4991622e"
   },
   "outputs": [
    {
     "data": {
      "text/plain": [
       "'Travas elétricas'"
      ]
     },
     "execution_count": 103,
     "metadata": {},
     "output_type": "execute_result"
    }
   ],
   "source": [
    "Carros[0][-2][1]"
   ]
  },
  {
   "cell_type": "markdown",
   "metadata": {
    "colab_type": "text",
    "id": "9WgwxPIMltnv"
   },
   "source": [
    "## *A[ i : j ]*\n",
    "\n",
    "Recorta a lista *A* do índice i até o j. Neste fatiamento o elemento com índice i é **incluído** e o elemento com índice j **não é incluído** no resultado."
   ]
  },
  {
   "cell_type": "code",
   "execution_count": 104,
   "metadata": {
    "colab": {
     "base_uri": "https://localhost:8080/",
     "height": 153
    },
    "colab_type": "code",
    "id": "bJzL2PMiltnv",
    "outputId": "de15a5a4-7c50-4916-c8ec-3754a639c125"
   },
   "outputs": [
    {
     "data": {
      "text/plain": [
       "['Rodas de liga',\n",
       " 'Travas elétricas',\n",
       " 'Piloto automático',\n",
       " 'Bancos de couro',\n",
       " 'Ar condicionado',\n",
       " 'Sensor de estacionamento',\n",
       " 'Sensor crepuscular',\n",
       " 'Sensor de chuva']"
      ]
     },
     "execution_count": 104,
     "metadata": {},
     "output_type": "execute_result"
    }
   ],
   "source": [
    "Acessorios"
   ]
  },
  {
   "cell_type": "code",
   "execution_count": 105,
   "metadata": {
    "colab": {
     "base_uri": "https://localhost:8080/",
     "height": 34
    },
    "colab_type": "code",
    "id": "sFAlJ4u_ltnw",
    "outputId": "96a8da29-e9f1-4f96-f00b-6c2556ff6026"
   },
   "outputs": [
    {
     "data": {
      "text/plain": [
       "['Piloto automático', 'Bancos de couro', 'Ar condicionado']"
      ]
     },
     "execution_count": 105,
     "metadata": {},
     "output_type": "execute_result"
    }
   ],
   "source": [
    "Acessorios[2:5]"
   ]
  },
  {
   "cell_type": "code",
   "execution_count": 106,
   "metadata": {
    "colab": {
     "base_uri": "https://localhost:8080/",
     "height": 119
    },
    "colab_type": "code",
    "id": "dFdTBWa9ltnz",
    "outputId": "efcd12b4-1261-45e6-ffbe-142117008855"
   },
   "outputs": [
    {
     "data": {
      "text/plain": [
       "['Piloto automático',\n",
       " 'Bancos de couro',\n",
       " 'Ar condicionado',\n",
       " 'Sensor de estacionamento',\n",
       " 'Sensor crepuscular',\n",
       " 'Sensor de chuva']"
      ]
     },
     "execution_count": 106,
     "metadata": {},
     "output_type": "execute_result"
    }
   ],
   "source": [
    "Acessorios[2:]"
   ]
  },
  {
   "cell_type": "code",
   "execution_count": 107,
   "metadata": {
    "colab": {
     "base_uri": "https://localhost:8080/",
     "height": 102
    },
    "colab_type": "code",
    "id": "yxxB2-_Dltn0",
    "outputId": "c85fde97-c2f0-4a4c-d525-768dd783d82b"
   },
   "outputs": [
    {
     "data": {
      "text/plain": [
       "['Rodas de liga',\n",
       " 'Travas elétricas',\n",
       " 'Piloto automático',\n",
       " 'Bancos de couro',\n",
       " 'Ar condicionado']"
      ]
     },
     "execution_count": 107,
     "metadata": {},
     "output_type": "execute_result"
    }
   ],
   "source": [
    "Acessorios[:5]"
   ]
  },
  {
   "cell_type": "markdown",
   "metadata": {
    "colab_type": "text",
    "id": "R-S-LCPGltn0"
   },
   "source": [
    "# 3.4 Métodos de listas\n",
    "\n",
    "https://docs.python.org/3.6/library/stdtypes.html#mutable-sequence-types"
   ]
  },
  {
   "cell_type": "code",
   "execution_count": 108,
   "metadata": {
    "colab": {},
    "colab_type": "code",
    "id": "2siXqYSlAjHR"
   },
   "outputs": [],
   "source": [
    "Acessorios = ['Rodas de liga', 'Travas elétricas', 'Piloto automático', 'Bancos de couro', 'Ar condicionado', 'Sensor de estacionamento', 'Sensor crepuscular', 'Sensor de chuva']"
   ]
  },
  {
   "cell_type": "markdown",
   "metadata": {
    "colab_type": "text",
    "id": "j9s2OyyPltn1"
   },
   "source": [
    "## *A.sort()*\n",
    "\n",
    "Ordena a lista *A*."
   ]
  },
  {
   "cell_type": "code",
   "execution_count": 109,
   "metadata": {
    "colab": {
     "base_uri": "https://localhost:8080/",
     "height": 153
    },
    "colab_type": "code",
    "id": "A2dJGhFsltn1",
    "outputId": "9fb74514-57f7-4b03-cbcd-5d533d29cc9e"
   },
   "outputs": [
    {
     "data": {
      "text/plain": [
       "['Rodas de liga',\n",
       " 'Travas elétricas',\n",
       " 'Piloto automático',\n",
       " 'Bancos de couro',\n",
       " 'Ar condicionado',\n",
       " 'Sensor de estacionamento',\n",
       " 'Sensor crepuscular',\n",
       " 'Sensor de chuva']"
      ]
     },
     "execution_count": 109,
     "metadata": {},
     "output_type": "execute_result"
    }
   ],
   "source": [
    "Acessorios"
   ]
  },
  {
   "cell_type": "code",
   "execution_count": 110,
   "metadata": {
    "colab": {
     "base_uri": "https://localhost:8080/",
     "height": 153
    },
    "colab_type": "code",
    "id": "VDWCHlTcltn2",
    "outputId": "143eb792-177f-4acc-af75-130c2eb16426"
   },
   "outputs": [
    {
     "data": {
      "text/plain": [
       "['Ar condicionado',\n",
       " 'Bancos de couro',\n",
       " 'Piloto automático',\n",
       " 'Rodas de liga',\n",
       " 'Sensor crepuscular',\n",
       " 'Sensor de chuva',\n",
       " 'Sensor de estacionamento',\n",
       " 'Travas elétricas']"
      ]
     },
     "execution_count": 110,
     "metadata": {},
     "output_type": "execute_result"
    }
   ],
   "source": [
    "Acessorios.sort()\n",
    "Acessorios"
   ]
  },
  {
   "cell_type": "markdown",
   "metadata": {
    "colab_type": "text",
    "id": "N9Spp7-xltn3"
   },
   "source": [
    "## *A.append(x)*\n",
    "\n",
    "Adiciona o elemento *x* no final da lista *A*."
   ]
  },
  {
   "cell_type": "code",
   "execution_count": 111,
   "metadata": {
    "colab": {
     "base_uri": "https://localhost:8080/",
     "height": 170
    },
    "colab_type": "code",
    "id": "l7I_U-sRltn4",
    "outputId": "1a78841b-2724-47d2-8f25-509d51507cfe"
   },
   "outputs": [
    {
     "data": {
      "text/plain": [
       "['Ar condicionado',\n",
       " 'Bancos de couro',\n",
       " 'Piloto automático',\n",
       " 'Rodas de liga',\n",
       " 'Sensor crepuscular',\n",
       " 'Sensor de chuva',\n",
       " 'Sensor de estacionamento',\n",
       " 'Travas elétricas',\n",
       " '4 X 4']"
      ]
     },
     "execution_count": 111,
     "metadata": {},
     "output_type": "execute_result"
    }
   ],
   "source": [
    "Acessorios.append('4 X 4')\n",
    "Acessorios"
   ]
  },
  {
   "cell_type": "markdown",
   "metadata": {
    "colab_type": "text",
    "id": "eiP3oACPltn6"
   },
   "source": [
    "## *A.pop(i)*\n",
    "\n",
    "Remove e retorna o elemento de índice i da lista *A*.\n",
    "\n",
    "<font color=red>**Observação:**</font> Por *default* o método *pop()* remove e retorna o último elemento de uma lista."
   ]
  },
  {
   "cell_type": "code",
   "execution_count": 112,
   "metadata": {
    "colab": {
     "base_uri": "https://localhost:8080/",
     "height": 34
    },
    "colab_type": "code",
    "id": "BoCKa5Hqltn6",
    "outputId": "96215373-89e4-4eeb-f556-7da3428b3a35"
   },
   "outputs": [
    {
     "data": {
      "text/plain": [
       "'4 X 4'"
      ]
     },
     "execution_count": 112,
     "metadata": {},
     "output_type": "execute_result"
    }
   ],
   "source": [
    "Acessorios.pop()"
   ]
  },
  {
   "cell_type": "code",
   "execution_count": 113,
   "metadata": {
    "colab": {
     "base_uri": "https://localhost:8080/",
     "height": 153
    },
    "colab_type": "code",
    "id": "GfGX1jw-ltn9",
    "outputId": "ee1ff47f-5e2d-4eba-f098-91d5302702c3"
   },
   "outputs": [
    {
     "data": {
      "text/plain": [
       "['Ar condicionado',\n",
       " 'Bancos de couro',\n",
       " 'Piloto automático',\n",
       " 'Rodas de liga',\n",
       " 'Sensor crepuscular',\n",
       " 'Sensor de chuva',\n",
       " 'Sensor de estacionamento',\n",
       " 'Travas elétricas']"
      ]
     },
     "execution_count": 113,
     "metadata": {},
     "output_type": "execute_result"
    }
   ],
   "source": [
    "Acessorios"
   ]
  },
  {
   "cell_type": "code",
   "execution_count": 114,
   "metadata": {
    "colab": {
     "base_uri": "https://localhost:8080/",
     "height": 34
    },
    "colab_type": "code",
    "id": "tppe9tqbltn-",
    "outputId": "e22fbedc-c4dc-48a0-97a9-2aa91bc73489"
   },
   "outputs": [
    {
     "data": {
      "text/plain": [
       "'Rodas de liga'"
      ]
     },
     "execution_count": 114,
     "metadata": {},
     "output_type": "execute_result"
    }
   ],
   "source": [
    "Acessorios.pop(3)"
   ]
  },
  {
   "cell_type": "code",
   "execution_count": 115,
   "metadata": {
    "colab": {
     "base_uri": "https://localhost:8080/",
     "height": 136
    },
    "colab_type": "code",
    "id": "Ku6ZHTdJltn_",
    "outputId": "ee042ee6-f301-4dc7-845e-2f69ce869202"
   },
   "outputs": [
    {
     "data": {
      "text/plain": [
       "['Ar condicionado',\n",
       " 'Bancos de couro',\n",
       " 'Piloto automático',\n",
       " 'Sensor crepuscular',\n",
       " 'Sensor de chuva',\n",
       " 'Sensor de estacionamento',\n",
       " 'Travas elétricas']"
      ]
     },
     "execution_count": 115,
     "metadata": {},
     "output_type": "execute_result"
    }
   ],
   "source": [
    "Acessorios"
   ]
  },
  {
   "cell_type": "markdown",
   "metadata": {
    "colab_type": "text",
    "id": "NySIp62hltoC"
   },
   "source": [
    "## *A.copy()*\n",
    "\n",
    "Cria uma cópia da lista *A*.\n",
    "\n",
    "<font color=red>**Observação:**</font> O mesmo resultado pode ser obtido com o seguinte código: \n",
    "```\n",
    "A[:]\n",
    "```"
   ]
  },
  {
   "cell_type": "code",
   "execution_count": 116,
   "metadata": {
    "colab": {
     "base_uri": "https://localhost:8080/",
     "height": 136
    },
    "colab_type": "code",
    "id": "yP9ODygcltoC",
    "outputId": "54d584d6-42c1-410f-f477-93d470ab12d9"
   },
   "outputs": [
    {
     "data": {
      "text/plain": [
       "['Ar condicionado',\n",
       " 'Bancos de couro',\n",
       " 'Piloto automático',\n",
       " 'Sensor crepuscular',\n",
       " 'Sensor de chuva',\n",
       " 'Sensor de estacionamento',\n",
       " 'Travas elétricas']"
      ]
     },
     "execution_count": 116,
     "metadata": {},
     "output_type": "execute_result"
    }
   ],
   "source": [
    "Acessorios_2 = Acessorios\n",
    "Acessorios_2"
   ]
  },
  {
   "cell_type": "code",
   "execution_count": 117,
   "metadata": {
    "colab": {
     "base_uri": "https://localhost:8080/",
     "height": 153
    },
    "colab_type": "code",
    "id": "W3eQdVWkltoF",
    "outputId": "fa3c1319-370c-4352-84c9-ab90b52194f6"
   },
   "outputs": [
    {
     "data": {
      "text/plain": [
       "['Ar condicionado',\n",
       " 'Bancos de couro',\n",
       " 'Piloto automático',\n",
       " 'Sensor crepuscular',\n",
       " 'Sensor de chuva',\n",
       " 'Sensor de estacionamento',\n",
       " 'Travas elétricas',\n",
       " '4 X 4']"
      ]
     },
     "execution_count": 117,
     "metadata": {},
     "output_type": "execute_result"
    }
   ],
   "source": [
    "Acessorios_2.append('4 X 4')\n",
    "Acessorios_2"
   ]
  },
  {
   "cell_type": "code",
   "execution_count": 118,
   "metadata": {
    "colab": {
     "base_uri": "https://localhost:8080/",
     "height": 153
    },
    "colab_type": "code",
    "id": "OVbvjjmdltoG",
    "outputId": "02aa1d88-56f8-41db-f19b-cce4437cc553"
   },
   "outputs": [
    {
     "data": {
      "text/plain": [
       "['Ar condicionado',\n",
       " 'Bancos de couro',\n",
       " 'Piloto automático',\n",
       " 'Sensor crepuscular',\n",
       " 'Sensor de chuva',\n",
       " 'Sensor de estacionamento',\n",
       " 'Travas elétricas',\n",
       " '4 X 4']"
      ]
     },
     "execution_count": 118,
     "metadata": {},
     "output_type": "execute_result"
    }
   ],
   "source": [
    "Acessorios"
   ]
  },
  {
   "cell_type": "code",
   "execution_count": 119,
   "metadata": {
    "colab": {
     "base_uri": "https://localhost:8080/",
     "height": 136
    },
    "colab_type": "code",
    "id": "P-MN1JfAltoH",
    "outputId": "4c32f833-c810-4521-a527-87b135bc037e"
   },
   "outputs": [
    {
     "data": {
      "text/plain": [
       "['Ar condicionado',\n",
       " 'Bancos de couro',\n",
       " 'Piloto automático',\n",
       " 'Sensor crepuscular',\n",
       " 'Sensor de chuva',\n",
       " 'Sensor de estacionamento',\n",
       " 'Travas elétricas']"
      ]
     },
     "execution_count": 119,
     "metadata": {},
     "output_type": "execute_result"
    }
   ],
   "source": [
    "Acessorios.pop()\n",
    "Acessorios"
   ]
  },
  {
   "cell_type": "code",
   "execution_count": 120,
   "metadata": {
    "colab": {
     "base_uri": "https://localhost:8080/",
     "height": 136
    },
    "colab_type": "code",
    "id": "ZVQ38eqVltoJ",
    "outputId": "ed28e52e-28c6-4898-c6d1-92094016d94a"
   },
   "outputs": [
    {
     "data": {
      "text/plain": [
       "['Ar condicionado',\n",
       " 'Bancos de couro',\n",
       " 'Piloto automático',\n",
       " 'Sensor crepuscular',\n",
       " 'Sensor de chuva',\n",
       " 'Sensor de estacionamento',\n",
       " 'Travas elétricas']"
      ]
     },
     "execution_count": 120,
     "metadata": {},
     "output_type": "execute_result"
    }
   ],
   "source": [
    "Acessorios_2"
   ]
  },
  {
   "cell_type": "code",
   "execution_count": 121,
   "metadata": {
    "colab": {
     "base_uri": "https://localhost:8080/",
     "height": 136
    },
    "colab_type": "code",
    "id": "bqPiw5wSltoM",
    "outputId": "62eb941d-e444-4fe8-8374-b3b6ed9866df"
   },
   "outputs": [
    {
     "data": {
      "text/plain": [
       "['Ar condicionado',\n",
       " 'Bancos de couro',\n",
       " 'Piloto automático',\n",
       " 'Sensor crepuscular',\n",
       " 'Sensor de chuva',\n",
       " 'Sensor de estacionamento',\n",
       " 'Travas elétricas']"
      ]
     },
     "execution_count": 121,
     "metadata": {},
     "output_type": "execute_result"
    }
   ],
   "source": [
    "Acessorios_2 = Acessorios.copy()\n",
    "Acessorios_2"
   ]
  },
  {
   "cell_type": "code",
   "execution_count": 122,
   "metadata": {
    "colab": {
     "base_uri": "https://localhost:8080/",
     "height": 153
    },
    "colab_type": "code",
    "id": "Lo9WgzF6ltoP",
    "outputId": "4b20eda4-d273-4c16-9205-2ef1b803e376"
   },
   "outputs": [
    {
     "data": {
      "text/plain": [
       "['Ar condicionado',\n",
       " 'Bancos de couro',\n",
       " 'Piloto automático',\n",
       " 'Sensor crepuscular',\n",
       " 'Sensor de chuva',\n",
       " 'Sensor de estacionamento',\n",
       " 'Travas elétricas',\n",
       " '4 X 4']"
      ]
     },
     "execution_count": 122,
     "metadata": {},
     "output_type": "execute_result"
    }
   ],
   "source": [
    "Acessorios_2.append('4 X 4')\n",
    "Acessorios_2"
   ]
  },
  {
   "cell_type": "code",
   "execution_count": 123,
   "metadata": {
    "colab": {
     "base_uri": "https://localhost:8080/",
     "height": 136
    },
    "colab_type": "code",
    "id": "r2LPHB34ltoQ",
    "outputId": "213b9621-cd22-4af6-b85b-b1f5630228b2"
   },
   "outputs": [
    {
     "data": {
      "text/plain": [
       "['Ar condicionado',\n",
       " 'Bancos de couro',\n",
       " 'Piloto automático',\n",
       " 'Sensor crepuscular',\n",
       " 'Sensor de chuva',\n",
       " 'Sensor de estacionamento',\n",
       " 'Travas elétricas']"
      ]
     },
     "execution_count": 123,
     "metadata": {},
     "output_type": "execute_result"
    }
   ],
   "source": [
    "Acessorios"
   ]
  },
  {
   "cell_type": "code",
   "execution_count": 124,
   "metadata": {
    "colab": {
     "base_uri": "https://localhost:8080/",
     "height": 136
    },
    "colab_type": "code",
    "id": "UQqUkO8YltoR",
    "outputId": "4736846d-298e-4572-c574-e22f2f27d579"
   },
   "outputs": [
    {
     "data": {
      "text/plain": [
       "['Ar condicionado',\n",
       " 'Bancos de couro',\n",
       " 'Piloto automático',\n",
       " 'Sensor crepuscular',\n",
       " 'Sensor de chuva',\n",
       " 'Sensor de estacionamento',\n",
       " 'Travas elétricas']"
      ]
     },
     "execution_count": 124,
     "metadata": {},
     "output_type": "execute_result"
    }
   ],
   "source": [
    "Acessorios_2 = Acessorios[:]\n",
    "Acessorios_2"
   ]
  },
  {
   "cell_type": "markdown",
   "metadata": {
    "colab_type": "text",
    "id": "8zMZNsg2ltoU"
   },
   "source": [
    "# <font color=green> 4. ESTRUTURAS DE REPETIÇÃO E CONDICIONAIS\n",
    "---"
   ]
  },
  {
   "cell_type": "markdown",
   "metadata": {
    "colab_type": "text",
    "id": "gxUmCLyJltoU"
   },
   "source": [
    "# 4.1 Instrução *for*\n",
    "\n",
    "#### Formato padrão\n",
    "\n",
    "```\n",
    "for <variável> in <coleção>:\n",
    "    <instruções>\n",
    "```"
   ]
  },
  {
   "cell_type": "markdown",
   "metadata": {
    "colab_type": "text",
    "id": "Irl5oa0altoU"
   },
   "source": [
    "### Loops com listas"
   ]
  },
  {
   "cell_type": "code",
   "execution_count": 125,
   "metadata": {
    "colab": {
     "base_uri": "https://localhost:8080/",
     "height": 153
    },
    "colab_type": "code",
    "id": "BaXtCB-IJDf5",
    "outputId": "40a08937-3ef8-40bd-fc9b-4566aa975272"
   },
   "outputs": [
    {
     "data": {
      "text/plain": [
       "['Rodas de liga',\n",
       " 'Travas elétricas',\n",
       " 'Piloto automático',\n",
       " 'Bancos de couro',\n",
       " 'Ar condicionado',\n",
       " 'Sensor de estacionamento',\n",
       " 'Sensor crepuscular',\n",
       " 'Sensor de chuva']"
      ]
     },
     "execution_count": 125,
     "metadata": {},
     "output_type": "execute_result"
    }
   ],
   "source": [
    "Acessorios = ['Rodas de liga', 'Travas elétricas', 'Piloto automático', 'Bancos de couro', 'Ar condicionado', 'Sensor de estacionamento', 'Sensor crepuscular', 'Sensor de chuva']\n",
    "Acessorios"
   ]
  },
  {
   "cell_type": "code",
   "execution_count": 126,
   "metadata": {
    "colab": {
     "base_uri": "https://localhost:8080/",
     "height": 153
    },
    "colab_type": "code",
    "id": "Z459QqsFltoY",
    "outputId": "e9738899-0ed8-49f7-8f6d-78ac71bde218"
   },
   "outputs": [
    {
     "name": "stdout",
     "output_type": "stream",
     "text": [
      "Rodas de liga\n",
      "Travas elétricas\n",
      "Piloto automático\n",
      "Bancos de couro\n",
      "Ar condicionado\n",
      "Sensor de estacionamento\n",
      "Sensor crepuscular\n",
      "Sensor de chuva\n"
     ]
    }
   ],
   "source": [
    "for item in Acessorios:\n",
    "  print(item)"
   ]
  },
  {
   "cell_type": "markdown",
   "metadata": {
    "colab_type": "text",
    "id": "Gbztj9T4ltoZ"
   },
   "source": [
    "###  List comprehensions\n",
    "\n",
    "https://docs.python.org/3.6/tutorial/datastructures.html#list-comprehensions"
   ]
  },
  {
   "cell_type": "markdown",
   "metadata": {
    "colab_type": "text",
    "id": "4Y8g0cSHjbof"
   },
   "source": [
    "*range()* -> https://docs.python.org/3.6/library/functions.html#func-range"
   ]
  },
  {
   "cell_type": "code",
   "execution_count": 127,
   "metadata": {
    "colab": {
     "base_uri": "https://localhost:8080/",
     "height": 34
    },
    "colab_type": "code",
    "id": "xDo9TLdYltoZ",
    "outputId": "ba818a70-81bd-4f53-8e20-d6f22d4a4523"
   },
   "outputs": [
    {
     "data": {
      "text/plain": [
       "range(0, 10)"
      ]
     },
     "execution_count": 127,
     "metadata": {},
     "output_type": "execute_result"
    }
   ],
   "source": [
    "range(10)"
   ]
  },
  {
   "cell_type": "code",
   "execution_count": 128,
   "metadata": {
    "colab": {
     "base_uri": "https://localhost:8080/",
     "height": 34
    },
    "colab_type": "code",
    "id": "V12p_CQBltoc",
    "outputId": "05e3e80a-3303-414a-bd9a-f8034a1d7722"
   },
   "outputs": [
    {
     "data": {
      "text/plain": [
       "[0, 1, 2, 3, 4, 5, 6, 7, 8, 9]"
      ]
     },
     "execution_count": 128,
     "metadata": {},
     "output_type": "execute_result"
    }
   ],
   "source": [
    "list(range(10))"
   ]
  },
  {
   "cell_type": "code",
   "execution_count": 129,
   "metadata": {
    "colab": {
     "base_uri": "https://localhost:8080/",
     "height": 187
    },
    "colab_type": "code",
    "id": "OOzHHRWHltof",
    "outputId": "4175aee1-1a4e-49ea-9380-4c4334ad6536"
   },
   "outputs": [
    {
     "name": "stdout",
     "output_type": "stream",
     "text": [
      "0\n",
      "1\n",
      "4\n",
      "9\n",
      "16\n",
      "25\n",
      "36\n",
      "49\n",
      "64\n",
      "81\n"
     ]
    }
   ],
   "source": [
    "for i in range(10):\n",
    "  print(i ** 2)"
   ]
  },
  {
   "cell_type": "code",
   "execution_count": 130,
   "metadata": {
    "colab": {
     "base_uri": "https://localhost:8080/",
     "height": 34
    },
    "colab_type": "code",
    "id": "TKynwnxgltog",
    "outputId": "c2e757a9-de60-4fc6-a7f7-9524cb8f9fdb"
   },
   "outputs": [
    {
     "data": {
      "text/plain": [
       "[0, 1, 4, 9, 16, 25, 36, 49, 64, 81]"
      ]
     },
     "execution_count": 130,
     "metadata": {},
     "output_type": "execute_result"
    }
   ],
   "source": [
    "quadrado = []\n",
    "for i in range(10):\n",
    "  quadrado.append(i ** 2)\n",
    "  \n",
    "quadrado"
   ]
  },
  {
   "cell_type": "code",
   "execution_count": 131,
   "metadata": {
    "colab": {
     "base_uri": "https://localhost:8080/",
     "height": 34
    },
    "colab_type": "code",
    "id": "d77YH_dVltoh",
    "outputId": "e55b7f43-a2cc-4c99-f0e2-65c237e42387"
   },
   "outputs": [
    {
     "data": {
      "text/plain": [
       "[0, 1, 4, 9, 16, 25, 36, 49, 64, 81]"
      ]
     },
     "execution_count": 131,
     "metadata": {},
     "output_type": "execute_result"
    }
   ],
   "source": [
    "[i ** 2 for i in range(10)]"
   ]
  },
  {
   "cell_type": "markdown",
   "metadata": {
    "colab_type": "text",
    "id": "AcAcaKFXltom"
   },
   "source": [
    "# 4.2 Loops aninhados"
   ]
  },
  {
   "cell_type": "code",
   "execution_count": 132,
   "metadata": {
    "colab": {
     "base_uri": "https://localhost:8080/",
     "height": 425
    },
    "colab_type": "code",
    "id": "mjgJCo3dlton",
    "outputId": "c0f29b76-ec59-4ba0-cd56-45a0da8c9428"
   },
   "outputs": [
    {
     "data": {
      "text/plain": [
       "[['Rodas de liga',\n",
       "  'Travas elétricas',\n",
       "  'Piloto automático',\n",
       "  'Bancos de couro',\n",
       "  'Ar condicionado',\n",
       "  'Sensor de estacionamento',\n",
       "  'Sensor crepuscular',\n",
       "  'Sensor de chuva'],\n",
       " ['Central multimídia',\n",
       "  'Teto panorâmico',\n",
       "  'Freios ABS',\n",
       "  '4 X 4',\n",
       "  'Painel digital',\n",
       "  'Piloto automático',\n",
       "  'Bancos de couro',\n",
       "  'Câmera de estacionamento'],\n",
       " ['Piloto automático',\n",
       "  'Controle de estabilidade',\n",
       "  'Sensor crepuscular',\n",
       "  'Freios ABS',\n",
       "  'Câmbio automático',\n",
       "  'Bancos de couro',\n",
       "  'Central multimídia',\n",
       "  'Vidros elétricos']]"
      ]
     },
     "execution_count": 132,
     "metadata": {},
     "output_type": "execute_result"
    }
   ],
   "source": [
    "dados = [ \n",
    "    ['Rodas de liga', 'Travas elétricas', 'Piloto automático', 'Bancos de couro', 'Ar condicionado', 'Sensor de estacionamento', 'Sensor crepuscular', 'Sensor de chuva'],\n",
    "    ['Central multimídia', 'Teto panorâmico', 'Freios ABS', '4 X 4', 'Painel digital', 'Piloto automático', 'Bancos de couro', 'Câmera de estacionamento'],\n",
    "    ['Piloto automático', 'Controle de estabilidade', 'Sensor crepuscular', 'Freios ABS', 'Câmbio automático', 'Bancos de couro', 'Central multimídia', 'Vidros elétricos']\n",
    "]\n",
    "dados"
   ]
  },
  {
   "cell_type": "code",
   "execution_count": 133,
   "metadata": {
    "colab": {
     "base_uri": "https://localhost:8080/",
     "height": 88
    },
    "colab_type": "code",
    "id": "pLgxwApVltop",
    "outputId": "58b13774-b1b7-45d9-df2f-05b8cf6ff8eb"
   },
   "outputs": [
    {
     "name": "stdout",
     "output_type": "stream",
     "text": [
      "['Rodas de liga', 'Travas elétricas', 'Piloto automático', 'Bancos de couro', 'Ar condicionado', 'Sensor de estacionamento', 'Sensor crepuscular', 'Sensor de chuva']\n",
      "['Central multimídia', 'Teto panorâmico', 'Freios ABS', '4 X 4', 'Painel digital', 'Piloto automático', 'Bancos de couro', 'Câmera de estacionamento']\n",
      "['Piloto automático', 'Controle de estabilidade', 'Sensor crepuscular', 'Freios ABS', 'Câmbio automático', 'Bancos de couro', 'Central multimídia', 'Vidros elétricos']\n"
     ]
    }
   ],
   "source": [
    "for lista in dados:\n",
    "  print(lista)"
   ]
  },
  {
   "cell_type": "code",
   "execution_count": 134,
   "metadata": {
    "colab": {
     "base_uri": "https://localhost:8080/",
     "height": 425
    },
    "colab_type": "code",
    "id": "OYnDRvcYltor",
    "outputId": "b5b17d0a-0421-4cae-b8b9-6cbb5813ba85"
   },
   "outputs": [
    {
     "name": "stdout",
     "output_type": "stream",
     "text": [
      "Rodas de liga\n",
      "Travas elétricas\n",
      "Piloto automático\n",
      "Bancos de couro\n",
      "Ar condicionado\n",
      "Sensor de estacionamento\n",
      "Sensor crepuscular\n",
      "Sensor de chuva\n",
      "Central multimídia\n",
      "Teto panorâmico\n",
      "Freios ABS\n",
      "4 X 4\n",
      "Painel digital\n",
      "Piloto automático\n",
      "Bancos de couro\n",
      "Câmera de estacionamento\n",
      "Piloto automático\n",
      "Controle de estabilidade\n",
      "Sensor crepuscular\n",
      "Freios ABS\n",
      "Câmbio automático\n",
      "Bancos de couro\n",
      "Central multimídia\n",
      "Vidros elétricos\n"
     ]
    }
   ],
   "source": [
    "for lista in dados:\n",
    "  for item in lista:\n",
    "    print(item)"
   ]
  },
  {
   "cell_type": "code",
   "execution_count": 135,
   "metadata": {
    "colab": {
     "base_uri": "https://localhost:8080/",
     "height": 425
    },
    "colab_type": "code",
    "id": "DbJa5_cJltos",
    "outputId": "4c9636c4-26b6-4ee4-dfe0-e45467129616"
   },
   "outputs": [
    {
     "data": {
      "text/plain": [
       "['Rodas de liga',\n",
       " 'Travas elétricas',\n",
       " 'Piloto automático',\n",
       " 'Bancos de couro',\n",
       " 'Ar condicionado',\n",
       " 'Sensor de estacionamento',\n",
       " 'Sensor crepuscular',\n",
       " 'Sensor de chuva',\n",
       " 'Central multimídia',\n",
       " 'Teto panorâmico',\n",
       " 'Freios ABS',\n",
       " '4 X 4',\n",
       " 'Painel digital',\n",
       " 'Piloto automático',\n",
       " 'Bancos de couro',\n",
       " 'Câmera de estacionamento',\n",
       " 'Piloto automático',\n",
       " 'Controle de estabilidade',\n",
       " 'Sensor crepuscular',\n",
       " 'Freios ABS',\n",
       " 'Câmbio automático',\n",
       " 'Bancos de couro',\n",
       " 'Central multimídia',\n",
       " 'Vidros elétricos']"
      ]
     },
     "execution_count": 135,
     "metadata": {},
     "output_type": "execute_result"
    }
   ],
   "source": [
    "Acessorios = []\n",
    "\n",
    "for lista in dados:\n",
    "  for item in lista:\n",
    "    Acessorios.append(item)\n",
    "    \n",
    "Acessorios"
   ]
  },
  {
   "cell_type": "markdown",
   "metadata": {
    "colab_type": "text",
    "id": "RrGAOy1rn1Dj"
   },
   "source": [
    "## *set()*\n",
    "\n",
    "https://docs.python.org/3.6/library/stdtypes.html#types-set\n"
   ]
  },
  {
   "cell_type": "code",
   "execution_count": 136,
   "metadata": {
    "colab": {
     "base_uri": "https://localhost:8080/",
     "height": 306
    },
    "colab_type": "code",
    "id": "CuB-9ClSltos",
    "outputId": "3d1af15e-63eb-4bd3-c948-949b264e7ef4"
   },
   "outputs": [
    {
     "data": {
      "text/plain": [
       "['Sensor de estacionamento',\n",
       " 'Câmbio automático',\n",
       " 'Piloto automático',\n",
       " '4 X 4',\n",
       " 'Sensor crepuscular',\n",
       " 'Central multimídia',\n",
       " 'Câmera de estacionamento',\n",
       " 'Vidros elétricos',\n",
       " 'Freios ABS',\n",
       " 'Sensor de chuva',\n",
       " 'Rodas de liga',\n",
       " 'Teto panorâmico',\n",
       " 'Painel digital',\n",
       " 'Bancos de couro',\n",
       " 'Ar condicionado',\n",
       " 'Travas elétricas',\n",
       " 'Controle de estabilidade']"
      ]
     },
     "execution_count": 136,
     "metadata": {},
     "output_type": "execute_result"
    }
   ],
   "source": [
    "list(set(Acessorios))"
   ]
  },
  {
   "cell_type": "markdown",
   "metadata": {
    "colab_type": "text",
    "id": "9hHKKABhltot"
   },
   "source": [
    "### List comprehensions"
   ]
  },
  {
   "cell_type": "code",
   "execution_count": 137,
   "metadata": {
    "colab": {
     "base_uri": "https://localhost:8080/",
     "height": 425
    },
    "colab_type": "code",
    "id": "T6t79LTlltot",
    "outputId": "83e1cad0-d46a-4f53-8a4b-2fb58840f15f"
   },
   "outputs": [
    {
     "data": {
      "text/plain": [
       "['Rodas de liga',\n",
       " 'Travas elétricas',\n",
       " 'Piloto automático',\n",
       " 'Bancos de couro',\n",
       " 'Ar condicionado',\n",
       " 'Sensor de estacionamento',\n",
       " 'Sensor crepuscular',\n",
       " 'Sensor de chuva',\n",
       " 'Central multimídia',\n",
       " 'Teto panorâmico',\n",
       " 'Freios ABS',\n",
       " '4 X 4',\n",
       " 'Painel digital',\n",
       " 'Piloto automático',\n",
       " 'Bancos de couro',\n",
       " 'Câmera de estacionamento',\n",
       " 'Piloto automático',\n",
       " 'Controle de estabilidade',\n",
       " 'Sensor crepuscular',\n",
       " 'Freios ABS',\n",
       " 'Câmbio automático',\n",
       " 'Bancos de couro',\n",
       " 'Central multimídia',\n",
       " 'Vidros elétricos']"
      ]
     },
     "execution_count": 137,
     "metadata": {},
     "output_type": "execute_result"
    }
   ],
   "source": [
    "[item for lista in dados for item in lista]"
   ]
  },
  {
   "cell_type": "code",
   "execution_count": 138,
   "metadata": {
    "colab": {
     "base_uri": "https://localhost:8080/",
     "height": 306
    },
    "colab_type": "code",
    "id": "Vhvuh3l8bvHZ",
    "outputId": "4d141bf6-783f-47f8-95fc-d23a718925b4"
   },
   "outputs": [
    {
     "data": {
      "text/plain": [
       "['Sensor de estacionamento',\n",
       " 'Câmbio automático',\n",
       " 'Piloto automático',\n",
       " '4 X 4',\n",
       " 'Sensor crepuscular',\n",
       " 'Central multimídia',\n",
       " 'Câmera de estacionamento',\n",
       " 'Vidros elétricos',\n",
       " 'Freios ABS',\n",
       " 'Sensor de chuva',\n",
       " 'Rodas de liga',\n",
       " 'Teto panorâmico',\n",
       " 'Painel digital',\n",
       " 'Bancos de couro',\n",
       " 'Ar condicionado',\n",
       " 'Travas elétricas',\n",
       " 'Controle de estabilidade']"
      ]
     },
     "execution_count": 138,
     "metadata": {},
     "output_type": "execute_result"
    }
   ],
   "source": [
    "list(set([item for lista in dados for item in lista]))"
   ]
  },
  {
   "cell_type": "markdown",
   "metadata": {
    "colab_type": "text",
    "id": "cJ4fPdj5ltou"
   },
   "source": [
    "# 4.3 Instrução *if*\n",
    "\n",
    "#### Formato padrão\n",
    "\n",
    "```\n",
    "if <condição>:\n",
    "     <instruções caso a condição seja verdadeira>\n",
    "```"
   ]
  },
  {
   "cell_type": "markdown",
   "metadata": {
    "colab_type": "text",
    "id": "bqOYDJiWltou"
   },
   "source": [
    "### Operadores de comparação: $==$, $!=$, $>$, $<$, $>=$, $<=$\n",
    "### e\n",
    "### Operadores lógicos: $and$, $or$, $not$"
   ]
  },
  {
   "cell_type": "code",
   "execution_count": 139,
   "metadata": {
    "colab": {
     "base_uri": "https://localhost:8080/",
     "height": 187
    },
    "colab_type": "code",
    "id": "5eY_XPmrltov",
    "outputId": "dfa39914-bff9-4ed6-b4d9-0386ea0f6c2b"
   },
   "outputs": [
    {
     "data": {
      "text/plain": [
       "[['Jetta Variant', 2003, False],\n",
       " ['Passat', 1991, False],\n",
       " ['Crossfox', 1990, False],\n",
       " ['DS5', 2019, True],\n",
       " ['Aston Martin DB4', 2006, False],\n",
       " ['Palio Weekend', 2012, False],\n",
       " ['A5', 2019, True],\n",
       " ['Série 3 Cabrio', 2009, False],\n",
       " ['Dodge Jorney', 2019, False],\n",
       " ['Carens', 2011, False]]"
      ]
     },
     "execution_count": 139,
     "metadata": {},
     "output_type": "execute_result"
    }
   ],
   "source": [
    "# 1º item da lista - Nome do veículo\n",
    "# 2º item da lista - Ano de fabricação\n",
    "# 3º item da lista - Veículo é zero km?\n",
    "\n",
    "dados = [\n",
    "    ['Jetta Variant', 2003, False],\n",
    "    ['Passat', 1991, False],\n",
    "    ['Crossfox', 1990, False],\n",
    "    ['DS5', 2019, True],\n",
    "    ['Aston Martin DB4', 2006, False],\n",
    "    ['Palio Weekend', 2012, False],\n",
    "    ['A5', 2019, True],\n",
    "    ['Série 3 Cabrio', 2009, False],\n",
    "    ['Dodge Jorney', 2019, False],\n",
    "    ['Carens', 2011, False]\n",
    "]\n",
    "dados"
   ]
  },
  {
   "cell_type": "code",
   "execution_count": 140,
   "metadata": {
    "colab": {
     "base_uri": "https://localhost:8080/",
     "height": 34
    },
    "colab_type": "code",
    "id": "nyb0iDH1ltoy",
    "outputId": "e5541ea2-6c8d-40a3-a7b5-8667e20567f6"
   },
   "outputs": [
    {
     "data": {
      "text/plain": [
       "[['DS5', 2019, True], ['A5', 2019, True]]"
      ]
     },
     "execution_count": 140,
     "metadata": {},
     "output_type": "execute_result"
    }
   ],
   "source": [
    "zero_km_Y = []\n",
    "\n",
    "for lista in dados:\n",
    "  if(lista[2] == True):\n",
    "    zero_km_Y.append(lista)\n",
    "    \n",
    "zero_km_Y"
   ]
  },
  {
   "cell_type": "code",
   "execution_count": 141,
   "metadata": {
    "colab": {
     "base_uri": "https://localhost:8080/",
     "height": 153
    },
    "colab_type": "code",
    "id": "5MlITJppltoy",
    "outputId": "a47edb79-e00e-460f-c381-bb4af70cb09e"
   },
   "outputs": [
    {
     "data": {
      "text/plain": [
       "[['Jetta Variant', 2003, False],\n",
       " ['Passat', 1991, False],\n",
       " ['Crossfox', 1990, False],\n",
       " ['Aston Martin DB4', 2006, False],\n",
       " ['Palio Weekend', 2012, False],\n",
       " ['Série 3 Cabrio', 2009, False],\n",
       " ['Dodge Jorney', 2019, False],\n",
       " ['Carens', 2011, False]]"
      ]
     },
     "execution_count": 141,
     "metadata": {},
     "output_type": "execute_result"
    }
   ],
   "source": [
    "zero_km_N = []\n",
    "\n",
    "for lista in dados:\n",
    "  if(lista[2] == False):\n",
    "    zero_km_N.append(lista)\n",
    "    \n",
    "zero_km_N"
   ]
  },
  {
   "cell_type": "markdown",
   "metadata": {
    "colab_type": "text",
    "id": "51Js0kXD0aRH"
   },
   "source": [
    "### List comprehensions"
   ]
  },
  {
   "cell_type": "code",
   "execution_count": 142,
   "metadata": {
    "colab": {
     "base_uri": "https://localhost:8080/",
     "height": 34
    },
    "colab_type": "code",
    "id": "Ly4QUX5J0aRI",
    "outputId": "dd66e50c-ca18-4041-c62f-080fa8782d9f"
   },
   "outputs": [
    {
     "data": {
      "text/plain": [
       "[['DS5', 2019, True], ['A5', 2019, True]]"
      ]
     },
     "execution_count": 142,
     "metadata": {},
     "output_type": "execute_result"
    }
   ],
   "source": [
    "[lista for lista in dados if lista[2] == True]"
   ]
  },
  {
   "cell_type": "markdown",
   "metadata": {
    "colab_type": "text",
    "id": "CKjrvO5Tltoz"
   },
   "source": [
    "# 4.4 Instruções *if-else* e *if-elif-else*\n",
    "\n",
    "#### Formato padrão\n",
    "\n",
    "```\n",
    "if <condição>:\n",
    "    <instruções caso a condição seja verdadeira>\n",
    "else:\n",
    "    <instruções caso a condição não seja verdadeira>\n",
    "```"
   ]
  },
  {
   "cell_type": "code",
   "execution_count": 143,
   "metadata": {
    "colab": {},
    "colab_type": "code",
    "id": "K_VORb47ltoz"
   },
   "outputs": [],
   "source": [
    "zero_km_Y, zero_km_N = [], []\n",
    "\n",
    "for lista in dados:\n",
    "  if(lista[2] == True):\n",
    "    zero_km_Y.append(lista)\n",
    "  else:\n",
    "    zero_km_N.append(lista)"
   ]
  },
  {
   "cell_type": "code",
   "execution_count": 144,
   "metadata": {
    "colab": {
     "base_uri": "https://localhost:8080/",
     "height": 34
    },
    "colab_type": "code",
    "id": "vhz5T7jDlto1",
    "outputId": "8c0db05e-ab1b-43a9-e506-acbd951309dd"
   },
   "outputs": [
    {
     "data": {
      "text/plain": [
       "[['DS5', 2019, True], ['A5', 2019, True]]"
      ]
     },
     "execution_count": 144,
     "metadata": {},
     "output_type": "execute_result"
    }
   ],
   "source": [
    "zero_km_Y"
   ]
  },
  {
   "cell_type": "code",
   "execution_count": 145,
   "metadata": {
    "colab": {
     "base_uri": "https://localhost:8080/",
     "height": 153
    },
    "colab_type": "code",
    "id": "XlvlpPjhlto1",
    "outputId": "4aead204-889c-4636-9259-c2f8e2b954f5"
   },
   "outputs": [
    {
     "data": {
      "text/plain": [
       "[['Jetta Variant', 2003, False],\n",
       " ['Passat', 1991, False],\n",
       " ['Crossfox', 1990, False],\n",
       " ['Aston Martin DB4', 2006, False],\n",
       " ['Palio Weekend', 2012, False],\n",
       " ['Série 3 Cabrio', 2009, False],\n",
       " ['Dodge Jorney', 2019, False],\n",
       " ['Carens', 2011, False]]"
      ]
     },
     "execution_count": 145,
     "metadata": {},
     "output_type": "execute_result"
    }
   ],
   "source": [
    "zero_km_N"
   ]
  },
  {
   "cell_type": "markdown",
   "metadata": {
    "colab_type": "text",
    "id": "Z2-8WeN1lto2"
   },
   "source": [
    "#### Formato padrão\n",
    "\n",
    "```\n",
    "if <condição 1>:\n",
    "    <instruções caso a condição 1 seja verdadeira>\n",
    "elif <condição 2>:\n",
    "    <instruções caso a condição 2 seja verdadeira>\n",
    "elif <condição 3>:\n",
    "    <instruções caso a condição 3 seja verdadeira>\n",
    "                        .\n",
    "                        .\n",
    "                        .\n",
    "else:\n",
    "    <instruções caso as condições anteriores não sejam verdadeiras>\n",
    "```"
   ]
  },
  {
   "cell_type": "code",
   "execution_count": 146,
   "metadata": {
    "colab": {
     "base_uri": "https://localhost:8080/",
     "height": 187
    },
    "colab_type": "code",
    "id": "ggrbaB4Tlto2",
    "outputId": "51b9ddf0-a96f-46a7-a281-2f8c9c6e2171"
   },
   "outputs": [
    {
     "data": {
      "text/plain": [
       "[['Jetta Variant', 2003, False],\n",
       " ['Passat', 1991, False],\n",
       " ['Crossfox', 1990, False],\n",
       " ['DS5', 2019, True],\n",
       " ['Aston Martin DB4', 2006, False],\n",
       " ['Palio Weekend', 2012, False],\n",
       " ['A5', 2019, True],\n",
       " ['Série 3 Cabrio', 2009, False],\n",
       " ['Dodge Jorney', 2019, False],\n",
       " ['Carens', 2011, False]]"
      ]
     },
     "execution_count": 146,
     "metadata": {},
     "output_type": "execute_result"
    }
   ],
   "source": [
    "dados"
   ]
  },
  {
   "cell_type": "code",
   "execution_count": 147,
   "metadata": {
    "colab": {
     "base_uri": "https://localhost:8080/",
     "height": 102
    },
    "colab_type": "code",
    "id": "KJgRc1F9lto3",
    "outputId": "4ae7bd3c-1397-45c7-b773-ac968ea37f59"
   },
   "outputs": [
    {
     "name": "stdout",
     "output_type": "stream",
     "text": [
      "AND\n",
      "(True and True) o resultado é: True\n",
      "(True and False) o resultado é: False\n",
      "(False and True) o resultado é: False\n",
      "(False and False) o resultado é: False\n"
     ]
    }
   ],
   "source": [
    "print('AND')\n",
    "print(f'(True and True) o resultado é: {True and True}')\n",
    "print(f'(True and False) o resultado é: {True and False}')\n",
    "print(f'(False and True) o resultado é: {False and True}')\n",
    "print(f'(False and False) o resultado é: {False and False}')"
   ]
  },
  {
   "cell_type": "code",
   "execution_count": 148,
   "metadata": {
    "colab": {
     "base_uri": "https://localhost:8080/",
     "height": 102
    },
    "colab_type": "code",
    "id": "sb0mSh-o0aRM",
    "outputId": "9a94b896-d4af-4e99-a4a2-cc65da7b088c"
   },
   "outputs": [
    {
     "name": "stdout",
     "output_type": "stream",
     "text": [
      "OR\n",
      "(True or True) o resultado é: True\n",
      "(True or False) o resultado é: True\n",
      "(False or True) o resultado é: True\n",
      "(False or False) o resultado é: False\n"
     ]
    }
   ],
   "source": [
    "print('OR')\n",
    "print(f'(True or True) o resultado é: {True or True}')\n",
    "print(f'(True or False) o resultado é: {True or False}')\n",
    "print(f'(False or True) o resultado é: {False or True}')\n",
    "print(f'(False or False) o resultado é: {False or False}')"
   ]
  },
  {
   "cell_type": "code",
   "execution_count": 149,
   "metadata": {
    "colab": {},
    "colab_type": "code",
    "id": "AfNdTPzElto3"
   },
   "outputs": [],
   "source": [
    "A, B, C = [], [], []\n",
    "\n",
    "for lista in dados:\n",
    "  if(lista[1] <=2000):\n",
    "    A.append(lista)\n",
    "  elif(lista[1] > 2000 and lista[1] <= 2010):\n",
    "    B.append(lista)\n",
    "  else:\n",
    "    C.append(lista)"
   ]
  },
  {
   "cell_type": "code",
   "execution_count": 150,
   "metadata": {
    "colab": {
     "base_uri": "https://localhost:8080/",
     "height": 34
    },
    "colab_type": "code",
    "id": "5bN7SuvTlto4",
    "outputId": "f028696d-0ab9-4f96-c004-b471aa19eedf"
   },
   "outputs": [
    {
     "data": {
      "text/plain": [
       "[['Passat', 1991, False], ['Crossfox', 1990, False]]"
      ]
     },
     "execution_count": 150,
     "metadata": {},
     "output_type": "execute_result"
    }
   ],
   "source": [
    "A"
   ]
  },
  {
   "cell_type": "code",
   "execution_count": 151,
   "metadata": {
    "colab": {
     "base_uri": "https://localhost:8080/",
     "height": 68
    },
    "colab_type": "code",
    "id": "dDEl3Vfglto4",
    "outputId": "4a27e533-c13f-44db-dfeb-671daf0771b9"
   },
   "outputs": [
    {
     "data": {
      "text/plain": [
       "[['Jetta Variant', 2003, False],\n",
       " ['Aston Martin DB4', 2006, False],\n",
       " ['Série 3 Cabrio', 2009, False]]"
      ]
     },
     "execution_count": 151,
     "metadata": {},
     "output_type": "execute_result"
    }
   ],
   "source": [
    "B"
   ]
  },
  {
   "cell_type": "code",
   "execution_count": 152,
   "metadata": {
    "colab": {
     "base_uri": "https://localhost:8080/",
     "height": 102
    },
    "colab_type": "code",
    "id": "Ot4HLQlelto5",
    "outputId": "af8473c0-ba79-4cad-aab4-832561d98264"
   },
   "outputs": [
    {
     "data": {
      "text/plain": [
       "[['DS5', 2019, True],\n",
       " ['Palio Weekend', 2012, False],\n",
       " ['A5', 2019, True],\n",
       " ['Dodge Jorney', 2019, False],\n",
       " ['Carens', 2011, False]]"
      ]
     },
     "execution_count": 152,
     "metadata": {},
     "output_type": "execute_result"
    }
   ],
   "source": [
    "C"
   ]
  },
  {
   "cell_type": "code",
   "execution_count": 153,
   "metadata": {
    "colab": {},
    "colab_type": "code",
    "id": "FN26ZBKJlto5"
   },
   "outputs": [],
   "source": [
    "A, B, C = [], [], []\n",
    "\n",
    "for lista in dados:\n",
    "  if(lista[1] <=2000):\n",
    "    A.append(lista)\n",
    "  elif(2000 < lista[1] <= 2010):\n",
    "    B.append(lista)\n",
    "  else:\n",
    "    C.append(lista)"
   ]
  },
  {
   "cell_type": "markdown",
   "metadata": {
    "colab_type": "text",
    "id": "aRfQfubxlto6"
   },
   "source": [
    "# <font color=green> 5. NUMPY BÁSICO\n",
    "---\n",
    "\n",
    "Numpy é a abreviação de Numerical Python e é um dos pacotes mais importantes para processamento numérico em Python. Numpy oferece a base para a maioria dos pacotes de aplicações científicas que utilizem dados numéricos em Python (estruturas de dados e algoritmos). Pode-se destacar os seguintes recursos que o pacote Numpy contém:\n",
    "\n",
    "- Um poderoso objeto array multidimensional;\n",
    "- Funções matemáticas sofisticadas para operações com arrays sem a necessidade de utilização de laços *for*;\n",
    "- Recursos de algebra linear e geração de números aleatórios\n",
    "\n",
    "Além de seus óbvios usos científicos, o pacote NumPy também é muito utilizado em análise de dados como um eficiente contêiner multidimensional de dados genéricos para transporte entre diversos algoritmos e bibliotecas em Python.\n",
    "\n",
    "**Versão:** 1.16.5\n",
    "\n",
    "**Instalação:** https://scipy.org/install.html\n",
    "\n",
    "**Documentação:** https://numpy.org/doc/1.16/"
   ]
  },
  {
   "cell_type": "markdown",
   "metadata": {
    "colab_type": "text",
    "id": "RtG2-g1ultme"
   },
   "source": [
    "### Pacotes\n",
    "\n",
    "Existem diversos pacotes Python disponíveis para download na internet. Cada pacote tem como objetivo a solução de determinado tipo de problema e para isso são desenvolvidos novos tipos, funções e métodos.\n",
    "\n",
    "Alguns pacotes são bastante utilizados em um contexto de ciência de dados como por exemplo:\n",
    "\n",
    "- Numpy\n",
    "- Pandas\n",
    "- Scikit-learn\n",
    "- Matplotlib\n",
    "\n",
    "Alguns pacotes não são distribuídos com a instalação default do Python. Neste caso devemos instalar os pacotes que necessitamos em nosso sistema para podermos utilizar suas funcionalidades."
   ]
  },
  {
   "cell_type": "markdown",
   "metadata": {
    "colab_type": "text",
    "id": "b8prsQjmltme"
   },
   "source": [
    "### Importando todo o pacote"
   ]
  },
  {
   "cell_type": "code",
   "execution_count": 154,
   "metadata": {
    "colab": {},
    "colab_type": "code",
    "id": "lP0tqXHLltmf"
   },
   "outputs": [],
   "source": [
    "import numpy as np\n",
    "import pandas as pd\n",
    "import sklearn\n",
    "import matplotlib.pyplot"
   ]
  },
  {
   "cell_type": "markdown",
   "metadata": {
    "colab_type": "text",
    "id": "ESliJKAaQMRY"
   },
   "source": [
    "https://numpy.org/doc/1.16/reference/generated/numpy.arange.html"
   ]
  },
  {
   "cell_type": "code",
   "execution_count": null,
   "metadata": {
    "colab": {},
    "colab_type": "code",
    "id": "Y40UP3K7ltmg"
   },
   "outputs": [],
   "source": []
  },
  {
   "cell_type": "markdown",
   "metadata": {
    "colab_type": "text",
    "id": "84-53f4Lltmh"
   },
   "source": [
    "### Importando todo o pacote e atribuindo um novo nome "
   ]
  },
  {
   "cell_type": "code",
   "execution_count": null,
   "metadata": {
    "colab": {},
    "colab_type": "code",
    "id": "CzESWck7ltmi"
   },
   "outputs": [],
   "source": []
  },
  {
   "cell_type": "code",
   "execution_count": null,
   "metadata": {
    "colab": {},
    "colab_type": "code",
    "id": "RC7Dr5Viltmj"
   },
   "outputs": [],
   "source": []
  },
  {
   "cell_type": "markdown",
   "metadata": {
    "colab_type": "text",
    "id": "WWawttSpltml"
   },
   "source": [
    "### Importando parte do pacote"
   ]
  },
  {
   "cell_type": "code",
   "execution_count": null,
   "metadata": {
    "colab": {},
    "colab_type": "code",
    "id": "8kTeo3Ltltmo"
   },
   "outputs": [],
   "source": []
  },
  {
   "cell_type": "code",
   "execution_count": null,
   "metadata": {
    "colab": {},
    "colab_type": "code",
    "id": "4LPnpiEwltmt"
   },
   "outputs": [],
   "source": []
  },
  {
   "cell_type": "markdown",
   "metadata": {
    "colab_type": "text",
    "id": "VSmffnCklto6"
   },
   "source": [
    "# 5.1 Criando arrays Numpy"
   ]
  },
  {
   "cell_type": "code",
   "execution_count": null,
   "metadata": {
    "colab": {},
    "colab_type": "code",
    "id": "Wqpin_-Plto8"
   },
   "outputs": [],
   "source": []
  },
  {
   "cell_type": "markdown",
   "metadata": {
    "colab_type": "text",
    "id": "ock4Ku-Ulto8"
   },
   "source": [
    "### A partir de listas\n",
    "\n",
    "https://numpy.org/doc/1.16/user/basics.creation.html"
   ]
  },
  {
   "cell_type": "code",
   "execution_count": null,
   "metadata": {
    "colab": {},
    "colab_type": "code",
    "id": "82H-09CQlto9"
   },
   "outputs": [],
   "source": []
  },
  {
   "cell_type": "code",
   "execution_count": null,
   "metadata": {
    "colab": {},
    "colab_type": "code",
    "id": "8VYE3JSYlto9"
   },
   "outputs": [],
   "source": []
  },
  {
   "cell_type": "code",
   "execution_count": null,
   "metadata": {
    "colab": {},
    "colab_type": "code",
    "id": "OBsa5Cfplto-"
   },
   "outputs": [],
   "source": []
  },
  {
   "cell_type": "markdown",
   "metadata": {
    "colab_type": "text",
    "id": "RfQ3jJSAlto-"
   },
   "source": [
    "https://numpy.org/doc/1.16/user/basics.types.html"
   ]
  },
  {
   "cell_type": "code",
   "execution_count": null,
   "metadata": {
    "colab": {},
    "colab_type": "code",
    "id": "6yLpkJcAlto-"
   },
   "outputs": [],
   "source": []
  },
  {
   "cell_type": "markdown",
   "metadata": {
    "colab_type": "text",
    "id": "1pFx86QPlto_"
   },
   "source": [
    "### A partir de dados externos\n",
    "\n",
    "https://numpy.org/doc/1.16/reference/generated/numpy.loadtxt.html"
   ]
  },
  {
   "cell_type": "code",
   "execution_count": null,
   "metadata": {
    "colab": {},
    "colab_type": "code",
    "id": "26pQLNgrlto_"
   },
   "outputs": [],
   "source": []
  },
  {
   "cell_type": "code",
   "execution_count": null,
   "metadata": {
    "colab": {},
    "colab_type": "code",
    "id": "FoP42bdpltpA",
    "scrolled": true
   },
   "outputs": [],
   "source": []
  },
  {
   "cell_type": "code",
   "execution_count": null,
   "metadata": {
    "colab": {},
    "colab_type": "code",
    "id": "MNPjZJbYltpA"
   },
   "outputs": [],
   "source": []
  },
  {
   "cell_type": "markdown",
   "metadata": {
    "colab_type": "text",
    "id": "_wnTg0wJltpB"
   },
   "source": [
    "### Arrays com duas dimensões"
   ]
  },
  {
   "cell_type": "code",
   "execution_count": 155,
   "metadata": {
    "colab": {
     "base_uri": "https://localhost:8080/",
     "height": 425
    },
    "colab_type": "code",
    "id": "Gt1dL27GltpB",
    "outputId": "6cf89502-f71a-426e-bbe8-06ec0226c9fe",
    "scrolled": true
   },
   "outputs": [
    {
     "data": {
      "text/plain": [
       "[['Rodas de liga',\n",
       "  'Travas elétricas',\n",
       "  'Piloto automático',\n",
       "  'Bancos de couro',\n",
       "  'Ar condicionado',\n",
       "  'Sensor de estacionamento',\n",
       "  'Sensor crepuscular',\n",
       "  'Sensor de chuva'],\n",
       " ['Central multimídia',\n",
       "  'Teto panorâmico',\n",
       "  'Freios ABS',\n",
       "  '4 X 4',\n",
       "  'Painel digital',\n",
       "  'Piloto automático',\n",
       "  'Bancos de couro',\n",
       "  'Câmera de estacionamento'],\n",
       " ['Piloto automático',\n",
       "  'Controle de estabilidade',\n",
       "  'Sensor crepuscular',\n",
       "  'Freios ABS',\n",
       "  'Câmbio automático',\n",
       "  'Bancos de couro',\n",
       "  'Central multimídia',\n",
       "  'Vidros elétricos']]"
      ]
     },
     "execution_count": 155,
     "metadata": {},
     "output_type": "execute_result"
    }
   ],
   "source": [
    "dados = [ \n",
    "    ['Rodas de liga', 'Travas elétricas', 'Piloto automático', 'Bancos de couro', 'Ar condicionado', 'Sensor de estacionamento', 'Sensor crepuscular', 'Sensor de chuva'],\n",
    "    ['Central multimídia', 'Teto panorâmico', 'Freios ABS', '4 X 4', 'Painel digital', 'Piloto automático', 'Bancos de couro', 'Câmera de estacionamento'],\n",
    "    ['Piloto automático', 'Controle de estabilidade', 'Sensor crepuscular', 'Freios ABS', 'Câmbio automático', 'Bancos de couro', 'Central multimídia', 'Vidros elétricos']\n",
    "]\n",
    "dados"
   ]
  },
  {
   "cell_type": "code",
   "execution_count": null,
   "metadata": {
    "colab": {},
    "colab_type": "code",
    "id": "IlbYeZPkltpC"
   },
   "outputs": [],
   "source": []
  },
  {
   "cell_type": "code",
   "execution_count": null,
   "metadata": {
    "colab": {},
    "colab_type": "code",
    "id": "FgjmWozgltpD",
    "scrolled": true
   },
   "outputs": [],
   "source": []
  },
  {
   "cell_type": "code",
   "execution_count": null,
   "metadata": {
    "colab": {},
    "colab_type": "code",
    "id": "TDM9HskUltpD"
   },
   "outputs": [],
   "source": []
  },
  {
   "cell_type": "code",
   "execution_count": null,
   "metadata": {
    "colab": {},
    "colab_type": "code",
    "id": "bBmnzpF5ltpE"
   },
   "outputs": [],
   "source": []
  },
  {
   "cell_type": "markdown",
   "metadata": {
    "colab_type": "text",
    "id": "cPbkST9pltpE"
   },
   "source": [
    "### Comparando desempenho com listas"
   ]
  },
  {
   "cell_type": "code",
   "execution_count": null,
   "metadata": {
    "colab": {},
    "colab_type": "code",
    "id": "tTPC-G4vltpE"
   },
   "outputs": [],
   "source": []
  },
  {
   "cell_type": "code",
   "execution_count": null,
   "metadata": {
    "colab": {},
    "colab_type": "code",
    "id": "PIC-ndg9ltpF"
   },
   "outputs": [],
   "source": []
  },
  {
   "cell_type": "code",
   "execution_count": null,
   "metadata": {
    "colab": {},
    "colab_type": "code",
    "id": "vXy57nk2ltpF"
   },
   "outputs": [],
   "source": []
  },
  {
   "cell_type": "code",
   "execution_count": null,
   "metadata": {
    "colab": {},
    "colab_type": "code",
    "id": "I94lVgCRltpG"
   },
   "outputs": [],
   "source": []
  },
  {
   "cell_type": "markdown",
   "metadata": {
    "colab_type": "text",
    "id": "ul4MuKyTltpG"
   },
   "source": [
    "# 5.2 Operações aritméticas com arrays Numpy"
   ]
  },
  {
   "cell_type": "markdown",
   "metadata": {
    "colab_type": "text",
    "id": "QwnxO_rYltpH"
   },
   "source": [
    "### Operações entre arrays e constantes"
   ]
  },
  {
   "cell_type": "code",
   "execution_count": 156,
   "metadata": {
    "colab": {},
    "colab_type": "code",
    "id": "63KVHPK0ltpH"
   },
   "outputs": [],
   "source": [
    "km = [44410., 5712., 37123., 0., 25757.]\n",
    "anos = [2003, 1991, 1990, 2019, 2006]"
   ]
  },
  {
   "cell_type": "code",
   "execution_count": 157,
   "metadata": {
    "colab": {},
    "colab_type": "code",
    "id": "s8GvEk4HltpI"
   },
   "outputs": [],
   "source": [
    "km = np.array([44410., 5712., 37123., 0., 25757.])\n",
    "anos = np.array([2003, 1991, 1990, 2019, 2006])"
   ]
  },
  {
   "cell_type": "code",
   "execution_count": 158,
   "metadata": {
    "colab": {},
    "colab_type": "code",
    "id": "aUnYV7OultpI"
   },
   "outputs": [],
   "source": [
    "idade = 2019 - anos"
   ]
  },
  {
   "cell_type": "code",
   "execution_count": 159,
   "metadata": {},
   "outputs": [
    {
     "data": {
      "text/plain": [
       "array([16, 28, 29,  0, 13])"
      ]
     },
     "execution_count": 159,
     "metadata": {},
     "output_type": "execute_result"
    }
   ],
   "source": [
    "idade"
   ]
  },
  {
   "cell_type": "markdown",
   "metadata": {},
   "source": [
    "km_media = km/idade"
   ]
  },
  {
   "cell_type": "code",
   "execution_count": 160,
   "metadata": {
    "colab": {},
    "colab_type": "code",
    "id": "vg5yZ9IpltpJ"
   },
   "outputs": [
    {
     "data": {
      "text/plain": [
       "2775.625"
      ]
     },
     "execution_count": 160,
     "metadata": {},
     "output_type": "execute_result"
    }
   ],
   "source": [
    "km_media"
   ]
  },
  {
   "cell_type": "markdown",
   "metadata": {
    "colab_type": "text",
    "id": "qn1PUsM9ltpJ"
   },
   "source": [
    "### Operações entre arrays"
   ]
  },
  {
   "cell_type": "code",
   "execution_count": 161,
   "metadata": {
    "colab": {},
    "colab_type": "code",
    "id": "gU_d5aZkltpJ"
   },
   "outputs": [
    {
     "data": {
      "text/plain": [
       "2775.625"
      ]
     },
     "execution_count": 161,
     "metadata": {},
     "output_type": "execute_result"
    }
   ],
   "source": [
    "44410/(2019-2003)"
   ]
  },
  {
   "cell_type": "code",
   "execution_count": 162,
   "metadata": {
    "colab": {},
    "colab_type": "code",
    "id": "U9DXntUEltpK"
   },
   "outputs": [
    {
     "data": {
      "text/plain": [
       "204.0"
      ]
     },
     "execution_count": 162,
     "metadata": {},
     "output_type": "execute_result"
    }
   ],
   "source": [
    "5712/(2019-1991)"
   ]
  },
  {
   "cell_type": "code",
   "execution_count": 163,
   "metadata": {
    "colab": {},
    "colab_type": "code",
    "id": "n0rPxgY1ltpL"
   },
   "outputs": [
    {
     "data": {
      "text/plain": [
       "1280.103448275862"
      ]
     },
     "execution_count": 163,
     "metadata": {},
     "output_type": "execute_result"
    }
   ],
   "source": [
    "37123/(2019-1990)"
   ]
  },
  {
   "cell_type": "markdown",
   "metadata": {
    "colab_type": "text",
    "id": "o4-gsGICltpN"
   },
   "source": [
    "### Operações com arrays de duas dimensões"
   ]
  },
  {
   "cell_type": "code",
   "execution_count": 164,
   "metadata": {
    "colab": {},
    "colab_type": "code",
    "id": "VT71Pbb3ltpN"
   },
   "outputs": [
    {
     "data": {
      "text/plain": [
       "array([[44410.,  5712., 37123.,     0., 25757.],\n",
       "       [ 2003.,  1991.,  1990.,  2019.,  2006.]])"
      ]
     },
     "execution_count": 164,
     "metadata": {},
     "output_type": "execute_result"
    }
   ],
   "source": [
    "dados = np.array([km, anos])\n",
    "dados"
   ]
  },
  {
   "cell_type": "code",
   "execution_count": 165,
   "metadata": {
    "colab": {},
    "colab_type": "code",
    "id": "bgDe00q8ltpO"
   },
   "outputs": [
    {
     "data": {
      "text/plain": [
       "(2, 5)"
      ]
     },
     "execution_count": 165,
     "metadata": {},
     "output_type": "execute_result"
    }
   ],
   "source": [
    "dados.shape"
   ]
  },
  {
   "cell_type": "code",
   "execution_count": null,
   "metadata": {
    "colab": {},
    "colab_type": "code",
    "id": "jIQU2ugKltpP"
   },
   "outputs": [],
   "source": []
  },
  {
   "cell_type": "markdown",
   "metadata": {
    "colab_type": "text",
    "id": "dsgz-E5ZltpP"
   },
   "source": [
    "![1410-img01.png](https://caelum-online-public.s3.amazonaws.com/1410-pythondatascience/01/1410-img01.png)"
   ]
  },
  {
   "cell_type": "code",
   "execution_count": 166,
   "metadata": {
    "colab": {},
    "colab_type": "code",
    "id": "imANn6HultpQ"
   },
   "outputs": [
    {
     "data": {
      "text/plain": [
       "array([44410.,  5712., 37123.,     0., 25757.])"
      ]
     },
     "execution_count": 166,
     "metadata": {},
     "output_type": "execute_result"
    }
   ],
   "source": [
    "dados[0]"
   ]
  },
  {
   "cell_type": "code",
   "execution_count": 167,
   "metadata": {
    "colab": {},
    "colab_type": "code",
    "id": "Nkp9ljkvltpQ"
   },
   "outputs": [
    {
     "name": "stderr",
     "output_type": "stream",
     "text": [
      "C:\\ProgramData\\anaconda.3\\lib\\site-packages\\ipykernel_launcher.py:1: RuntimeWarning: invalid value encountered in true_divide\n",
      "  \"\"\"Entry point for launching an IPython kernel.\n"
     ]
    }
   ],
   "source": [
    "km_media = dados[0]/(2019 - dados[1])\n"
   ]
  },
  {
   "cell_type": "code",
   "execution_count": 168,
   "metadata": {
    "colab": {},
    "colab_type": "code",
    "id": "njJ2z3HJltpR"
   },
   "outputs": [
    {
     "data": {
      "text/plain": [
       "array([2775.625     ,  204.        , 1280.10344828,           nan,\n",
       "       1981.30769231])"
      ]
     },
     "execution_count": 168,
     "metadata": {},
     "output_type": "execute_result"
    }
   ],
   "source": [
    "km_media"
   ]
  },
  {
   "cell_type": "markdown",
   "metadata": {
    "colab_type": "text",
    "id": "4CAwtS0-ltpR"
   },
   "source": [
    "# 5.3 Seleções com arrays Numpy"
   ]
  },
  {
   "cell_type": "markdown",
   "metadata": {
    "colab_type": "text",
    "id": "QDAT1vODltpS"
   },
   "source": [
    "![1410-img01.png](https://caelum-online-public.s3.amazonaws.com/1410-pythondatascience/01/1410-img01.png)"
   ]
  },
  {
   "cell_type": "code",
   "execution_count": null,
   "metadata": {
    "colab": {},
    "colab_type": "code",
    "id": "nZpPGS2TltpS"
   },
   "outputs": [],
   "source": []
  },
  {
   "cell_type": "markdown",
   "metadata": {
    "colab_type": "text",
    "id": "b--BIPcOltpT"
   },
   "source": [
    "![1410-img02.png](https://caelum-online-public.s3.amazonaws.com/1410-pythondatascience/01/1410-img02.png)"
   ]
  },
  {
   "cell_type": "markdown",
   "metadata": {
    "colab_type": "text",
    "id": "86-hOHa7ltpT"
   },
   "source": [
    "### Indexação \n",
    "\n",
    "<font color=red>**Observação:**</font> A indexação tem origem no zero."
   ]
  },
  {
   "cell_type": "code",
   "execution_count": 169,
   "metadata": {
    "colab": {},
    "colab_type": "code",
    "id": "mr0Q_X0JltpT"
   },
   "outputs": [
    {
     "data": {
      "text/plain": [
       "array([0, 1, 2, 3, 4, 5, 6, 7, 8, 9])"
      ]
     },
     "execution_count": 169,
     "metadata": {},
     "output_type": "execute_result"
    }
   ],
   "source": [
    "contador = np.arange(10)\n",
    "contador"
   ]
  },
  {
   "cell_type": "code",
   "execution_count": 170,
   "metadata": {
    "colab": {},
    "colab_type": "code",
    "id": "VxiR_IgdltpU"
   },
   "outputs": [
    {
     "data": {
      "text/plain": [
       "0"
      ]
     },
     "execution_count": 170,
     "metadata": {},
     "output_type": "execute_result"
    }
   ],
   "source": [
    "contador[0]"
   ]
  },
  {
   "cell_type": "code",
   "execution_count": 171,
   "metadata": {
    "colab": {},
    "colab_type": "code",
    "id": "xGDomIyAltpU"
   },
   "outputs": [
    {
     "data": {
      "text/plain": [
       "5"
      ]
     },
     "execution_count": 171,
     "metadata": {},
     "output_type": "execute_result"
    }
   ],
   "source": [
    "item = 6\n",
    "index = item - 1\n",
    "contador[index]"
   ]
  },
  {
   "cell_type": "code",
   "execution_count": 172,
   "metadata": {},
   "outputs": [
    {
     "data": {
      "text/plain": [
       "9"
      ]
     },
     "execution_count": 172,
     "metadata": {},
     "output_type": "execute_result"
    }
   ],
   "source": [
    "contador[-1]"
   ]
  },
  {
   "cell_type": "raw",
   "metadata": {},
   "source": [
    "dados[0]\n",
    "dados"
   ]
  },
  {
   "cell_type": "code",
   "execution_count": null,
   "metadata": {
    "colab": {},
    "colab_type": "code",
    "id": "rvkeMK8KltpV"
   },
   "outputs": [],
   "source": []
  },
  {
   "cell_type": "code",
   "execution_count": null,
   "metadata": {
    "colab": {},
    "colab_type": "code",
    "id": "X8c-lJRJltpW"
   },
   "outputs": [],
   "source": []
  },
  {
   "cell_type": "markdown",
   "metadata": {
    "colab_type": "text",
    "id": "fCWUSI1zltpZ"
   },
   "source": [
    "## <font color=green>**Dica:**</font>\n",
    "### *ndarray[ linha ][ coluna ]* ou *ndarray[ linha, coluna ]*"
   ]
  },
  {
   "cell_type": "code",
   "execution_count": 173,
   "metadata": {
    "colab": {},
    "colab_type": "code",
    "id": "Nxc3uY-ZltpZ"
   },
   "outputs": [
    {
     "data": {
      "text/plain": [
       "1990.0"
      ]
     },
     "execution_count": 173,
     "metadata": {},
     "output_type": "execute_result"
    }
   ],
   "source": [
    "dados[1][2]"
   ]
  },
  {
   "cell_type": "code",
   "execution_count": 174,
   "metadata": {
    "colab": {},
    "colab_type": "code",
    "id": "xp8ByjualtpZ"
   },
   "outputs": [
    {
     "data": {
      "text/plain": [
       "1990.0"
      ]
     },
     "execution_count": 174,
     "metadata": {},
     "output_type": "execute_result"
    }
   ],
   "source": [
    "dados[1, 2]"
   ]
  },
  {
   "cell_type": "markdown",
   "metadata": {
    "colab_type": "text",
    "id": "7osmTUC4ltpa"
   },
   "source": [
    " ### Fatiamentos\n",
    " \n",
    "A sintaxe para realizar fatiamento em um array Numpy é $i : j : k$ onde $i$ é o índice inicial, $j$ é o índice de parada, e $k$ é o indicador de passo ($k\\neq0$)\n",
    " \n",
    "<font color=red>**Observação:**</font> Nos fatiamentos (*slices*) o item com índice i é **incluído** e o item com índice j **não é incluído** no resultado."
   ]
  },
  {
   "cell_type": "markdown",
   "metadata": {
    "colab_type": "text",
    "id": "HEx4TbNlltpa"
   },
   "source": [
    "![1410-img01.png](https://caelum-online-public.s3.amazonaws.com/1410-pythondatascience/01/1410-img01.png)"
   ]
  },
  {
   "cell_type": "code",
   "execution_count": 175,
   "metadata": {
    "colab": {},
    "colab_type": "code",
    "id": "tlaD1SENltpb"
   },
   "outputs": [
    {
     "data": {
      "text/plain": [
       "array([0, 1, 2, 3, 4, 5, 6, 7, 8, 9])"
      ]
     },
     "execution_count": 175,
     "metadata": {},
     "output_type": "execute_result"
    }
   ],
   "source": [
    "contador = np.arange(10)\n",
    "contador"
   ]
  },
  {
   "cell_type": "code",
   "execution_count": 176,
   "metadata": {},
   "outputs": [
    {
     "data": {
      "text/plain": [
       "array([1, 2, 3])"
      ]
     },
     "execution_count": 176,
     "metadata": {},
     "output_type": "execute_result"
    }
   ],
   "source": [
    "contador[1:4]"
   ]
  },
  {
   "cell_type": "code",
   "execution_count": 177,
   "metadata": {
    "colab": {},
    "colab_type": "code",
    "id": "vXLIO1cVltpc"
   },
   "outputs": [
    {
     "data": {
      "text/plain": [
       "array([1, 3, 5, 7])"
      ]
     },
     "execution_count": 177,
     "metadata": {},
     "output_type": "execute_result"
    }
   ],
   "source": [
    "contador[1:8:2]"
   ]
  },
  {
   "cell_type": "code",
   "execution_count": 178,
   "metadata": {
    "colab": {},
    "colab_type": "code",
    "id": "kYLgsQcHltpc"
   },
   "outputs": [
    {
     "data": {
      "text/plain": [
       "array([0, 2, 4, 6, 8])"
      ]
     },
     "execution_count": 178,
     "metadata": {},
     "output_type": "execute_result"
    }
   ],
   "source": [
    "contador[::2]"
   ]
  },
  {
   "cell_type": "code",
   "execution_count": 179,
   "metadata": {
    "colab": {},
    "colab_type": "code",
    "id": "H2MJpIasltpd"
   },
   "outputs": [
    {
     "data": {
      "text/plain": [
       "array([1, 3, 5, 7, 9])"
      ]
     },
     "execution_count": 179,
     "metadata": {},
     "output_type": "execute_result"
    }
   ],
   "source": [
    "contador[1::2]"
   ]
  },
  {
   "cell_type": "code",
   "execution_count": 180,
   "metadata": {
    "colab": {},
    "colab_type": "code",
    "id": "YVzf4fNCltpe"
   },
   "outputs": [
    {
     "data": {
      "text/plain": [
       "array([[44410.,  5712., 37123.,     0., 25757.],\n",
       "       [ 2003.,  1991.,  1990.,  2019.,  2006.]])"
      ]
     },
     "execution_count": 180,
     "metadata": {},
     "output_type": "execute_result"
    }
   ],
   "source": [
    "dados"
   ]
  },
  {
   "cell_type": "code",
   "execution_count": 181,
   "metadata": {
    "colab": {},
    "colab_type": "code",
    "id": "bPyQsUFPltpf"
   },
   "outputs": [
    {
     "data": {
      "text/plain": [
       "array([[ 5712., 37123.,     0.],\n",
       "       [ 1991.,  1990.,  2019.]])"
      ]
     },
     "execution_count": 181,
     "metadata": {},
     "output_type": "execute_result"
    }
   ],
   "source": [
    "dados[:, 1:4]"
   ]
  },
  {
   "cell_type": "code",
   "execution_count": 182,
   "metadata": {
    "colab": {},
    "colab_type": "code",
    "id": "wfoJ84haltph"
   },
   "outputs": [
    {
     "data": {
      "text/plain": [
       "array([[-1.54670999e+00, -1.05751481e+00],\n",
       "       [ 2.04000000e+02,  1.28010345e+03]])"
      ]
     },
     "execution_count": 182,
     "metadata": {},
     "output_type": "execute_result"
    }
   ],
   "source": [
    "dados[:, 1:3][0]/(2019 - dados[:, 1:3])"
   ]
  },
  {
   "cell_type": "code",
   "execution_count": 183,
   "metadata": {
    "colab": {},
    "colab_type": "code",
    "id": "IRxfixG-ltpg"
   },
   "outputs": [
    {
     "data": {
      "text/plain": [
       "array([[ 5712., 37123.,     0., 25757.],\n",
       "       [ 1991.,  1990.,  2019.,  2006.]])"
      ]
     },
     "execution_count": 183,
     "metadata": {},
     "output_type": "execute_result"
    }
   ],
   "source": [
    "dados[:, 1:]"
   ]
  },
  {
   "cell_type": "code",
   "execution_count": 184,
   "metadata": {},
   "outputs": [
    {
     "data": {
      "text/plain": [
       "array([ 204.        , 1280.10344828])"
      ]
     },
     "execution_count": 184,
     "metadata": {},
     "output_type": "execute_result"
    }
   ],
   "source": [
    "dados[:, 1:3][0] / (2019 - dados[:, 1:3][1])"
   ]
  },
  {
   "cell_type": "code",
   "execution_count": 185,
   "metadata": {},
   "outputs": [
    {
     "name": "stderr",
     "output_type": "stream",
     "text": [
      "C:\\ProgramData\\anaconda.3\\lib\\site-packages\\ipykernel_launcher.py:1: RuntimeWarning: invalid value encountered in true_divide\n",
      "  \"\"\"Entry point for launching an IPython kernel.\n"
     ]
    },
    {
     "data": {
      "text/plain": [
       "array([2775.625     ,  204.        , 1280.10344828,           nan,\n",
       "       1981.30769231])"
      ]
     },
     "execution_count": 185,
     "metadata": {},
     "output_type": "execute_result"
    }
   ],
   "source": [
    "dados[0] / (2019 - dados[1])"
   ]
  },
  {
   "cell_type": "code",
   "execution_count": null,
   "metadata": {},
   "outputs": [],
   "source": []
  },
  {
   "cell_type": "markdown",
   "metadata": {
    "colab_type": "text",
    "id": "-fW4EXIqltpi"
   },
   "source": [
    "### Indexação com array booleano\n",
    "\n",
    "<font color=red>**Observação:**</font> Seleciona um grupo de linhas e colunas segundo os rótulos ou um array booleano."
   ]
  },
  {
   "cell_type": "code",
   "execution_count": 186,
   "metadata": {
    "colab": {},
    "colab_type": "code",
    "id": "MgmH-rCSltpi"
   },
   "outputs": [
    {
     "data": {
      "text/plain": [
       "array([0, 1, 2, 3, 4, 5, 6, 7, 8, 9])"
      ]
     },
     "execution_count": 186,
     "metadata": {},
     "output_type": "execute_result"
    }
   ],
   "source": [
    "contador = np.arange(10)\n",
    "contador"
   ]
  },
  {
   "cell_type": "code",
   "execution_count": 187,
   "metadata": {
    "colab": {},
    "colab_type": "code",
    "id": "HN1i-BlLltpj"
   },
   "outputs": [
    {
     "data": {
      "text/plain": [
       "array([False, False, False, False, False, False,  True,  True,  True,\n",
       "        True])"
      ]
     },
     "execution_count": 187,
     "metadata": {},
     "output_type": "execute_result"
    }
   ],
   "source": [
    "#index boleano\n",
    "contador > 5"
   ]
  },
  {
   "cell_type": "code",
   "execution_count": 188,
   "metadata": {
    "colab": {},
    "colab_type": "code",
    "id": "iXJa9tL4ltpj"
   },
   "outputs": [
    {
     "data": {
      "text/plain": [
       "array([6, 7, 8, 9])"
      ]
     },
     "execution_count": 188,
     "metadata": {},
     "output_type": "execute_result"
    }
   ],
   "source": [
    "contador[contador > 5]"
   ]
  },
  {
   "cell_type": "code",
   "execution_count": 189,
   "metadata": {
    "colab": {},
    "colab_type": "code",
    "id": "54gH6X5eltpk"
   },
   "outputs": [
    {
     "data": {
      "text/plain": [
       "array([6, 7, 8, 9])"
      ]
     },
     "execution_count": 189,
     "metadata": {},
     "output_type": "execute_result"
    }
   ],
   "source": [
    "contador[[False, False, False, False, False, False,  True,  True,  True,\n",
    "        True]]"
   ]
  },
  {
   "cell_type": "code",
   "execution_count": 190,
   "metadata": {},
   "outputs": [
    {
     "data": {
      "text/plain": [
       "array([[44410.,  5712., 37123.,     0., 25757.],\n",
       "       [ 2003.,  1991.,  1990.,  2019.,  2006.]])"
      ]
     },
     "execution_count": 190,
     "metadata": {},
     "output_type": "execute_result"
    }
   ],
   "source": [
    "dados"
   ]
  },
  {
   "cell_type": "code",
   "execution_count": 191,
   "metadata": {
    "colab": {},
    "colab_type": "code",
    "id": "pk8A68z1ltpl"
   },
   "outputs": [
    {
     "data": {
      "text/plain": [
       "array([ True, False, False,  True,  True])"
      ]
     },
     "execution_count": 191,
     "metadata": {},
     "output_type": "execute_result"
    }
   ],
   "source": [
    "dados[1] > 2000"
   ]
  },
  {
   "cell_type": "code",
   "execution_count": 194,
   "metadata": {
    "colab": {},
    "colab_type": "code",
    "id": "WUVMN29_ltpm"
   },
   "outputs": [
    {
     "data": {
      "text/plain": [
       "array([[44410.,     0., 25757.],\n",
       "       [ 2003.,  2019.,  2006.]])"
      ]
     },
     "execution_count": 194,
     "metadata": {},
     "output_type": "execute_result"
    }
   ],
   "source": [
    "dados[:, dados[1]>2000]"
   ]
  },
  {
   "cell_type": "markdown",
   "metadata": {
    "colab_type": "text",
    "id": "Acw1DffHltpn"
   },
   "source": [
    "# 5.4 Atributos e métodos de arrays Numpy"
   ]
  },
  {
   "cell_type": "markdown",
   "metadata": {
    "colab_type": "text",
    "id": "RBnSne6Eltpo"
   },
   "source": [
    "### Atributos\n",
    "\n",
    "https://numpy.org/doc/1.16/reference/arrays.ndarray.html#array-attributes"
   ]
  },
  {
   "cell_type": "code",
   "execution_count": null,
   "metadata": {
    "colab": {},
    "colab_type": "code",
    "id": "stjvD6m8ltpo"
   },
   "outputs": [],
   "source": []
  },
  {
   "cell_type": "markdown",
   "metadata": {
    "colab_type": "text",
    "id": "uKqPxg2Zltpo"
   },
   "source": [
    "## *ndarray.shape*\n",
    "\n",
    "Retorna uma tupla com as dimensões do array."
   ]
  },
  {
   "cell_type": "code",
   "execution_count": 195,
   "metadata": {
    "colab": {},
    "colab_type": "code",
    "id": "gmaZhF04ltpp"
   },
   "outputs": [
    {
     "data": {
      "text/plain": [
       "(2, 5)"
      ]
     },
     "execution_count": 195,
     "metadata": {},
     "output_type": "execute_result"
    }
   ],
   "source": [
    "dados.shape"
   ]
  },
  {
   "cell_type": "markdown",
   "metadata": {
    "colab_type": "text",
    "id": "XaY6oXkmltpp"
   },
   "source": [
    "## *ndarray.ndim*\n",
    "\n",
    "Retorna o número de dimensões do array."
   ]
  },
  {
   "cell_type": "code",
   "execution_count": 196,
   "metadata": {
    "colab": {},
    "colab_type": "code",
    "id": "inJ4HDjaltpq"
   },
   "outputs": [
    {
     "data": {
      "text/plain": [
       "2"
      ]
     },
     "execution_count": 196,
     "metadata": {},
     "output_type": "execute_result"
    }
   ],
   "source": [
    "dados.ndim"
   ]
  },
  {
   "cell_type": "markdown",
   "metadata": {
    "colab_type": "text",
    "id": "ESgVt5xOltpq"
   },
   "source": [
    "## *ndarray.size*\n",
    "\n",
    "Retorna o número de elementos do array."
   ]
  },
  {
   "cell_type": "code",
   "execution_count": 197,
   "metadata": {
    "colab": {},
    "colab_type": "code",
    "id": "BWr4efoiltpq"
   },
   "outputs": [
    {
     "data": {
      "text/plain": [
       "10"
      ]
     },
     "execution_count": 197,
     "metadata": {},
     "output_type": "execute_result"
    }
   ],
   "source": [
    "dados.size"
   ]
  },
  {
   "cell_type": "markdown",
   "metadata": {
    "colab_type": "text",
    "id": "Ox8JlBM3ltpr"
   },
   "source": [
    "## *ndarray.dtype*\n",
    "\n",
    "Retorna o tipo de dados dos elementos do array."
   ]
  },
  {
   "cell_type": "code",
   "execution_count": 198,
   "metadata": {
    "colab": {},
    "colab_type": "code",
    "id": "npiL84Vfltpu"
   },
   "outputs": [
    {
     "data": {
      "text/plain": [
       "dtype('float64')"
      ]
     },
     "execution_count": 198,
     "metadata": {},
     "output_type": "execute_result"
    }
   ],
   "source": [
    "dados.dtype"
   ]
  },
  {
   "cell_type": "markdown",
   "metadata": {
    "colab_type": "text",
    "id": "j7uPN16oltpv"
   },
   "source": [
    "## *ndarray.T*\n",
    "\n",
    "Retorna o array transposto, isto é, converte linhas em colunas e vice versa."
   ]
  },
  {
   "cell_type": "code",
   "execution_count": 199,
   "metadata": {
    "colab": {},
    "colab_type": "code",
    "id": "bLjrrx56ltpv"
   },
   "outputs": [
    {
     "data": {
      "text/plain": [
       "array([[44410.,  2003.],\n",
       "       [ 5712.,  1991.],\n",
       "       [37123.,  1990.],\n",
       "       [    0.,  2019.],\n",
       "       [25757.,  2006.]])"
      ]
     },
     "execution_count": 199,
     "metadata": {},
     "output_type": "execute_result"
    }
   ],
   "source": [
    "dados.T"
   ]
  },
  {
   "cell_type": "code",
   "execution_count": 200,
   "metadata": {
    "colab": {},
    "colab_type": "code",
    "id": "5A9SlJQvltpw"
   },
   "outputs": [
    {
     "data": {
      "text/plain": [
       "array([[44410.,  2003.],\n",
       "       [ 5712.,  1991.],\n",
       "       [37123.,  1990.],\n",
       "       [    0.,  2019.],\n",
       "       [25757.,  2006.]])"
      ]
     },
     "execution_count": 200,
     "metadata": {},
     "output_type": "execute_result"
    }
   ],
   "source": [
    "dados.transpose()"
   ]
  },
  {
   "cell_type": "markdown",
   "metadata": {
    "colab_type": "text",
    "id": "e9r6ryTrltpw"
   },
   "source": [
    "### Métodos\n",
    "\n",
    "https://numpy.org/doc/1.16/reference/arrays.ndarray.html#array-methods"
   ]
  },
  {
   "cell_type": "markdown",
   "metadata": {
    "colab_type": "text",
    "id": "SR9KYy-0ltpw"
   },
   "source": [
    "## *ndarray.tolist()*\n",
    "\n",
    "Retorna o array como uma lista Python."
   ]
  },
  {
   "cell_type": "code",
   "execution_count": 201,
   "metadata": {
    "colab": {},
    "colab_type": "code",
    "id": "C2aTAwOXltpw"
   },
   "outputs": [
    {
     "data": {
      "text/plain": [
       "[[44410.0, 5712.0, 37123.0, 0.0, 25757.0],\n",
       " [2003.0, 1991.0, 1990.0, 2019.0, 2006.0]]"
      ]
     },
     "execution_count": 201,
     "metadata": {},
     "output_type": "execute_result"
    }
   ],
   "source": [
    "#\n",
    "dados.tolist()"
   ]
  },
  {
   "cell_type": "markdown",
   "metadata": {
    "colab_type": "text",
    "id": "bHxcxugPltpx"
   },
   "source": [
    "## *ndarray.reshape(shape[, order])*\n",
    "\n",
    "Retorna um array que contém os mesmos dados com uma nova forma."
   ]
  },
  {
   "cell_type": "code",
   "execution_count": 202,
   "metadata": {
    "colab": {},
    "colab_type": "code",
    "id": "lwESxO71ltpx"
   },
   "outputs": [
    {
     "data": {
      "text/plain": [
       "array([0, 1, 2, 3, 4, 5, 6, 7, 8, 9])"
      ]
     },
     "execution_count": 202,
     "metadata": {},
     "output_type": "execute_result"
    }
   ],
   "source": [
    "contador = np.arange(10)\n",
    "contador"
   ]
  },
  {
   "cell_type": "code",
   "execution_count": 203,
   "metadata": {
    "colab": {},
    "colab_type": "code",
    "id": "sh9poyfzltpy"
   },
   "outputs": [
    {
     "data": {
      "text/plain": [
       "array([[0, 1, 2, 3, 4],\n",
       "       [5, 6, 7, 8, 9]])"
      ]
     },
     "execution_count": 203,
     "metadata": {},
     "output_type": "execute_result"
    }
   ],
   "source": [
    "contador.reshape((2, 5))"
   ]
  },
  {
   "cell_type": "code",
   "execution_count": 204,
   "metadata": {
    "colab": {},
    "colab_type": "code",
    "id": "5332Xu8-ltpy"
   },
   "outputs": [
    {
     "data": {
      "text/plain": [
       "array([[0, 1],\n",
       "       [2, 3],\n",
       "       [4, 5],\n",
       "       [6, 7],\n",
       "       [8, 9]])"
      ]
     },
     "execution_count": 204,
     "metadata": {},
     "output_type": "execute_result"
    }
   ],
   "source": [
    "contador.reshape((5, 2), order='C')"
   ]
  },
  {
   "cell_type": "code",
   "execution_count": 205,
   "metadata": {
    "colab": {},
    "colab_type": "code",
    "id": "2RoZvbgHltpz"
   },
   "outputs": [
    {
     "data": {
      "text/plain": [
       "array([[0, 5],\n",
       "       [1, 6],\n",
       "       [2, 7],\n",
       "       [3, 8],\n",
       "       [4, 9]])"
      ]
     },
     "execution_count": 205,
     "metadata": {},
     "output_type": "execute_result"
    }
   ],
   "source": [
    "contador.reshape((5, 2), order='F')"
   ]
  },
  {
   "cell_type": "code",
   "execution_count": 206,
   "metadata": {
    "colab": {},
    "colab_type": "code",
    "id": "6q0dJZ-dltp0"
   },
   "outputs": [],
   "source": [
    "km = [44410, 5712, 37123, 0, 25757]\n",
    "anos = [2003, 1991, 1990, 2019, 2006]"
   ]
  },
  {
   "cell_type": "code",
   "execution_count": 209,
   "metadata": {
    "colab": {},
    "colab_type": "code",
    "id": "bs56aGrkltp0"
   },
   "outputs": [
    {
     "data": {
      "text/plain": [
       "[44410, 5712, 37123, 0, 25757, 2003, 1991, 1990, 2019, 2006]"
      ]
     },
     "execution_count": 209,
     "metadata": {},
     "output_type": "execute_result"
    }
   ],
   "source": [
    "info_carros = km + anos\n",
    "info_carros"
   ]
  },
  {
   "cell_type": "code",
   "execution_count": 210,
   "metadata": {
    "colab": {},
    "colab_type": "code",
    "id": "s_GkTk2fltp1"
   },
   "outputs": [
    {
     "data": {
      "text/plain": [
       "array([[44410,  5712, 37123,     0, 25757],\n",
       "       [ 2003,  1991,  1990,  2019,  2006]])"
      ]
     },
     "execution_count": 210,
     "metadata": {},
     "output_type": "execute_result"
    }
   ],
   "source": [
    "np.array(info_carros).reshape((2, 5))\n"
   ]
  },
  {
   "cell_type": "code",
   "execution_count": 211,
   "metadata": {
    "colab": {},
    "colab_type": "code",
    "id": "xodm8DVZltp1"
   },
   "outputs": [
    {
     "data": {
      "text/plain": [
       "array([[44410,  2003],\n",
       "       [ 5712,  1991],\n",
       "       [37123,  1990],\n",
       "       [    0,  2019],\n",
       "       [25757,  2006]])"
      ]
     },
     "execution_count": 211,
     "metadata": {},
     "output_type": "execute_result"
    }
   ],
   "source": [
    "np.array(info_carros).reshape(((5, 2)), order='F')\n"
   ]
  },
  {
   "cell_type": "markdown",
   "metadata": {
    "colab_type": "text",
    "id": "Tdj5iArbltp2"
   },
   "source": [
    "## *ndarray.resize(new_shape[, refcheck])*\n",
    "\n",
    "Altera a forma e o tamanho do array."
   ]
  },
  {
   "cell_type": "code",
   "execution_count": 212,
   "metadata": {
    "colab": {},
    "colab_type": "code",
    "id": "vB2zxCDtltp2"
   },
   "outputs": [
    {
     "data": {
      "text/plain": [
       "array([[44410.,  5712., 37123.,     0., 25757.],\n",
       "       [ 2003.,  1991.,  1990.,  2019.,  2006.]])"
      ]
     },
     "execution_count": 212,
     "metadata": {},
     "output_type": "execute_result"
    }
   ],
   "source": [
    "dados_new = dados.copy()\n",
    "dados_new"
   ]
  },
  {
   "cell_type": "code",
   "execution_count": 215,
   "metadata": {
    "colab": {},
    "colab_type": "code",
    "id": "IMv0m4Multp2"
   },
   "outputs": [
    {
     "data": {
      "text/plain": [
       "array([[44410.,  5712., 37123.,     0., 25757.],\n",
       "       [ 2003.,  1991.,  1990.,  2019.,  2006.],\n",
       "       [    0.,     0.,     0.,     0.,     0.]])"
      ]
     },
     "execution_count": 215,
     "metadata": {},
     "output_type": "execute_result"
    }
   ],
   "source": [
    "dados_new.resize((3, 5), refcheck=False)\n",
    "dados_new"
   ]
  },
  {
   "cell_type": "code",
   "execution_count": 216,
   "metadata": {
    "colab": {},
    "colab_type": "code",
    "id": "wpAi9928ltp3"
   },
   "outputs": [
    {
     "name": "stderr",
     "output_type": "stream",
     "text": [
      "C:\\ProgramData\\anaconda.3\\lib\\site-packages\\ipykernel_launcher.py:1: RuntimeWarning: invalid value encountered in true_divide\n",
      "  \"\"\"Entry point for launching an IPython kernel.\n"
     ]
    }
   ],
   "source": [
    "dados_new[2] = dados_new[0]/(2019 - dados_new[1])\n"
   ]
  },
  {
   "cell_type": "code",
   "execution_count": 217,
   "metadata": {
    "colab": {},
    "colab_type": "code",
    "id": "CJyuKqaFltp3"
   },
   "outputs": [
    {
     "data": {
      "text/plain": [
       "array([[44410.        ,  5712.        , 37123.        ,     0.        ,\n",
       "        25757.        ],\n",
       "       [ 2003.        ,  1991.        ,  1990.        ,  2019.        ,\n",
       "         2006.        ],\n",
       "       [ 2775.625     ,   204.        ,  1280.10344828,            nan,\n",
       "         1981.30769231]])"
      ]
     },
     "execution_count": 217,
     "metadata": {},
     "output_type": "execute_result"
    }
   ],
   "source": [
    "dados_new"
   ]
  },
  {
   "cell_type": "code",
   "execution_count": null,
   "metadata": {
    "colab": {},
    "colab_type": "code",
    "id": "bj_iPZAultp4"
   },
   "outputs": [],
   "source": []
  },
  {
   "cell_type": "markdown",
   "metadata": {
    "colab_type": "text",
    "id": "GPSk7Q_Dltp4"
   },
   "source": [
    "# 5.5 Estatísticas com arrays Numpy\n",
    "\n",
    "https://numpy.org/doc/1.16/reference/arrays.ndarray.html#calculation\n",
    "\n",
    "e\n",
    "\n",
    "https://numpy.org/doc/1.16/reference/routines.statistics.html\n",
    "\n",
    "e\n",
    "\n",
    "https://numpy.org/doc/1.16/reference/routines.math.html"
   ]
  },
  {
   "cell_type": "code",
   "execution_count": 218,
   "metadata": {
    "colab": {},
    "colab_type": "code",
    "id": "RH2u1orXltp5"
   },
   "outputs": [],
   "source": [
    "anos = np.loadtxt(fname = \"carros-anos.txt\", dtype = int)\n",
    "km = np.loadtxt(fname = \"carros-km.txt\")\n",
    "valor = np.loadtxt(fname = \"carros-valor.txt\")"
   ]
  },
  {
   "cell_type": "code",
   "execution_count": 219,
   "metadata": {
    "colab": {},
    "colab_type": "code",
    "id": "wbITF7r6ltp5"
   },
   "outputs": [
    {
     "data": {
      "text/plain": [
       "(258,)"
      ]
     },
     "execution_count": 219,
     "metadata": {},
     "output_type": "execute_result"
    }
   ],
   "source": [
    "anos.shape"
   ]
  },
  {
   "cell_type": "markdown",
   "metadata": {
    "colab_type": "text",
    "id": "U_x3SOVDltp7"
   },
   "source": [
    "https://numpy.org/doc/1.16/reference/generated/numpy.column_stack.html"
   ]
  },
  {
   "cell_type": "code",
   "execution_count": 220,
   "metadata": {
    "colab": {},
    "colab_type": "code",
    "id": "wefxl-XBltp8"
   },
   "outputs": [
    {
     "data": {
      "text/plain": [
       "array([[2.0030000e+03, 4.4410000e+04, 8.8078640e+04],\n",
       "       [1.9910000e+03, 5.7120000e+03, 1.0616194e+05],\n",
       "       [1.9900000e+03, 3.7123000e+04, 7.2832160e+04],\n",
       "       [2.0190000e+03, 0.0000000e+00, 1.2454907e+05],\n",
       "       [2.0060000e+03, 2.5757000e+04, 9.2612100e+04],\n",
       "       [2.0120000e+03, 1.0728000e+04, 9.7497730e+04],\n",
       "       [2.0190000e+03, 0.0000000e+00, 5.6445200e+04],\n",
       "       [2.0090000e+03, 7.7599000e+04, 1.1231044e+05],\n",
       "       [2.0100000e+03, 9.9197000e+04, 1.2071627e+05],\n",
       "       [2.0110000e+03, 3.7978000e+04, 7.6566490e+04],\n",
       "       [2.0020000e+03, 1.2859000e+04, 7.1647590e+04],\n",
       "       [2.0070000e+03, 8.0520000e+03, 7.3919530e+04],\n",
       "       [2.0010000e+03, 8.9773000e+04, 1.1273299e+05],\n",
       "       [2.0190000e+03, 0.0000000e+00, 5.3183380e+04],\n",
       "       [2.0090000e+03, 4.1457000e+04, 1.2748842e+05],\n",
       "       [2.0160000e+03, 1.1560700e+05, 5.9910400e+04],\n",
       "       [2.0120000e+03, 4.6449000e+04, 6.1118590e+04],\n",
       "       [2.0190000e+03, 0.0000000e+00, 8.8552390e+04],\n",
       "       [2.0160000e+03, 3.7086000e+04, 6.2696690e+04],\n",
       "       [2.0170000e+03, 1.5173000e+04, 1.0172630e+05],\n",
       "       [2.0020000e+03, 1.0119300e+05, 1.0614738e+05],\n",
       "       [2.0190000e+03, 0.0000000e+00, 9.4564400e+04],\n",
       "       [1.9940000e+03, 9.8079000e+04, 1.3352984e+05],\n",
       "       [1.9910000e+03, 1.0295900e+05, 1.2568465e+05],\n",
       "       [2.0190000e+03, 0.0000000e+00, 1.2159621e+05],\n",
       "       [2.0190000e+03, 0.0000000e+00, 7.1367100e+04],\n",
       "       [2.0160000e+03, 5.7950000e+03, 9.5347750e+04],\n",
       "       [2.0190000e+03, 0.0000000e+00, 1.0543284e+05],\n",
       "       [2.0020000e+03, 5.8848000e+04, 5.7045270e+04],\n",
       "       [1.9910000e+03, 9.4381000e+04, 1.2043270e+05],\n",
       "       [1.9970000e+03, 3.0163000e+04, 7.0707200e+04],\n",
       "       [1.9950000e+03, 5.3332000e+04, 6.9105180e+04],\n",
       "       [2.0180000e+03, 1.7720000e+04, 5.9358690e+04],\n",
       "       [1.9910000e+03, 3.3808000e+04, 6.5955400e+04],\n",
       "       [2.0140000e+03, 9.0684000e+04, 6.0017030e+04],\n",
       "       [1.9950000e+03, 4.3975000e+04, 1.1890952e+05],\n",
       "       [2.0190000e+03, 0.0000000e+00, 5.1606590e+04],\n",
       "       [2.0190000e+03, 0.0000000e+00, 1.2328187e+05],\n",
       "       [2.0090000e+03, 5.5260000e+03, 6.9770180e+04],\n",
       "       [2.0190000e+03, 0.0000000e+00, 1.0260954e+05],\n",
       "       [2.0130000e+03, 9.3415000e+04, 6.7997190e+04],\n",
       "       [2.0030000e+03, 4.0762000e+04, 1.3523529e+05],\n",
       "       [2.0190000e+03, 0.0000000e+00, 8.6641340e+04],\n",
       "       [2.0020000e+03, 8.6302000e+04, 1.3681839e+05],\n",
       "       [2.0190000e+03, 0.0000000e+00, 1.1762673e+05],\n",
       "       [2.0020000e+03, 9.7550000e+03, 5.6208700e+04],\n",
       "       [2.0040000e+03, 6.9945000e+04, 8.4222650e+04],\n",
       "       [2.0010000e+03, 2.3950000e+03, 9.0781650e+04],\n",
       "       [2.0190000e+03, 0.0000000e+00, 6.4701100e+04],\n",
       "       [2.0030000e+03, 8.0349000e+04, 1.2635049e+05],\n",
       "       [2.0090000e+03, 8.5554000e+04, 1.4815289e+05],\n",
       "       [2.0060000e+03, 5.0496000e+04, 1.3229883e+05],\n",
       "       [2.0000000e+03, 6.7716000e+04, 1.3762763e+05],\n",
       "       [2.0060000e+03, 9.3947000e+04, 8.0422710e+04],\n",
       "       [2.0100000e+03, 3.5345000e+04, 5.6373990e+04],\n",
       "       [1.9940000e+03, 8.1007000e+04, 7.0846030e+04],\n",
       "       [2.0070000e+03, 1.1951300e+05, 1.2869423e+05],\n",
       "       [2.0190000e+03, 0.0000000e+00, 1.3332919e+05],\n",
       "       [2.0190000e+03, 0.0000000e+00, 1.3196143e+05],\n",
       "       [2.0190000e+03, 0.0000000e+00, 1.1203327e+05],\n",
       "       [2.0190000e+03, 0.0000000e+00, 8.1399350e+04],\n",
       "       [2.0190000e+03, 0.0000000e+00, 9.7163100e+04],\n",
       "       [2.0170000e+03, 1.1889500e+05, 6.6007160e+04],\n",
       "       [2.0110000e+03, 4.8509000e+04, 1.2877622e+05],\n",
       "       [2.0010000e+03, 1.0091200e+05, 1.4262302e+05],\n",
       "       [1.9960000e+03, 9.5649000e+04, 1.3693013e+05],\n",
       "       [2.0190000e+03, 0.0000000e+00, 6.6526610e+04],\n",
       "       [1.9940000e+03, 9.0495000e+04, 1.1415487e+05],\n",
       "       [2.0190000e+03, 0.0000000e+00, 1.4239275e+05],\n",
       "       [2.0070000e+03, 2.9132000e+04, 1.4671691e+05],\n",
       "       [1.9940000e+03, 2.3802000e+04, 1.2248568e+05],\n",
       "       [2.0070000e+03, 8.4992000e+04, 9.7951030e+04],\n",
       "       [1.9970000e+03, 5.4395000e+04, 7.8283490e+04],\n",
       "       [2.0060000e+03, 2.6731000e+04, 8.3434040e+04],\n",
       "       [2.0130000e+03, 4.4329000e+04, 7.7836230e+04],\n",
       "       [1.9940000e+03, 1.1823600e+05, 6.0813920e+04],\n",
       "       [2.0080000e+03, 1.1380800e+05, 9.1353860e+04],\n",
       "       [2.0080000e+03, 6.1000000e+02, 1.1628121e+05],\n",
       "       [2.0190000e+03, 0.0000000e+00, 1.4519770e+05],\n",
       "       [2.0190000e+03, 0.0000000e+00, 5.0742100e+04],\n",
       "       [1.9990000e+03, 1.2887000e+04, 7.3033530e+04],\n",
       "       [2.0070000e+03, 7.9607000e+04, 5.4332870e+04],\n",
       "       [1.9930000e+03, 9.0924000e+04, 5.2207450e+04],\n",
       "       [1.9950000e+03, 4.2733000e+04, 6.3578500e+04],\n",
       "       [2.0190000e+03, 0.0000000e+00, 6.4507720e+04],\n",
       "       [2.0190000e+03, 0.0000000e+00, 1.1507559e+05],\n",
       "       [2.0160000e+03, 1.1771400e+05, 1.3303060e+05],\n",
       "       [2.0110000e+03, 1.1388500e+05, 1.4159186e+05],\n",
       "       [2.0190000e+03, 0.0000000e+00, 1.0038028e+05],\n",
       "       [2.0020000e+03, 3.0511000e+04, 9.6369040e+04],\n",
       "       [2.0130000e+03, 7.4867000e+04, 1.4260384e+05],\n",
       "       [2.0170000e+03, 1.1976000e+05, 1.1770967e+05],\n",
       "       [2.0160000e+03, 8.3560000e+03, 1.0224154e+05],\n",
       "       [2.0080000e+03, 6.4247000e+04, 9.6065380e+04],\n",
       "       [2.0180000e+03, 8.8661000e+04, 5.3894610e+04],\n",
       "       [2.0030000e+03, 4.5390000e+03, 1.2391178e+05],\n",
       "       [2.0030000e+03, 1.1011600e+05, 1.0199635e+05],\n",
       "       [2.0040000e+03, 3.3215000e+04, 8.3431660e+04],\n",
       "       [2.0100000e+03, 9.2001000e+04, 1.2297563e+05],\n",
       "       [2.0190000e+03, 0.0000000e+00, 9.3227730e+04],\n",
       "       [2.0060000e+03, 8.1708000e+04, 5.8762650e+04],\n",
       "       [2.0010000e+03, 7.0641000e+04, 1.3954967e+05],\n",
       "       [2.0190000e+03, 0.0000000e+00, 1.2201642e+05],\n",
       "       [2.0150000e+03, 9.1277000e+04, 7.2731980e+04],\n",
       "       [2.0180000e+03, 2.6544000e+04, 8.8416540e+04],\n",
       "       [2.0170000e+03, 5.2596000e+04, 7.3873420e+04],\n",
       "       [1.9920000e+03, 4.7503000e+04, 7.0709340e+04],\n",
       "       [2.0010000e+03, 8.9056000e+04, 1.1530650e+05],\n",
       "       [1.9930000e+03, 2.8834000e+04, 5.5924630e+04],\n",
       "       [1.9950000e+03, 1.1056400e+05, 8.5052260e+04],\n",
       "       [2.0030000e+03, 5.6638000e+04, 5.6646340e+04],\n",
       "       [2.0140000e+03, 1.7357000e+04, 1.3894688e+05],\n",
       "       [2.0080000e+03, 7.4015000e+04, 1.0825672e+05],\n",
       "       [2.0130000e+03, 1.5196000e+04, 5.8979300e+04],\n",
       "       [2.0190000e+03, 0.0000000e+00, 1.1472768e+05],\n",
       "       [2.0170000e+03, 1.0821000e+04, 1.3966148e+05],\n",
       "       [2.0190000e+03, 0.0000000e+00, 8.0382240e+04],\n",
       "       [2.0190000e+03, 0.0000000e+00, 1.4915717e+05],\n",
       "       [2.0060000e+03, 9.5950000e+03, 8.7830410e+04],\n",
       "       [2.0150000e+03, 9.9052000e+04, 1.4356822e+05],\n",
       "       [2.0070000e+03, 5.2389000e+04, 1.3817185e+05],\n",
       "       [2.0050000e+03, 1.1994500e+05, 1.1578495e+05],\n",
       "       [2.0170000e+03, 9.6005000e+04, 1.4650899e+05],\n",
       "       [1.9980000e+03, 3.1639000e+04, 1.3767023e+05],\n",
       "       [2.0190000e+03, 0.0000000e+00, 1.3859727e+05],\n",
       "       [1.9990000e+03, 8.0187000e+04, 1.4762781e+05],\n",
       "       [2.0190000e+03, 0.0000000e+00, 6.2999020e+04],\n",
       "       [2.0090000e+03, 5.8212000e+04, 9.1242440e+04],\n",
       "       [2.0030000e+03, 6.1672000e+04, 1.4948992e+05],\n",
       "       [1.9940000e+03, 3.2017000e+04, 6.3529950e+04],\n",
       "       [2.0190000e+03, 0.0000000e+00, 5.8525410e+04],\n",
       "       [1.9940000e+03, 5.6944000e+04, 9.0345050e+04],\n",
       "       [2.0190000e+03, 0.0000000e+00, 1.4777087e+05],\n",
       "       [2.0150000e+03, 8.6519000e+04, 1.0661771e+05],\n",
       "       [1.9960000e+03, 4.8210000e+03, 1.0492988e+05],\n",
       "       [1.9970000e+03, 1.0102500e+05, 1.0071245e+05],\n",
       "       [1.9930000e+03, 3.0705000e+04, 1.4198293e+05],\n",
       "       [2.0190000e+03, 0.0000000e+00, 1.0403879e+05],\n",
       "       [1.9920000e+03, 3.2555000e+04, 8.8501540e+04],\n",
       "       [1.9950000e+03, 1.0338900e+05, 7.9782020e+04],\n",
       "       [2.0190000e+03, 0.0000000e+00, 8.6224100e+04],\n",
       "       [1.9900000e+03, 5.5289000e+04, 1.0359618e+05],\n",
       "       [2.0190000e+03, 0.0000000e+00, 1.4899647e+05],\n",
       "       [2.0190000e+03, 0.0000000e+00, 6.0948010e+04],\n",
       "       [1.9910000e+03, 1.1593000e+05, 6.9535440e+04],\n",
       "       [1.9900000e+03, 6.6437000e+04, 1.1113033e+05],\n",
       "       [2.0120000e+03, 9.6800000e+04, 6.5847690e+04],\n",
       "       [2.0070000e+03, 1.4237000e+04, 7.8096060e+04],\n",
       "       [2.0130000e+03, 1.9896000e+04, 6.9219890e+04],\n",
       "       [2.0000000e+03, 1.1304500e+05, 1.4411891e+05],\n",
       "       [2.0020000e+03, 1.1494200e+05, 7.7397050e+04],\n",
       "       [1.9960000e+03, 3.1730000e+03, 6.8974250e+04],\n",
       "       [1.9960000e+03, 8.3611000e+04, 1.2523130e+05],\n",
       "       [2.0150000e+03, 2.5356000e+04, 8.5501120e+04],\n",
       "       [1.9930000e+03, 8.8634000e+04, 1.3711621e+05],\n",
       "       [2.0130000e+03, 2.3140000e+03, 1.3882381e+05],\n",
       "       [2.0130000e+03, 2.6270000e+03, 1.1796195e+05],\n",
       "       [2.0090000e+03, 5.2034000e+04, 1.3266232e+05],\n",
       "       [2.0190000e+03, 0.0000000e+00, 1.4640579e+05],\n",
       "       [2.0190000e+03, 0.0000000e+00, 8.1999210e+04],\n",
       "       [2.0020000e+03, 7.9577000e+04, 1.4093460e+05],\n",
       "       [1.9970000e+03, 1.0820100e+05, 8.2366810e+04],\n",
       "       [1.9980000e+03, 7.6453000e+04, 7.0424110e+04],\n",
       "       [2.0040000e+03, 5.7683000e+04, 5.3620310e+04],\n",
       "       [1.9960000e+03, 9.6610000e+04, 7.3389180e+04],\n",
       "       [2.0150000e+03, 1.0900100e+05, 1.1161812e+05],\n",
       "       [2.0160000e+03, 2.6212000e+04, 1.1218737e+05],\n",
       "       [2.0050000e+03, 4.5971000e+04, 1.2081257e+05],\n",
       "       [1.9990000e+03, 4.9182000e+04, 1.1603104e+05],\n",
       "       [1.9950000e+03, 4.9907000e+04, 1.2539811e+05],\n",
       "       [1.9930000e+03, 3.8620000e+04, 7.6101470e+04],\n",
       "       [2.0040000e+03, 6.0996000e+04, 7.5263240e+04],\n",
       "       [2.0130000e+03, 7.3914000e+04, 1.4738776e+05],\n",
       "       [1.9980000e+03, 1.0739200e+05, 8.5311400e+04],\n",
       "       [2.0180000e+03, 9.1460000e+03, 5.4388110e+04],\n",
       "       [2.0190000e+03, 0.0000000e+00, 1.2415665e+05],\n",
       "       [2.0180000e+03, 1.7924000e+04, 1.4620334e+05],\n",
       "       [2.0190000e+03, 0.0000000e+00, 5.6453940e+04],\n",
       "       [1.9900000e+03, 1.1694900e+05, 6.8873790e+04],\n",
       "       [2.0090000e+03, 2.0476000e+04, 9.1667610e+04],\n",
       "       [1.9900000e+03, 5.2804000e+04, 9.3776520e+04],\n",
       "       [2.0060000e+03, 8.8490000e+03, 6.6433820e+04],\n",
       "       [2.0020000e+03, 9.1724000e+04, 1.0905927e+05],\n",
       "       [1.9910000e+03, 3.2056000e+04, 1.2206997e+05],\n",
       "       [1.9920000e+03, 7.4886000e+04, 1.1309032e+05],\n",
       "       [2.0190000e+03, 0.0000000e+00, 8.9401100e+04],\n",
       "       [2.0190000e+03, 0.0000000e+00, 5.6842790e+04],\n",
       "       [2.0050000e+03, 5.2189000e+04, 1.4667671e+05],\n",
       "       [2.0100000e+03, 8.3559000e+04, 8.9511960e+04],\n",
       "       [2.0190000e+03, 0.0000000e+00, 9.7290180e+04],\n",
       "       [2.0160000e+03, 2.0328000e+04, 1.2067356e+05],\n",
       "       [2.0190000e+03, 0.0000000e+00, 1.1443494e+05],\n",
       "       [2.0100000e+03, 7.5577000e+04, 1.3954669e+05],\n",
       "       [1.9940000e+03, 3.3659000e+04, 9.5078160e+04],\n",
       "       [2.0010000e+03, 1.0434100e+05, 6.8091770e+04],\n",
       "       [2.0140000e+03, 2.5510000e+04, 6.1496970e+04],\n",
       "       [1.9960000e+03, 1.8965000e+04, 1.3966930e+05],\n",
       "       [1.9930000e+03, 8.7161000e+04, 8.0661390e+04],\n",
       "       [1.9930000e+03, 6.6520000e+03, 6.1783650e+04],\n",
       "       [2.0010000e+03, 5.5738000e+04, 5.2805910e+04],\n",
       "       [2.0190000e+03, 0.0000000e+00, 1.2702475e+05],\n",
       "       [2.0190000e+03, 0.0000000e+00, 1.3554300e+05],\n",
       "       [2.0190000e+03, 0.0000000e+00, 1.2170873e+05],\n",
       "       [2.0070000e+03, 6.4320000e+04, 1.0734268e+05],\n",
       "       [2.0190000e+03, 0.0000000e+00, 5.7888100e+04],\n",
       "       [2.0160000e+03, 6.8678000e+04, 1.1816148e+05],\n",
       "       [2.0140000e+03, 7.1697000e+04, 1.4249906e+05],\n",
       "       [2.0190000e+03, 0.0000000e+00, 1.2839611e+05],\n",
       "       [2.0150000e+03, 3.4783000e+04, 1.1235061e+05],\n",
       "       [2.0150000e+03, 3.3772000e+04, 1.2466138e+05],\n",
       "       [1.9960000e+03, 8.5127000e+04, 5.4263160e+04],\n",
       "       [2.0020000e+03, 1.3606000e+04, 6.2041320e+04],\n",
       "       [2.0050000e+03, 3.5647000e+04, 1.2929611e+05],\n",
       "       [1.9950000e+03, 9.5128000e+04, 6.0998330e+04],\n",
       "       [1.9990000e+03, 1.4046000e+04, 5.8008500e+04],\n",
       "       [2.0050000e+03, 4.1194000e+04, 8.2304190e+04],\n",
       "       [2.0190000e+03, 0.0000000e+00, 1.1453174e+05],\n",
       "       [1.9970000e+03, 9.6100000e+04, 1.2856561e+05],\n",
       "       [1.9900000e+03, 1.0390000e+05, 1.2648826e+05],\n",
       "       [2.0010000e+03, 4.3814000e+04, 1.1907455e+05],\n",
       "       [2.0130000e+03, 2.4638000e+04, 1.3023804e+05],\n",
       "       [2.0190000e+03, 0.0000000e+00, 1.1576017e+05],\n",
       "       [2.0170000e+03, 1.1096600e+05, 1.2124800e+05],\n",
       "       [2.0110000e+03, 1.5987000e+04, 9.8156350e+04],\n",
       "       [2.0050000e+03, 5.3369000e+04, 1.1214680e+05],\n",
       "       [2.0070000e+03, 1.0077000e+04, 1.0272963e+05],\n",
       "       [1.9930000e+03, 7.1544000e+04, 1.4108335e+05],\n",
       "       [1.9910000e+03, 1.0700000e+02, 1.0296876e+05],\n",
       "       [1.9910000e+03, 8.3940000e+03, 7.6310010e+04],\n",
       "       [1.9970000e+03, 4.1498000e+04, 1.2048174e+05],\n",
       "       [2.0000000e+03, 1.1600200e+05, 5.4559180e+04],\n",
       "       [2.0070000e+03, 1.0085800e+05, 9.2957640e+04],\n",
       "       [2.0060000e+03, 6.7475000e+04, 1.2781006e+05],\n",
       "       [2.0150000e+03, 8.4970000e+03, 7.3311750e+04],\n",
       "       [2.0080000e+03, 4.4200000e+03, 6.5138030e+04],\n",
       "       [2.0190000e+03, 0.0000000e+00, 9.0141470e+04],\n",
       "       [1.9960000e+03, 5.8537000e+04, 7.1160360e+04],\n",
       "       [2.0190000e+03, 0.0000000e+00, 6.7539790e+04],\n",
       "       [2.0190000e+03, 0.0000000e+00, 6.7664860e+04],\n",
       "       [2.0140000e+03, 1.1201600e+05, 6.8652160e+04],\n",
       "       [2.0040000e+03, 9.1840000e+04, 1.1472874e+05],\n",
       "       [2.0080000e+03, 1.1278700e+05, 1.4164508e+05],\n",
       "       [2.0190000e+03, 0.0000000e+00, 1.2624784e+05],\n",
       "       [2.0190000e+03, 0.0000000e+00, 1.2885221e+05],\n",
       "       [2.0120000e+03, 9.2930000e+03, 1.3238476e+05],\n",
       "       [2.0190000e+03, 0.0000000e+00, 1.2941533e+05],\n",
       "       [1.9960000e+03, 5.5083000e+04, 8.9536820e+04],\n",
       "       [2.0110000e+03, 4.8796000e+04, 8.7975300e+04],\n",
       "       [2.0190000e+03, 0.0000000e+00, 7.7675790e+04],\n",
       "       [2.0100000e+03, 8.9685000e+04, 5.8881670e+04],\n",
       "       [2.0070000e+03, 8.5384000e+04, 5.5081990e+04],\n",
       "       [1.9940000e+03, 9.8108000e+04, 1.1882644e+05],\n",
       "       [2.0070000e+03, 7.1280000e+04, 1.3762762e+05],\n",
       "       [2.0140000e+03, 2.7505000e+04, 5.1759580e+04],\n",
       "       [1.9910000e+03, 2.9981000e+04, 5.1667060e+04],\n",
       "       [2.0020000e+03, 5.2637000e+04, 6.8934030e+04],\n",
       "       [1.9960000e+03, 7.6850000e+03, 1.2211090e+05],\n",
       "       [1.9920000e+03, 5.0188000e+04, 9.0381470e+04]])"
      ]
     },
     "execution_count": 220,
     "metadata": {},
     "output_type": "execute_result"
    }
   ],
   "source": [
    "dataset = np.column_stack((anos, km, valor))\n",
    "dataset\n"
   ]
  },
  {
   "cell_type": "code",
   "execution_count": 221,
   "metadata": {
    "colab": {},
    "colab_type": "code",
    "id": "OzDTTmj8ltp_",
    "scrolled": true
   },
   "outputs": [
    {
     "data": {
      "text/plain": [
       "(258, 3)"
      ]
     },
     "execution_count": 221,
     "metadata": {},
     "output_type": "execute_result"
    }
   ],
   "source": [
    "dataset.shape"
   ]
  },
  {
   "cell_type": "markdown",
   "metadata": {
    "colab_type": "text",
    "id": "Me6yUU_RltqA"
   },
   "source": [
    "## *np.mean()*\n",
    "\n",
    "Retorna a média dos elementos do array ao longo do eixo especificado."
   ]
  },
  {
   "cell_type": "code",
   "execution_count": 222,
   "metadata": {
    "colab": {},
    "colab_type": "code",
    "id": "MNEKcP38ltqA"
   },
   "outputs": [
    {
     "data": {
      "text/plain": [
       "48489.14648578811"
      ]
     },
     "execution_count": 222,
     "metadata": {},
     "output_type": "execute_result"
    }
   ],
   "source": [
    "np.mean(dataset)"
   ]
  },
  {
   "cell_type": "code",
   "execution_count": 223,
   "metadata": {
    "colab": {},
    "colab_type": "code",
    "id": "sekHQ84zltqB"
   },
   "outputs": [
    {
     "data": {
      "text/plain": [
       "array([ 2007.51162791, 44499.41472868, 98960.51310078])"
      ]
     },
     "execution_count": 223,
     "metadata": {},
     "output_type": "execute_result"
    }
   ],
   "source": [
    "np.mean(dataset, axis=0)"
   ]
  },
  {
   "cell_type": "code",
   "execution_count": 226,
   "metadata": {
    "colab": {},
    "colab_type": "code",
    "id": "RpyETIVSltqC"
   },
   "outputs": [
    {
     "data": {
      "text/plain": [
       "44499.41472868217"
      ]
     },
     "execution_count": 226,
     "metadata": {},
     "output_type": "execute_result"
    }
   ],
   "source": [
    "#Média da primeira coluna\n",
    "np.mean(dataset[:,1])\n"
   ]
  },
  {
   "cell_type": "code",
   "execution_count": 227,
   "metadata": {
    "colab": {},
    "colab_type": "code",
    "id": "_-kpcTI8ltqD",
    "scrolled": true
   },
   "outputs": [
    {
     "data": {
      "text/plain": [
       "98960.51310077519"
      ]
     },
     "execution_count": 227,
     "metadata": {},
     "output_type": "execute_result"
    }
   ],
   "source": [
    "np.mean(dataset[:, 2])"
   ]
  },
  {
   "cell_type": "markdown",
   "metadata": {
    "colab_type": "text",
    "id": "71jViVBUltqE"
   },
   "source": [
    "## *np.std()*\n",
    "\n",
    "Retorna o desvio padrão dos elementos do array ao longo do eixo especificado."
   ]
  },
  {
   "cell_type": "code",
   "execution_count": 229,
   "metadata": {
    "colab": {},
    "colab_type": "code",
    "id": "lEwUbPx2ltqE",
    "scrolled": true
   },
   "outputs": [
    {
     "data": {
      "text/plain": [
       "29754.101150388564"
      ]
     },
     "execution_count": 229,
     "metadata": {},
     "output_type": "execute_result"
    }
   ],
   "source": [
    "#Desvio Padrão\n",
    "np.std(dataset[:, 2])"
   ]
  },
  {
   "cell_type": "markdown",
   "metadata": {
    "colab_type": "text",
    "id": "JTUH-vAeltqG"
   },
   "source": [
    "## *ndarray.sum()*\n",
    "\n",
    "Retorna a soma dos elementos do array ao longo do eixo especificado."
   ]
  },
  {
   "cell_type": "code",
   "execution_count": 230,
   "metadata": {
    "colab": {},
    "colab_type": "code",
    "id": "jIi3yoaWltqG"
   },
   "outputs": [
    {
     "data": {
      "text/plain": [
       "array([  517938.        , 11480849.        , 25531812.37999999])"
      ]
     },
     "execution_count": 230,
     "metadata": {},
     "output_type": "execute_result"
    }
   ],
   "source": [
    "dataset.sum(axis=0)\n"
   ]
  },
  {
   "cell_type": "code",
   "execution_count": 233,
   "metadata": {
    "colab": {},
    "colab_type": "code",
    "id": "X3QYbdYLltqH"
   },
   "outputs": [
    {
     "data": {
      "text/plain": [
       "11480849.0"
      ]
     },
     "execution_count": 233,
     "metadata": {},
     "output_type": "execute_result"
    }
   ],
   "source": [
    "dataset[:,1].sum()\n"
   ]
  },
  {
   "cell_type": "markdown",
   "metadata": {
    "colab_type": "text",
    "id": "WbBD5ixaltqH"
   },
   "source": [
    "## *np.sum()*\n",
    "\n",
    "Retorna a soma dos elementos do array ao longo do eixo especificado."
   ]
  },
  {
   "cell_type": "code",
   "execution_count": 234,
   "metadata": {
    "colab": {},
    "colab_type": "code",
    "id": "omB6kgWgltqH"
   },
   "outputs": [
    {
     "data": {
      "text/plain": [
       "array([  517938.        , 11480849.        , 25531812.37999999])"
      ]
     },
     "execution_count": 234,
     "metadata": {},
     "output_type": "execute_result"
    }
   ],
   "source": [
    "np.sum(dataset, axis=0)"
   ]
  },
  {
   "cell_type": "code",
   "execution_count": 235,
   "metadata": {
    "colab": {},
    "colab_type": "code",
    "id": "LiD4G3kQltqI"
   },
   "outputs": [
    {
     "data": {
      "text/plain": [
       "25531812.38"
      ]
     },
     "execution_count": 235,
     "metadata": {},
     "output_type": "execute_result"
    }
   ],
   "source": [
    "np.sum(dataset[:, 2])"
   ]
  },
  {
   "cell_type": "code",
   "execution_count": null,
   "metadata": {
    "colab": {},
    "colab_type": "code",
    "id": "kpakpnntltqJ"
   },
   "outputs": [],
   "source": []
  }
 ],
 "metadata": {
  "colab": {
   "name": "Python_Data_Science_Numpy.ipynb",
   "provenance": []
  },
  "kernelspec": {
   "display_name": "Python 3",
   "language": "python",
   "name": "python3"
  },
  "language_info": {
   "codemirror_mode": {
    "name": "ipython",
    "version": 3
   },
   "file_extension": ".py",
   "mimetype": "text/x-python",
   "name": "python",
   "nbconvert_exporter": "python",
   "pygments_lexer": "ipython3",
   "version": "3.7.6"
  }
 },
 "nbformat": 4,
 "nbformat_minor": 1
}
